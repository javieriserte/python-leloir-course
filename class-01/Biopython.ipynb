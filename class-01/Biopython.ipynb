{
 "cells": [
  {
   "cell_type": "markdown",
   "metadata": {},
   "source": [
    "## Lectura de archivos de alineamientos múltiples de secuencias.\n",
    "\n",
    "El módulo Bio.AlignIO contiene funciones que permiten leer archivos de MSA.\n",
    "\n",
    "La función *read* lee el contenido de un archivo.\n",
    "Se lo puede convertir en una lista para acceder a cada secuencia.\n",
    "Es necesario especificar el formato de los archivos de entrada."
   ]
  },
  {
   "cell_type": "code",
   "execution_count": null,
   "metadata": {},
   "outputs": [],
   "source": [
    "from Bio import AlignIO\n",
    "\n",
    "seqs = AlignIO.read(\"data/some_sequences.fasta\", format=\"fasta\")\n",
    "seqs = list(seqs)\n",
    "print(seqs)"
   ]
  },
  {
   "cell_type": "markdown",
   "metadata": {},
   "source": [
    "Cada secuencia individual se representa como un objeto de tipo *SeqRecord*.\n",
    "\n",
    "* Un *SeqRecord* tiene dos atributos importantes: *id* y *seq*. \n",
    " * El *id* es un string que contiene el nombre o identificador de la secuencia, \n",
    " * y *seq* es un objeto de tipo *Seq* que contiene los datos de la secuencia.\n",
    "* Un objeto *Seq* tiene la secuencia propiamente dicha y un alfabeto.\n"
   ]
  },
  {
   "cell_type": "code",
   "execution_count": null,
   "metadata": {},
   "outputs": [],
   "source": [
    "s1 = seqs[0]\n",
    "print(\"s1 es la primer secuencia\")\n",
    "print(\"s1 es de tipo: \" + str(type(s1)))\n",
    "print(\"El id de s1 es: \" + s1.id)\n",
    "print(\"La secuencia de s1 es de tipo: \" + str(type(s1.seq)))\n",
    "print(\"La secuencia de s1 es: \" + s1.seq)\n",
    "print(\"La secuencia de s1 tiene un el alfabeto: \" + str(s1.seq.alphabet))"
   ]
  },
  {
   "cell_type": "markdown",
   "metadata": {},
   "source": [
    "**Desafío**: Imprima la secuencia de la segunda file del MSA"
   ]
  },
  {
   "cell_type": "code",
   "execution_count": null,
   "metadata": {},
   "outputs": [],
   "source": []
  },
  {
   "cell_type": "markdown",
   "metadata": {},
   "source": [
    "### Crear un objeto *Seq*"
   ]
  },
  {
   "cell_type": "code",
   "execution_count": null,
   "metadata": {},
   "outputs": [],
   "source": [
    "from Bio.Seq import Seq\n",
    "from Bio.Seq import translate\n",
    "from Bio.Alphabet import DNAAlphabet\n",
    "from Bio.Alphabet import ProteinAlphabet\n",
    "\n",
    "new_seq = Seq(\"ACTACTGACTAC\", DNAAlphabet())\n",
    "print(new_seq)"
   ]
  },
  {
   "cell_type": "markdown",
   "metadata": {},
   "source": [
    "**Desafío**: Cree un objeto *Seq* para una secuencia de una proteína."
   ]
  },
  {
   "cell_type": "code",
   "execution_count": null,
   "metadata": {},
   "outputs": [],
   "source": []
  },
  {
   "cell_type": "markdown",
   "metadata": {},
   "source": [
    "### Exportar secuencias a un archivo"
   ]
  },
  {
   "cell_type": "code",
   "execution_count": null,
   "metadata": {},
   "outputs": [],
   "source": [
    "from Bio import AlignIO\n",
    "from Bio import SeqIO\n",
    "from Bio.Seq import Seq\n",
    "from Bio.SeqRecord import SeqRecord\n",
    "\n",
    "s1 = SeqRecord(id=\"Secuencia1\", seq=Seq(\"ACTATCTAGCTACTG\"))\n",
    "s2 = SeqRecord(id=\"Secuencia2\", seq=Seq(\"CTATCTAGCTACTGA\"))\n",
    "s3 = SeqRecord(id=\"Secuencia3\", seq=Seq(\"TATCTAGCTACTGAA\"))\n",
    "s4 = SeqRecord(id=\"Secuencia4\", seq=Seq(\"ATCTAGCTACTGAAA\"))\n",
    "\n",
    "secuencias = [s1, s2, s3, s4]\n",
    "\n",
    "SeqIO.write(secuencias, 'secuencias_de_ejemplo.fasta', format=\"fasta\")\n",
    "SeqIO.write(secuencias, 'secuencias_de_ejemplo.clustal', format=\"clustal\")\n",
    "\n",
    "# acepta muchos otros formato:\n",
    "# phylip, nexus, stockholm, etc"
   ]
  },
  {
   "cell_type": "markdown",
   "metadata": {},
   "source": [
    "**Desafío**: Cree dos secuencias nuevas y agreguelas a la lista *secuencias*. Exporte el MSA en formato 'phylip'."
   ]
  },
  {
   "cell_type": "code",
   "execution_count": null,
   "metadata": {},
   "outputs": [],
   "source": []
  },
  {
   "cell_type": "markdown",
   "metadata": {},
   "source": [
    "### Convertir el formato de un archivo\n",
    "\n",
    "La función *convert* permite rápidamente convertir el formato entre archivos."
   ]
  },
  {
   "cell_type": "code",
   "execution_count": null,
   "metadata": {},
   "outputs": [],
   "source": [
    "SeqIO.convert('secuencias_de_ejemplo.fasta', 'fasta', 'secuencias_de_ejemplo.stockholm', 'stockholm')"
   ]
  },
  {
   "cell_type": "markdown",
   "metadata": {},
   "source": [
    "**Desafío**: Convierta el MSA a formato 'clustal'."
   ]
  },
  {
   "cell_type": "code",
   "execution_count": null,
   "metadata": {},
   "outputs": [],
   "source": []
  },
  {
   "cell_type": "markdown",
   "metadata": {},
   "source": [
    "### Operaciones sobre secuencias"
   ]
  },
  {
   "cell_type": "code",
   "execution_count": null,
   "metadata": {},
   "outputs": [],
   "source": [
    "from Bio.Seq import Seq\n",
    "from Bio.Seq import translate\n",
    "from Bio.Alphabet import DNAAlphabet\n",
    "\n",
    "new_seq = Seq(\"ATGTTAGCTTGA\", DNAAlphabet())\n",
    "\n",
    "translated = new_seq.translate()\n",
    "print(\"translated : \" + translated)\n",
    "\n",
    "transcribed = new_seq.transcribe()\n",
    "print(\"transcribed: \"+transcribed)\n",
    "\n",
    "complement = new_seq.complement()\n",
    "print(\"complement : \"+complement)\n",
    "\n",
    "rev_complement = new_seq.reverse_complement()\n",
    "print(\"complement : \"+rev_complement)\n",
    "\n",
    "new_seq = Seq(\"---ATGTTAGCTTGA---\", DNAAlphabet())\n",
    "degapped = new_seq.ungap(\"-\")\n",
    "print(\"ungapped : \" + degapped)"
   ]
  },
  {
   "cell_type": "markdown",
   "metadata": {},
   "source": [
    "**Desafío**: Cree una nueva secuencia de DNA, traduzcala a proteína y luego transcribala a RNA. "
   ]
  },
  {
   "cell_type": "code",
   "execution_count": null,
   "metadata": {},
   "outputs": [],
   "source": []
  },
  {
   "cell_type": "markdown",
   "metadata": {},
   "source": [
    "## Alineamiento de a pares de secuencias\n",
    "\n",
    "Se quiere alinear estas dos secuencias.\n",
    "\n",
    "<pre>\n",
    "Seq1 = ATCATCTACTGCTGACTCTTGA\n",
    "Seq2 = ATCATCTACTCACTCTG\n",
    "</pre>\n",
    "\n",
    "### Características de un alineamiento\n",
    "\n",
    "<pre>\n",
    "Seq1  ATCATCT A CTG CTGACTCT T GA\n",
    "            | | ||     ||||| \n",
    "Seq2  ATCATCT A CTC ---ACTCT G --\n",
    "              ^     ^^       ^\n",
    "match ---------     ||       |\n",
    "gap open ------------|       |\n",
    "gap extension --------       |\n",
    "mismatch ---------------------\n",
    "</pre>\n",
    "\n",
    "Es posible asignar un puntaje a cada *matches*, *mismatches*, *gap opening* y *gap extension*.\n",
    "\n",
    "El objetivo es encontrar una correspondencia entre los caracteres de las dos secuencias tal que maximice la suma de los puntajes anteriores.\n",
    "\n",
    "### Tipos de alineamiento\n",
    "\n",
    "* Alineamientos globales.\n",
    "Un alineamiento global encuentra la mejor forma de aparear todos los caracteres de dos secuencias.\n",
    "\n",
    "* Alineamientos locales.\n",
    "Un alineamiento local busca la mejor subsecuencia que alinea entre dos secuencias.\n",
    "\n",
    "#### Puntajes para *match* y *mismatch*\n",
    "\n",
    "| Código | Descripción |\n",
    "| --- | --- |\n",
    "| x | Carácteres idénticos tienen un puntaje de 1, sino es 0 |\n",
    "| m | Se define un puntaje para un *match* y otro para un *mismatch* |\n",
    "| d | Se define un puntaje diferente para todos los pares de caracteres |\n",
    "| c | Se define una función que calcular el puntaje |\n",
    "\n",
    "#### Puntajes para *gaps*\n",
    "\n",
    "| Código | Descripción |\n",
    "| --- | --- |\n",
    "| x | No se penalizan los gaps. |\n",
    "| s | Se define un puntaje de penalización para abrir y otro para extender *gaps*. Es el mismo para las dos secuencias|\n",
    "| d | Cada secuencia tiene puntajes diferentes de penzalización para abrir y para extender *gaps*.  |\n",
    "| c | Se define una función que calcular el puntaje. |\n"
   ]
  },
  {
   "cell_type": "markdown",
   "metadata": {},
   "source": [
    "### Alineamiento simple"
   ]
  },
  {
   "cell_type": "code",
   "execution_count": null,
   "metadata": {},
   "outputs": [],
   "source": [
    "from Bio.pairwise2 import align\n",
    "from Bio.pairwise2 import format_alignment\n",
    "\n",
    "seq1 = \"CTCAHYRKLAMNFQAW\"\n",
    "seq2 = \"YRKIAMNF\"\n",
    "\n",
    "aln = align.globalxx(seq1, seq2)\n",
    "\n",
    "print(\"aln contiene \" + str(len(aln)) + \" alineamientos.\")\n",
    "\n",
    "align1, align2, score, begin, end = aln[0]\n",
    "print(format_alignment(align1, align2, score, begin, end))\n",
    "\n",
    "align1, align2, score, begin, end = aln[1]\n",
    "print(format_alignment(align1, align2, score, begin, end))"
   ]
  },
  {
   "cell_type": "markdown",
   "metadata": {},
   "source": [
    "**Desafío**: Cree una secuencia *seq3* que al alinearse contra *seq1* devuelv una alineamiento con tres gaps internos. Imprime el resultado del alineamiento."
   ]
  },
  {
   "cell_type": "code",
   "execution_count": null,
   "metadata": {},
   "outputs": [],
   "source": []
  },
  {
   "cell_type": "markdown",
   "metadata": {},
   "source": [
    "### Alineamiento con penalización de *gaps*"
   ]
  },
  {
   "cell_type": "code",
   "execution_count": null,
   "metadata": {},
   "outputs": [],
   "source": [
    "seq1 = \"CTCAHYRKLAMNFQAW\"\n",
    "seq2 = \"YRKIAMNF\"\n",
    "gap_opening = -0.5\n",
    "gap_extension = -0.1\n",
    "aln = align.globalxs(seq1, seq2, gap_opening, gap_extension)\n",
    "print(\"aln contiene \" + str(len(aln)) + \" alineamientos.\")\n",
    "print(format_alignment(*aln[0]))"
   ]
  },
  {
   "cell_type": "markdown",
   "metadata": {},
   "source": [
    "**Desafío**: Rehaga el alineamiento cambiando los valores de penalización, hasta que encontrar un alineamiento que solo contenga un único bloque de *gaps*"
   ]
  },
  {
   "cell_type": "code",
   "execution_count": null,
   "metadata": {},
   "outputs": [],
   "source": []
  },
  {
   "cell_type": "markdown",
   "metadata": {},
   "source": [
    "### Diferencia entre local y global"
   ]
  },
  {
   "cell_type": "code",
   "execution_count": null,
   "metadata": {},
   "outputs": [],
   "source": [
    "seq1 = \"CTCAHYRKLAMNFQAWYCAYHCACYHACYHACHACHYACYAYCAYCYANNANCAKLKLMNMCNA\"\n",
    "seq2 = \"CTMNYRKIAMNFAYCAYCYANNANC\"\n",
    "\n",
    "match = 2\n",
    "mismatch = -1\n",
    "gap_opening = -1\n",
    "gap_extension = -0.5\n",
    "\n",
    "aln_global = align.globalms(seq1, seq2, match, mismatch, gap_opening, gap_extension)\n",
    "print(format_alignment(*aln_global[0]))\n",
    "\n",
    "aln_local = align.localms(seq1, seq2,  match, mismatch, gap_opening, gap_extension)\n",
    "print(format_alignment(*aln_local[0]))"
   ]
  },
  {
   "cell_type": "markdown",
   "metadata": {},
   "source": [
    "**Desafío**: Cambio las penalizaciones de *gaps* hasta que los dos alineamientos coincidan."
   ]
  },
  {
   "cell_type": "code",
   "execution_count": null,
   "metadata": {},
   "outputs": [],
   "source": []
  },
  {
   "cell_type": "markdown",
   "metadata": {},
   "source": [
    "### Alineamiento usando una matriz de sustitución"
   ]
  },
  {
   "cell_type": "code",
   "execution_count": null,
   "metadata": {},
   "outputs": [],
   "source": [
    "from Bio.SubsMat import MatrixInfo as matlist\n",
    "\n",
    "print(\"Matrices de score que pueden usarse:\" + str(matlist.available_matrices)+\"\\n\\n\")\n",
    "\n",
    "seq1 = \"YRKLAENF\"\n",
    "seq2 = \"FKRIVDQY\"\n",
    "matrix = matlist.blosum62\n",
    "\n",
    "print(\"Alineamiento con puntajes de match/mismatch \")\n",
    "for a in align.globalms(seq1, seq2, 2, -1, -0.7, -0.1):\n",
    "    print(format_alignment(*a))\n",
    "\n",
    "print(\"Alineamiento con la matriz Blosum62\")\n",
    "for a in align.globalds(seq1, seq2, matrix, -0.7, -0.1):\n",
    "    print(format_alignment(*a))"
   ]
  },
  {
   "cell_type": "markdown",
   "metadata": {},
   "source": [
    "**Desafío**: Rehaga el alineamiento usando las matrices 'pam30', 'blosum95' y otra matrices de su elección."
   ]
  },
  {
   "cell_type": "code",
   "execution_count": null,
   "metadata": {},
   "outputs": [],
   "source": [
    "print(\"Alineamiento con la matriz Blosum62\")\n",
    "for a in align.globalds(seq1, seq2, matlist.blosum95, -0.7, -0.1):\n",
    "    print(format_alignment(*a))"
   ]
  },
  {
   "cell_type": "markdown",
   "metadata": {},
   "source": [
    "## Leer archivos PDB\n",
    "\n",
    "Un PDB tiene una jerarquía de elementos que definen cada componente de la estuctura 3D de una mocromolécula.\n",
    "\n",
    "* Un PDB -> Contiene una Estructura\n",
    "* Estructura -> Contiene uno o más modelos. \n",
    "* Modelo -> Contiene una o más cadenas.\n",
    "* Cadena -> Contiene uno o más residuos.\n",
    "* Residuo -> Contiene uno o más átomos.\n",
    "* Átomo -> Elemeton base de la jerarquía."
   ]
  },
  {
   "cell_type": "code",
   "execution_count": null,
   "metadata": {},
   "outputs": [],
   "source": [
    "from Bio.PDB import PDBParser\n",
    "\n",
    "parser = PDBParser()\n",
    "structure = parser.get_structure('6H9U', 'data/6h9u.pdb')\n",
    "\n",
    "for model in structure:\n",
    "    for chain in model:\n",
    "        for residue in chain:\n",
    "            for atom in residue:\n",
    "                print(\"model: \" + str(model.id),\n",
    "                      \"Chain: \" + str(chain.id), \n",
    "                      \"Residue:\" + str(residue.resname) + \"-\" + str(residue.id),\n",
    "                      \"Atom: \"+ str(atom.id) +\" \"+ str(atom.coord))\n",
    "                \n",
    "\n"
   ]
  },
  {
   "cell_type": "markdown",
   "metadata": {},
   "source": [
    "**Desafío**: Cuente cuantos átomos tiene cada cadena."
   ]
  },
  {
   "cell_type": "code",
   "execution_count": null,
   "metadata": {},
   "outputs": [],
   "source": []
  },
  {
   "cell_type": "markdown",
   "metadata": {},
   "source": [
    "### Calcular distancia entre dos átomos"
   ]
  },
  {
   "cell_type": "code",
   "execution_count": null,
   "metadata": {},
   "outputs": [],
   "source": [
    "atom1 = structure[0]['A'][100]['CA']\n",
    "atom2 = structure[0]['A'][99]['CA']\n",
    "print(atom1, atom2, atom1-atom2)"
   ]
  },
  {
   "cell_type": "markdown",
   "metadata": {},
   "source": [
    "### Obtener la secuencia de una cadena de PDB"
   ]
  },
  {
   "cell_type": "code",
   "execution_count": null,
   "metadata": {},
   "outputs": [],
   "source": [
    "from Bio.PDB import PDBParser\n",
    "from Bio.PDB.Polypeptide import PPBuilder\n",
    "\n",
    "parser = PDBParser()\n",
    "structure = parser.get_structure('6H9U', 'data/6h9u.pdb')\n",
    "\n",
    "chain = structure[0]['A']\n",
    "polypeotides = PPBuilder().build_peptides(chain)\n",
    "for polypeptide in polypeotides:\n",
    "    print(polypeptide.get_sequence()+\"\\n\")\n"
   ]
  },
  {
   "cell_type": "markdown",
   "metadata": {},
   "source": [
    "**Desafío**: Obtenga la secuencia de la cadena 'B'."
   ]
  },
  {
   "cell_type": "code",
   "execution_count": null,
   "metadata": {},
   "outputs": [],
   "source": []
  },
  {
   "cell_type": "markdown",
   "metadata": {},
   "source": [
    "### Visualizar un PDB"
   ]
  },
  {
   "cell_type": "code",
   "execution_count": null,
   "metadata": {},
   "outputs": [],
   "source": [
    "import nglview\n",
    "view = nglview.show_file('data/6h9u.pdb')\n",
    "view"
   ]
  }
 ],
 "metadata": {
  "kernelspec": {
   "display_name": "Python 3",
   "language": "python",
   "name": "python3"
  },
  "language_info": {
   "codemirror_mode": {
    "name": "ipython",
    "version": 3
   },
   "file_extension": ".py",
   "mimetype": "text/x-python",
   "name": "python",
   "nbconvert_exporter": "python",
   "pygments_lexer": "ipython3",
   "version": "3.6.4"
  }
 },
 "nbformat": 4,
 "nbformat_minor": 2
}
