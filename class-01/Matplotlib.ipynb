{
 "cells": [
  {
   "cell_type": "markdown",
   "metadata": {},
   "source": [
    "# Creación de gráficos con matplotlib"
   ]
  },
  {
   "cell_type": "markdown",
   "metadata": {},
   "source": [
    "## Gráficos de líneas / puntos"
   ]
  },
  {
   "cell_type": "code",
   "execution_count": 4,
   "metadata": {},
   "outputs": [
    {
     "name": "stdout",
     "output_type": "stream",
     "text": [
      "[0.0, 0.5, 1.0, 1.5, 2.0, 2.5, 3.0, 3.5, 4.0, 4.5]\n",
      "['0.03', '0.12', '0.46', '1.25', '2.04', '2.38', '2.47', '2.49', '2.50', '2.50']\n",
      "['0.01', '0.03', '0.12', '0.46', '1.25', '2.04', '2.38', '2.47', '2.49', '2.50']\n"
     ]
    },
    {
     "data": {
      "image/png": "[encoded data removed]",
      "text/plain": [
       "<matplotlib.figure.Figure at 0x7fa2c02d3d68>"
      ]
     },
     "metadata": {},
     "output_type": "display_data"
    }
   ],
   "source": [
    "from matplotlib import pyplot\n",
    "from numpy.random import normal\n",
    "import math\n",
    "\n",
    "tiempo = [0.0, 0.5, 1.0, 1.5, 2.0, 2.5, 3.0, 3.5, 4.0, 4.5]\n",
    "crecimiento_A = ['0.03', '0.12', '0.46', '1.25', '2.04', '2.38', '2.47', '2.49', '2.50', '2.50']\n",
    "crecimiento_B = ['0.01', '0.03', '0.12', '0.46', '1.25', '2.04', '2.38', '2.47', '2.49', '2.50']\n",
    "\n",
    "print(tiempo)\n",
    "print([\"{0:.2f}\".format(x) for x in crecimiento_A])\n",
    "print([\"{0:.2f}\".format(x) for x in crecimiento_B])\n",
    "\n",
    "pyplot.rcParams[\"figure.figsize\"] = [10,7]\n",
    "pyplot.xlabel(\"Tiempo(hs)\")\n",
    "pyplot.ylabel(\"DO_600\")\n",
    "pyplot.plot(tiempo, crecimiento_A, label=\"Cultivo A\", marker=\"o\", markersize=10, linewidth=4, color=\"green\")\n",
    "pyplot.plot(tiempo, crecimiento_B, label=\"Cultivo B\", marker=\"s\", linewidth=1, linestyle=\"--\")\n",
    "pyplot.legend()\n",
    "pyplot.show()"
   ]
  },
  {
   "cell_type": "markdown",
   "metadata": {},
   "source": [
    "**Desafío**: Cree una nueva serie de datos con la misma cantidad de puntos y agreguela al plot. Esta seria debe ser de color rojo y no tener un marcador."
   ]
  },
  {
   "cell_type": "code",
   "execution_count": null,
   "metadata": {},
   "outputs": [],
   "source": []
  },
  {
   "cell_type": "markdown",
   "metadata": {},
   "source": [
    "## Gráficos de barras"
   ]
  },
  {
   "cell_type": "code",
   "execution_count": null,
   "metadata": {},
   "outputs": [],
   "source": [
    "from matplotlib import pyplot\n",
    "from numpy.random import normal\n",
    "import numpy\n",
    "import math\n",
    "\n",
    "goles_de_messi = [60, 59, 91, 45, 58, 52, 59, 50, 51]\n",
    "goles_de_ronaldo = [48, 60, 63, 69, 61, 57, 55, 53, 49]\n",
    "year = [2010, 2011, 2012, 2013, 2014, 2015, 2016, 2017, 2018]\n",
    "\n",
    "\n",
    "pyplot.rcParams[\"figure.figsize\"] = [10,7]\n",
    "\n",
    "fig, ax = pyplot.subplots()\n",
    "\n",
    "index = numpy.arange(9)\n",
    "\n",
    "rects1 = ax.bar(index-0.125, goles_de_messi, 0.25, color='SkyBlue', label='Messi')\n",
    "rects2 = ax.bar(index+0.125, goles_de_ronaldo, 0.25, color='IndianRed', label='Ronaldo')\n",
    "\n",
    "\n",
    "pyplot.ylabel('Goles')\n",
    "pyplot.xlabel('Año')\n",
    "pyplot.title('Goles de Messi vs Ronaldo')\n",
    "\n",
    "ax.set_xticklabels(year)\n",
    "pyplot.xticks(range(0,9))\n",
    "pyplot.legend()\n",
    "pyplot.tight_layout()\n",
    "pyplot.show()"
   ]
  },
  {
   "cell_type": "markdown",
   "metadata": {},
   "source": [
    "**Desafío**: Cambie el ancho de las columnas, tal que no quede espacio en blanco en medio."
   ]
  },
  {
   "cell_type": "code",
   "execution_count": null,
   "metadata": {},
   "outputs": [],
   "source": []
  },
  {
   "cell_type": "markdown",
   "metadata": {},
   "source": [
    "**Desafío**: Haga otro boxplot con los datos del año 2011 a 2016."
   ]
  },
  {
   "cell_type": "code",
   "execution_count": null,
   "metadata": {},
   "outputs": [],
   "source": []
  },
  {
   "cell_type": "markdown",
   "metadata": {},
   "source": [
    "## Histogramas"
   ]
  },
  {
   "cell_type": "code",
   "execution_count": null,
   "metadata": {},
   "outputs": [],
   "source": [
    "contacts_per_residue = [\n",
    "    6, 12, 16, 21, 18, 20, 19, 21, 11, 15, 16, 17, 16, 19,\n",
    "    18, 15, 17, 20, 12, 5, 5, 7, 13, 13, 12, 16, 10, 13,\n",
    "    9,6, 6, 12, 16, 13, 18, 14, 18, 21, 17, 13, 18, 9, 8,\n",
    "    7, 9, 9, 12, 12, 16, 13, 18, 9, 14, 17, 12, 13, 16, 13,\n",
    "    8, 11, 11, 11, 14, 16, 16, 17, 14, 14, 20, 18, 18, 16,\n",
    "    10, 16, 10, 16, 9, 9, 8, 13, 16, 10, 10, 13, 13, 7, 8,\n",
    "    12, 11, 17, 10, 13, 11, 10, 9, 5, 9, 10, 16, 16, 18, 14,\n",
    "    23, 18, 22, 20, 18, 14, 22, 24, 31, 21, 27, 28, 25, 24,\n",
    "    24, 24, 26, 22, 27, 27, 30, 33, 31, 36, 36, 21, 31, 33,\n",
    "    26, 20, 27, 29, 15, 18, 18, 24, 18, 18, 17, 24, 19, 19,\n",
    "    16, 14, 12, 15, 13, 9, 7, 10, 16, 17, 12, 13, 20, 12, 13,\n",
    "    20, 15, 11, 13, 13, 11, 17, 10, 16, 14, 16, 13, 20, 18,\n",
    "    20, 18, 16, 18, 18, 16, 17, 16, 21, 9, 18, 15, 7, 13, 9,\n",
    "    9, 9, 13, 14, 17, 17, 19, 19, 16, 20, 16, 12, 16, 16, 20,\n",
    "    16, 16, 15, 18, 19, 12, 18, 15, 13, 15, 16, 18, 13, 15, 9,\n",
    "    11, 12, 14, 9, 12, 12, 13, 18, 16, 14, 18, 14, 21, 16, 12,\n",
    "    16, 17, 15, 12, 14, 22, 17, 10, 13, 20, 11, 9, 9, 11, 7, 10,\n",
    "    10, 15, 8, 7, 14, 12, 11, 13, 16, 17, 14, 19, 17, 14, 14, 17,\n",
    "    13, 12, 14, 18, 12, 13, 16, 12, 8, 9, 10, 10, 16, 11, 15, 11,\n",
    "    15, 14, 13, 8, 9, 9, 5, 9, 8, 13, 9, 11, 11, 18, 11, 16, 8,\n",
    "    10, 17, 15, 11, 13, 15, 13, 11, 14, 17, 11, 12, 19, 15, 10,\n",
    "    14, 16, 11, 11, 19, 17, 9, 12, 10, 8, 12, 8, 11, 7, 9, 15, 11,\n",
    "    14, 18, 16, 19, 19, 12, 12, 17, 14, 14, 16, 13, 11, 20, 14, 11,\n",
    "    15, 18, 14, 11, 13, 16, 9, 8, 12, 8, 10, 11, 7, 5, 11, 11, 14,\n",
    "    19, 14, 16, 22, 19, 20, 19, 19, 19, 15, 20, 17, 12, 11, 13, 9]\n",
    "\n",
    "num_bins = 15\n",
    "\n",
    "fig, ax = pyplot.subplots()\n",
    "\n",
    "# the histogram of the data\n",
    "n, bins, patches = ax.hist(contacts_per_residue, num_bins)\n",
    "\n",
    "ax.set_xlabel('Número de contactos')\n",
    "ax.set_ylabel('Cantidad de residuos')\n",
    "ax.set_title('Histograma de número de contactos por residuo ')\n",
    "pyplot.tight_layout()\n",
    "pyplot.show()\n"
   ]
  },
  {
   "cell_type": "markdown",
   "metadata": {},
   "source": [
    "**Desafío**: Cree una nuevo hitograma con el doble de *bins*."
   ]
  },
  {
   "cell_type": "code",
   "execution_count": null,
   "metadata": {},
   "outputs": [],
   "source": []
  },
  {
   "cell_type": "markdown",
   "metadata": {},
   "source": [
    "## Boxplots"
   ]
  },
  {
   "cell_type": "code",
   "execution_count": null,
   "metadata": {},
   "outputs": [],
   "source": [
    "import numpy\n",
    "\n",
    "labels = ['control', 'trat 2h', 'trat 4h']\n",
    "\n",
    "control_data = [5, 3, 2 , 2, 5, 6 , 2, 2, 3, 3 , 3, 1, 3, 4, 3]\n",
    "trat2h_data  = [5, 8, 6 , 7, 4, 10, 6, 9, 6, 5 , 6, 5, 3, 6, 9]\n",
    "trat4h_data  = [8, 6, 10, 9, 8, 9 , 8, 6, 6, 12, 6, 7, 6, 9, 8]\n",
    "\n",
    "fig, axes = pyplot.subplots()\n",
    "\n",
    "all_data = [control_data, trat2h_data, trat4h_data]\n",
    "\n",
    "\n",
    "bplot1 = axes.boxplot(all_data,\n",
    "                      notch=True, # Corte (o muesca) en el boxplot\n",
    "                      vert=True,  # plot horizontal o vertical\n",
    "                      patch_artist=True,  # necesario para rellenar con color\n",
    "                      labels=labels)  # Etiquetas en el eje X\n",
    "\n",
    "axes.set_title('Box Plot control vs trat.')\n",
    "\n",
    "# Cambiar el color de relleno\n",
    "bplot1['boxes'][0].set_facecolor('pink')\n",
    "bplot1['boxes'][1].set_facecolor('lightblue')\n",
    "bplot1['boxes'][2].set_facecolor('lightgreen')\n",
    "\n",
    "# Agrega líneas horizontales\n",
    "axes.yaxis.grid(True)\n",
    "\n",
    "# Agrega subtítulos a los ejes\n",
    "axes.set_xlabel('Muestras')\n",
    "axes.set_ylabel('Valor observado')\n",
    "\n",
    "pyplot.show()\n"
   ]
  },
  {
   "cell_type": "markdown",
   "metadata": {},
   "source": [
    "**Desafío** Cree un nuevo boxplot con las siguientes modificaciones:\n",
    "\n",
    "* Los *plots* deben ser horizontales.\n",
    "* Mostrar solamente el control y el trat a 4h.\n",
    "* Los colores deben ser diferentes.\n",
    "* Las líneas de fondo deben ser paralelas al eje y.\n"
   ]
  },
  {
   "cell_type": "code",
   "execution_count": null,
   "metadata": {},
   "outputs": [],
   "source": []
  }
 ],
 "metadata": {
  "kernelspec": {
   "display_name": "Python 3",
   "language": "python",
   "name": "python3"
  },
  "language_info": {
   "codemirror_mode": {
    "name": "ipython",
    "version": 3
   },
   "file_extension": ".py",
   "mimetype": "text/x-python",
   "name": "python",
   "nbconvert_exporter": "python",
   "pygments_lexer": "ipython3",
   "version": "3.6.4"
  }
 },
 "nbformat": 4,
 "nbformat_minor": 2
}
