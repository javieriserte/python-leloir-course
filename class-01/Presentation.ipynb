{
 "cells": [
  {
   "cell_type": "markdown",
   "metadata": {
    "slideshow": {
     "slide_type": "slide"
    }
   },
   "source": [
    "# Antes de empezar\n",
    "* Ir a una consola de sistema operativo\n",
    "* Ir a la carpeta con el contenido del curso\n",
    "<pre>\n",
    "> jupyter notebook\n",
    "</pre>\n",
    "* Deberían poder ver esta presentación en el navegador"
   ]
  },
  {
   "cell_type": "markdown",
   "metadata": {
    "slideshow": {
     "slide_type": "slide"
    }
   },
   "source": [
    "# Bienvenidos al curso de Python\n",
    "## ¿Por qué python?\n",
    "* Easy to learn (hard to master)\n",
    "* Es rápido escribir código\n",
    "* Multiplataforma\n",
    "* Muchos recursos disponibles\n",
    "  * Documentación oficial: https://docs.python.org/3/\n"
   ]
  },
  {
   "cell_type": "markdown",
   "metadata": {
    "slideshow": {
     "slide_type": "slide"
    }
   },
   "source": [
    "# Distribuciones de Python y herramientas\n",
    "## Python \"oficial\" ( http://www.python.org)\n",
    "* La más actualizada\n",
    "\n",
    "## Anaconda (https://anaconda.org/)\n",
    "* Contiene paquetes compilados para diferentes sistemas\n",
    "* Suele ser más fácil de usar en Windows.\n",
    "\n",
    "## Versiones\n",
    "* Actualmente, hay dos series de versiones de Python que se siguen manteniendo.\n",
    " * Python 2 (2000) - 2.7.14\n",
    " * Python 3 (2008) - 3.6.4 \n",
    "* ¿Por qué?, incompatibilidad entre versiones.\n",
    " * La comunidad de python se mueve muy lentamente a python 3."
   ]
  },
  {
   "cell_type": "markdown",
   "metadata": {
    "slideshow": {
     "slide_type": "slide"
    }
   },
   "source": [
    "## Jupyter notebook\n",
    "* Permite registrar el código y los resultados parciales que se obtienen, junto con documentación.\n",
    "* Muy útil para hacer análisis de datos.\n",
    "\n",
    "## Entornos de desarrollo (IDE)\n",
    "* Ofrecen muchas herramientas: análisis de códido, depuración, integración con repositorios, etc.\n",
    "* Necesario para desarrollar aplicaciones en python:\n",
    " * pycharm\n",
    " * Eclipse + pydev\n",
    " * atom\n",
    " * VScode"
   ]
  },
  {
   "cell_type": "markdown",
   "metadata": {
    "slideshow": {
     "slide_type": "slide"
    }
   },
   "source": [
    "# Usando python\n",
    "Python se puede utilizar de forma interactiva (dentro de la consola de python o jupyter)\n",
    "\n",
    "<pre>\n",
    ">>> a = 'hola'\n",
    ">>> b = 'chau'\n",
    ">>> print a\n",
    "hola\n",
    ">>> print b\n",
    "chau\n",
    "</pre>\n",
    "... o ejecutando scripts en la consola del sistema operativo. \n",
    "<pre>\n",
    "> python mi_script.py \n",
    "</pre>\n"
   ]
  },
  {
   "cell_type": "markdown",
   "metadata": {
    "slideshow": {
     "slide_type": "slide"
    }
   },
   "source": [
    "## Jupyter\n",
    "Jupyter es una consola interactiva para diversos lenguajes, principalmente Julia (IJulia), Python (IPython) y R.\n",
    "Permite integrar código con sus resultados, anotaciones, imágenes, etc. Finalmente se obtiene una **notebook** que puede compartirse para que otros la ejecuten.\n",
    "\n",
    "Los elementos básicos de jupyter son **celdas**, que pueden ser de código o de comentarios. Cada celda se puede ejecutar individualmente y el resultado se registra debajo de cada celda. \n",
    "\n",
    "Las céldas de comentarios se pueden escribir en un formato se llamado **markdown**\n",
    "\n",
    "http://jupyter-notebook.readthedocs.io/en/stable/examples/Notebook/Working%20With%20Markdown%20Cells.html\n",
    "\n",
    "Para abrir jupyter:\n",
    "<pre>\n",
    "$ jupyter notebook\n",
    "</pre>"
   ]
  },
  {
   "cell_type": "markdown",
   "metadata": {
    "slideshow": {
     "slide_type": "slide"
    }
   },
   "source": [
    "# El 'Hola mundo' de Python\n",
    "## El primer 'Hola mundo'"
   ]
  },
  {
   "cell_type": "code",
   "execution_count": 66,
   "metadata": {
    "scrolled": true,
    "slideshow": {
     "slide_type": "fragment"
    }
   },
   "outputs": [
    {
     "name": "stdout",
     "output_type": "stream",
     "text": [
      "Hola mundo!\n"
     ]
    }
   ],
   "source": [
    "# Esta línea es un comentario.\n",
    "print(\"Hola mundo!\")"
   ]
  },
  {
   "cell_type": "markdown",
   "metadata": {
    "slideshow": {
     "slide_type": "fragment"
    }
   },
   "source": [
    "\"hola mundo!\" es un cadena de caracteres o **string**.\n",
    "\n",
    "**print** es una función. \n",
    "Las funciones en general reciben argumentos entre paréntesis, realizan alguna acción y devuelven un valor."
   ]
  },
  {
   "cell_type": "markdown",
   "metadata": {
    "slideshow": {
     "slide_type": "fragment"
    }
   },
   "source": [
    "**Desafío** Cambien el contenido de \"Hola mundo!\" por otra frase, luego hacer clic en 'RUN'"
   ]
  },
  {
   "cell_type": "markdown",
   "metadata": {
    "slideshow": {
     "slide_type": "slide"
    }
   },
   "source": [
    "## El segundo 'Hola mundo'"
   ]
  },
  {
   "cell_type": "code",
   "execution_count": 67,
   "metadata": {
    "scrolled": true,
    "slideshow": {
     "slide_type": "fragment"
    }
   },
   "outputs": [
    {
     "name": "stdout",
     "output_type": "stream",
     "text": [
      "Hola mundo!\n"
     ]
    }
   ],
   "source": [
    "saludo = \"Hola mundo!\"\n",
    "print(saludo)"
   ]
  },
  {
   "cell_type": "markdown",
   "metadata": {
    "slideshow": {
     "slide_type": "fragment"
    }
   },
   "source": [
    "**saludo** es un variable a la que se le está asignando el **string** \"Hola mundo!\""
   ]
  },
  {
   "cell_type": "markdown",
   "metadata": {
    "slideshow": {
     "slide_type": "slide"
    }
   },
   "source": [
    "# Variables, valores y tipos"
   ]
  },
  {
   "cell_type": "markdown",
   "metadata": {
    "slideshow": {
     "slide_type": "fragment"
    }
   },
   "source": [
    "Una **variable** es un espacio para almacenar datos modificables en la memoria de la computadora; una vez declarada, Python recordará que esa variable contiene los datos que le hayamos asignado.<br/>\n",
    "Todas las **variables** tienen un **valor** asignado y todos los **valores** tienen un **tipo** asociado."
   ]
  },
  {
   "cell_type": "code",
   "execution_count": 68,
   "metadata": {
    "slideshow": {
     "slide_type": "fragment"
    }
   },
   "outputs": [],
   "source": [
    "saludo = 'Hola'\n",
    "numero = 1\n",
    "resultado = numero + 1"
   ]
  },
  {
   "cell_type": "markdown",
   "metadata": {
    "slideshow": {
     "slide_type": "fragment"
    }
   },
   "source": [
    "¿Cuáles son variables, cuales son los valores y cuales son los tipos de esos valores?"
   ]
  },
  {
   "cell_type": "markdown",
   "metadata": {
    "slideshow": {
     "slide_type": "slide"
    }
   },
   "source": [
    "La función type() se usa para conocer el **tipo** de un **valor**:"
   ]
  },
  {
   "cell_type": "code",
   "execution_count": 2,
   "metadata": {
    "slideshow": {
     "slide_type": "fragment"
    }
   },
   "outputs": [
    {
     "name": "stdout",
     "output_type": "stream",
     "text": [
      "<type 'int'>\n",
      "<type 'int'>\n"
     ]
    }
   ],
   "source": [
    "tipo = type(5)\n",
    "numero = 6\n",
    "print(tipo)\n",
    "print(type(numero))"
   ]
  },
  {
   "cell_type": "markdown",
   "metadata": {
    "slideshow": {
     "slide_type": "fragment"
    }
   },
   "source": [
    "**Desafío**: Declará una variable llamada 'numero_doble' que almacene el doble del valor de la variable 'numero' e imprimí el tipo de dato que almacena."
   ]
  },
  {
   "cell_type": "code",
   "execution_count": 3,
   "metadata": {},
   "outputs": [],
   "source": [
    "# Completar\n",
    "\n"
   ]
  },
  {
   "cell_type": "markdown",
   "metadata": {
    "slideshow": {
     "slide_type": "slide"
    }
   },
   "source": [
    "## Algunos delos tipos básicos de datos en Python son:\n",
    "* **int** - para representar números enteros <br/>\n",
    "```python\n",
    "entero = 40``` \n",
    "* **long** - para representar números enteros muy largos. _(Solo en Python 2.x)_<br/>\n",
    "```python \n",
    "ent_long =  8947842156455143213546```\n",
    "* **float** - para representar números decimales <br/>\n",
    "```python \n",
    "flotante = 3.14\n",
    "```\n",
    "* **bool** - para representar valores de verdad <br/>\n",
    "```python\n",
    "booleano = True\n",
    "```\n",
    "* **complex** - para representar números complejos<br/>\n",
    "```python\n",
    "complejo = 1 + 2j, print('hola')```"
   ]
  },
  {
   "cell_type": "markdown",
   "metadata": {
    "slideshow": {
     "slide_type": "slide"
    }
   },
   "source": [
    "## Operadores y funciones matemáticas \n",
    "| Operación | Resuldado                        |\n",
    "| --------- | ---------                        |\n",
    "| x + y     | Suma                             |\n",
    "| x - y     | Resta                            |\n",
    "| x / y     | División. Cuidado con los enteros|\n",
    "| x * y     | Multiplicación                   |\n",
    "| x % y     | Resto                            |\n",
    "| abs(x)    | Absoluto                         |\n",
    "| int(x)    | Convierte a entero.              |\n",
    "| long(x)   | Convierte a entero largo.        |\n",
    "| x ** y    | Eleva x a la y                   |\n",
    "\n",
    "**Desafío**:¿Qué resultado arroja la siguiente operación?¿Podrías definir cuál fue la sucesión de pasos que se ejecutaron en esa linea?\n",
    "```python\n",
    "print(5+30*20)\n",
    "```"
   ]
  },
  {
   "cell_type": "markdown",
   "metadata": {
    "slideshow": {
     "slide_type": "slide"
    }
   },
   "source": [
    "## Operadores y funciones lógicas \n",
    "| Operación | Resuldado                        |\n",
    "| --------- | ---------                        |\n",
    "| x and y   | Y lógico entre x e y             |\n",
    "| x or y    | O lógico entre x e y             |\n",
    "| not x     | Negación de x                    |"
   ]
  },
  {
   "cell_type": "markdown",
   "metadata": {
    "slideshow": {
     "slide_type": "slide"
    }
   },
   "source": [
    "## Operadores de comparación \n",
    "| Operación | Resuldado                        |\n",
    "| --------- | ---------                        |\n",
    "| x < y     | True si x es menor a y           |\n",
    "| x <= y    | True si x es menor o igual a y   |  \n",
    "| x > y     | True si x es mayor a y           |\n",
    "| x >= y    | True si x es mayor o igual a y   |\n",
    "| x == y    | True si x es igual a y           |\n",
    "| x is y    | True si x es idéntico a y        |\n"
   ]
  },
  {
   "cell_type": "code",
   "execution_count": 17,
   "metadata": {},
   "outputs": [
    {
     "data": {
      "text/plain": [
       "True"
      ]
     },
     "execution_count": 17,
     "metadata": {},
     "output_type": "execute_result"
    }
   ],
   "source": [
    "print(1 < 2)"
   ]
  },
  {
   "cell_type": "code",
   "execution_count": 74,
   "metadata": {},
   "outputs": [
    {
     "name": "stdout",
     "output_type": "stream",
     "text": [
      "False\n"
     ]
    }
   ],
   "source": [
    "print('A' >= 'B')"
   ]
  },
  {
   "cell_type": "code",
   "execution_count": 75,
   "metadata": {},
   "outputs": [
    {
     "name": "stdout",
     "output_type": "stream",
     "text": [
      "True\n"
     ]
    }
   ],
   "source": [
    "print('a'>'A')"
   ]
  },
  {
   "cell_type": "code",
   "execution_count": 76,
   "metadata": {},
   "outputs": [
    {
     "name": "stdout",
     "output_type": "stream",
     "text": [
      "True\n",
      "False\n"
     ]
    }
   ],
   "source": [
    "a = [1, 2, 3]\n",
    "b = [1 ,2, 3]\n",
    "print( a == b )\n",
    "print( a is b )"
   ]
  },
  {
   "cell_type": "markdown",
   "metadata": {
    "slideshow": {
     "slide_type": "slide"
    }
   },
   "source": [
    "# Manejo de strings\n",
    "+ **String** es un tipo de dato que se puede entender como una sucesión de caracteres o una cadena de caracteres. \n",
    "+ Podemos crear un string simplemente escribiendo los caracteres entre comillas. \n",
    "```python\n",
    "mi_string = \"este es mi primer string\"\n",
    "```\n",
    "+ Python trata las comillas simples al igual que las comillas dobles (no mezclar).\n",
    "```python\n",
    "mi_string = 'este es mi primer string'\n",
    "```\n",
    "+ En un string el primer caracter tiene índice cero.\n",
    "\n",
    "\n",
    "+ Hay varias funciones y operadores que permiten trabajar con strings.\n",
    "\n"
   ]
  },
  {
   "cell_type": "markdown",
   "metadata": {
    "slideshow": {
     "slide_type": "slide"
    }
   },
   "source": [
    "+ **Desafío**: ¿Qué resultado nos daría la siguiente operación?: \n",
    "```python\n",
    "type(1) == type('1')\n",
    "```\n",
    "¿Y qué resultado nos daría la siguiente operación?: \n",
    "```python\n",
    "'python' == 'Python' ```\n",
    "\n"
   ]
  },
  {
   "cell_type": "code",
   "execution_count": 24,
   "metadata": {
    "slideshow": {
     "slide_type": "slide"
    }
   },
   "outputs": [],
   "source": [
    "# Probar\n",
    "\n"
   ]
  },
  {
   "cell_type": "markdown",
   "metadata": {
    "slideshow": {
     "slide_type": "notes"
    }
   },
   "source": [
    "### Concatenar strings.\n",
    "\n",
    "Para concatenar dos o más cadenas de caracteres hacemos uso del operador '**+**'\n"
   ]
  },
  {
   "cell_type": "code",
   "execution_count": 29,
   "metadata": {
    "scrolled": true
   },
   "outputs": [
    {
     "name": "stdout",
     "output_type": "stream",
     "text": [
      "Este es un String\n"
     ]
    }
   ],
   "source": [
    "# El operador '+' permite concatenar dos strings\n",
    "nuevoString = \"Este\" + \" \" + \"es\" + \" \" + \"un\" + \" \" + \"String\"\n",
    "print(nuevoString)"
   ]
  },
  {
   "cell_type": "markdown",
   "metadata": {},
   "source": [
    "También podemos concatenar variables de tipo string y cadenas de caracteres."
   ]
  },
  {
   "cell_type": "code",
   "execution_count": 31,
   "metadata": {},
   "outputs": [
    {
     "name": "stdout",
     "output_type": "stream",
     "text": [
      "Juan Roman Riquelme\n"
     ]
    }
   ],
   "source": [
    "nombre = \"Juan\"\n",
    "apellido = \"Riquelme\"\n",
    "magia = nombre + \" Roman \" + apellido\n",
    "print(magia)"
   ]
  },
  {
   "cell_type": "markdown",
   "metadata": {},
   "source": [
    "**Desafío**:¿Qué otros operadores matemáticos funcionan con strings?¿Qué resultados obtenes?"
   ]
  },
  {
   "cell_type": "code",
   "execution_count": 32,
   "metadata": {},
   "outputs": [],
   "source": [
    "# Operadores matematicos con strings.\n",
    "\n"
   ]
  },
  {
   "cell_type": "markdown",
   "metadata": {},
   "source": [
    "Uitlizando la funcion **str()** podemos convertir distintos tipos de valores en strings."
   ]
  },
  {
   "cell_type": "code",
   "execution_count": 43,
   "metadata": {},
   "outputs": [
    {
     "name": "stdout",
     "output_type": "stream",
     "text": [
      "<type 'float'>\n",
      "<type 'str'>\n",
      "3.1416\n"
     ]
    }
   ],
   "source": [
    "pi = 3.1416\n",
    "pi_str = str(pi)\n",
    "print(type(pi))\n",
    "print(type(pi_str))\n",
    "print(pi_str)"
   ]
  },
  {
   "cell_type": "code",
   "execution_count": null,
   "metadata": {},
   "outputs": [],
   "source": []
  },
  {
   "cell_type": "markdown",
   "metadata": {
    "slideshow": {
     "slide_type": "slide"
    }
   },
   "source": [
    "Se puede acceder a los caracteres individuales de un string, del siguiente modo:"
   ]
  },
  {
   "cell_type": "code",
   "execution_count": 140,
   "metadata": {},
   "outputs": [
    {
     "name": "stdout",
     "output_type": "stream",
     "text": [
      "primer sub-string: [este]\n",
      "Segundo sub-string: [es un string]\n"
     ]
    }
   ],
   "source": [
    "s = \"este es un string!\"\n",
    "a = s[ 0 : 4 ] # 1 es el índice de la primer posición incluida, 4 es el índice de la primer posición excluida.\n",
    "print(\"primer sub-string: [\" + a + \"]\")\n",
    "b = s[ 5 : -1 ] # Se pueden usar índices negativos, que comienzan desde el final del string\n",
    "print(\"Segundo sub-string: [\" + b + \"]\")"
   ]
  },
  {
   "cell_type": "markdown",
   "metadata": {},
   "source": [
    "Un string puede ser separado en una lista de sub-strings:"
   ]
  },
  {
   "cell_type": "code",
   "execution_count": 143,
   "metadata": {},
   "outputs": [
    {
     "name": "stdout",
     "output_type": "stream",
     "text": [
      "['EcoRI', 'Escherichia coli', 'GAATTC', '---G|AATTC---']\n"
     ]
    }
   ],
   "source": [
    "enzime_desc = \"EcoRI,Escherichia coli,GAATTC,---G|AATTC---\"\n",
    "enzime_splitted = enzime_desc.split(\",\")\n",
    "print(enzime_splitted)\n"
   ]
  },
  {
   "cell_type": "markdown",
   "metadata": {
    "slideshow": {
     "slide_type": "slide"
    }
   },
   "source": [
    "# Estructuras de datos\n",
    "\n",
    "Las variables que vimos hasta ahora son sencillas y contienen un único **dato**.\n",
    "Python permite usar estructuras de datos más complejas que permiten almacenar y organizar colecciones de datos.\n",
    "Algunas de estas estructuras de datos son:\n",
    "* listas\n",
    "* diccionarios"
   ]
  },
  {
   "cell_type": "markdown",
   "metadata": {
    "slideshow": {
     "slide_type": "slide"
    }
   },
   "source": [
    "## Listas\n",
    "* Agrupamiento ordenado de valores, usualmente muchos.\n",
    "* Los valores no tienen que ser del mismo tipo (aunque suelen serlo).\n",
    "* El número de orden un de un valor en la lista es su **índice**, el primer valor tiene índice **cero**.\n"
   ]
  },
  {
   "cell_type": "code",
   "execution_count": 34,
   "metadata": {
    "slideshow": {
     "slide_type": "fragment"
    }
   },
   "outputs": [
    {
     "name": "stdout",
     "output_type": "stream",
     "text": [
      "[1, 2, 3, 'a']\n",
      "<class 'list'>\n",
      "[0, 1, 2, 3, 4, 5, 6, 7, 8, 9]\n",
      "<class 'list'>\n",
      "5\n"
     ]
    }
   ],
   "source": [
    "listaSimple = [1, 2, 3, 'a']\n",
    "print(listaSimple)\n",
    "print(type(listaSimple))\n",
    "delCeroAlNueve = list(range(10))\n",
    "print(delCeroAlNueve)\n",
    "print(type(delCeroAlNueve))\n",
    "print(delCeroAlNueve[5])"
   ]
  },
  {
   "cell_type": "code",
   "execution_count": 31,
   "metadata": {
    "slideshow": {
     "slide_type": "fragment"
    }
   },
   "outputs": [
    {
     "name": "stdout",
     "output_type": "stream",
     "text": [
      "[5, 2, 3]\n"
     ]
    }
   ],
   "source": [
    "listaSimple[0] = 5\n",
    "# Los valores de las listas pueden reasignarse\n",
    "print(listaSimple)"
   ]
  },
  {
   "cell_type": "markdown",
   "metadata": {},
   "source": [
    "**Desafío** Cree una lista con los números impares entre 1 y el 20."
   ]
  },
  {
   "cell_type": "code",
   "execution_count": 83,
   "metadata": {},
   "outputs": [],
   "source": [
    "fail()"
   ]
  },
  {
   "cell_type": "markdown",
   "metadata": {},
   "source": [
    "**Desafío** cree la misma lista que en el desafío anterior, pero use la función *range*."
   ]
  },
  {
   "cell_type": "code",
   "execution_count": 85,
   "metadata": {},
   "outputs": [
    {
     "ename": "NameError",
     "evalue": "name 'fail' is not defined",
     "output_type": "error",
     "traceback": [
      "\u001b[1;31m---------------------------------------------------------------------------\u001b[0m",
      "\u001b[1;31mNameError\u001b[0m                                 Traceback (most recent call last)",
      "\u001b[1;32m<ipython-input-85-431edddf0fb3>\u001b[0m in \u001b[0;36m<module>\u001b[1;34m\u001b[0m\n\u001b[0;32m      1\u001b[0m \u001b[0mget_ipython\u001b[0m\u001b[1;33m(\u001b[0m\u001b[1;33m)\u001b[0m\u001b[1;33m.\u001b[0m\u001b[0mrun_line_magic\u001b[0m\u001b[1;33m(\u001b[0m\u001b[1;34m'pinfo'\u001b[0m\u001b[1;33m,\u001b[0m \u001b[1;34m'range'\u001b[0m\u001b[1;33m)\u001b[0m\u001b[1;33m\u001b[0m\u001b[1;33m\u001b[0m\u001b[0m\n\u001b[1;32m----> 2\u001b[1;33m \u001b[0mfail\u001b[0m\u001b[1;33m(\u001b[0m\u001b[1;33m)\u001b[0m\u001b[1;33m\u001b[0m\u001b[1;33m\u001b[0m\u001b[0m\n\u001b[0m",
      "\u001b[1;31mNameError\u001b[0m: name 'fail' is not defined"
     ]
    }
   ],
   "source": [
    "?range\n",
    "fail()"
   ]
  },
  {
   "cell_type": "markdown",
   "metadata": {
    "slideshow": {
     "slide_type": "slide"
    }
   },
   "source": [
    "### Agregar y quitar elementos de una lista\n"
   ]
  },
  {
   "cell_type": "code",
   "execution_count": 32,
   "metadata": {
    "slideshow": {
     "slide_type": "fragment"
    }
   },
   "outputs": [
    {
     "name": "stdout",
     "output_type": "stream",
     "text": [
      "[5, 2, 3, 18]\n",
      "[5, 2, 3, 18, 0]\n",
      "[5, 2, 100, 3, 18, 0]\n"
     ]
    }
   ],
   "source": [
    "listaSimple.append(18)\n",
    "print(listaSimple)\n",
    "listaSimple.insert(4,0)\n",
    "print(listaSimple)\n",
    "listaSimple.insert(2,100)\n",
    "print(listaSimple)"
   ]
  },
  {
   "cell_type": "markdown",
   "metadata": {
    "slideshow": {
     "slide_type": "fragment"
    }
   },
   "source": [
    "* La función **append()** agrega un elemento a una lista.\n",
    "\n",
    "¿Por qué está el punto entre el nombre de la variable y **append()**?"
   ]
  },
  {
   "cell_type": "code",
   "execution_count": 4,
   "metadata": {
    "slideshow": {
     "slide_type": "slide"
    }
   },
   "outputs": [
    {
     "name": "stdout",
     "output_type": "stream",
     "text": [
      "[5, 2, 3, 18, 0]\n",
      "[5, 2, 3, 0]\n"
     ]
    }
   ],
   "source": [
    "print(listaSimple)\n",
    "listaSimple.remove(18)\n",
    "print(listaSimple)"
   ]
  },
  {
   "cell_type": "markdown",
   "metadata": {
    "slideshow": {
     "slide_type": "fragment"
    }
   },
   "source": [
    "* La función **remove()** elimina un elemento a una lista."
   ]
  },
  {
   "cell_type": "code",
   "execution_count": 5,
   "metadata": {
    "slideshow": {
     "slide_type": "fragment"
    }
   },
   "outputs": [
    {
     "name": "stdout",
     "output_type": "stream",
     "text": [
      "[1, 3, 2]\n"
     ]
    }
   ],
   "source": [
    "otraLista = [1,2,3,2]\n",
    "otraLista.remove(2)\n",
    "print(otraLista)"
   ]
  },
  {
   "cell_type": "markdown",
   "metadata": {
    "slideshow": {
     "slide_type": "fragment"
    }
   },
   "source": [
    "* Si el valor que se quiere eliminar está más de una vez, solo se elimina el primero"
   ]
  },
  {
   "cell_type": "code",
   "execution_count": 33,
   "metadata": {
    "slideshow": {
     "slide_type": "slide"
    }
   },
   "outputs": [
    {
     "name": "stdout",
     "output_type": "stream",
     "text": [
      "2\n",
      "[1, 3, 2]\n"
     ]
    }
   ],
   "source": [
    "otraLista = [1,2,3,2]\n",
    "valorEliminado = otraLista.pop(1)\n",
    "print(valorEliminado)\n",
    "print(otraLista)"
   ]
  },
  {
   "cell_type": "markdown",
   "metadata": {},
   "source": [
    "* La función **pop()** elimina un valor por el índice."
   ]
  },
  {
   "cell_type": "markdown",
   "metadata": {
    "slideshow": {
     "slide_type": "slide"
    }
   },
   "source": [
    "### Selecciones de sublistas"
   ]
  },
  {
   "cell_type": "code",
   "execution_count": 7,
   "metadata": {
    "slideshow": {
     "slide_type": "-"
    }
   },
   "outputs": [
    {
     "name": "stdout",
     "output_type": "stream",
     "text": [
      "['a', 'b']\n"
     ]
    }
   ],
   "source": [
    "listaSimple = ['a','b','c','d','e']\n",
    "subLista = listaSimple[0:2]\n",
    "# Para obtener una sublista se debe indicar el índice del primer valor incluido y el índice del primer valor excluido\n",
    "print(subLista)"
   ]
  },
  {
   "cell_type": "code",
   "execution_count": 8,
   "metadata": {},
   "outputs": [
    {
     "data": {
      "text/plain": [
       "['a', 'b']"
      ]
     },
     "execution_count": 8,
     "metadata": {},
     "output_type": "execute_result"
    }
   ],
   "source": [
    "listaSimple[:2]\n",
    "# Si el primer índice es 0, puede obviarse"
   ]
  },
  {
   "cell_type": "code",
   "execution_count": 9,
   "metadata": {},
   "outputs": [
    {
     "data": {
      "text/plain": [
       "['d', 'e']"
      ]
     },
     "execution_count": 9,
     "metadata": {},
     "output_type": "execute_result"
    }
   ],
   "source": [
    "listaSimple[3:]\n",
    "# Si el último índice es la longitud de la lista, también puede obviarse"
   ]
  },
  {
   "cell_type": "markdown",
   "metadata": {
    "slideshow": {
     "slide_type": "slide"
    }
   },
   "source": [
    "### Unión de listas (concatenación)\n"
   ]
  },
  {
   "cell_type": "code",
   "execution_count": 10,
   "metadata": {},
   "outputs": [
    {
     "name": "stdout",
     "output_type": "stream",
     "text": [
      "[0, 1, 2, 3, 4, 5, 6]\n"
     ]
    }
   ],
   "source": [
    "listaSimple = [0,1,2,3] + [4,5,6]\n",
    "print(listaSimple)"
   ]
  },
  {
   "cell_type": "markdown",
   "metadata": {
    "slideshow": {
     "slide_type": "slide"
    }
   },
   "source": [
    "### Otras funciones de listas importantes \n",
    "* .extend() = agrega elementos de una lista a otra.\n",
    "* .index() = devuelve el índice en la lista de un valor dado.\n",
    "* .count() = devuelve la cantidad de veces que un elemento está en la lista.\n",
    "* .sort() = ordena los valores de la lista\n",
    "* .reverse() = invierte los valores de una lista\n",
    "* len() = devuelve la cantidad de elementos en la lista."
   ]
  },
  {
   "cell_type": "markdown",
   "metadata": {},
   "source": [
    "**Desafío** ¿Cúal es el tercer mayor valor de esta lista?¿en que orden está el número 950?\n",
    "**Ayuda**: Use funciones de la lista anterior.\n",
    "\n",
    "mi_lista = [\n",
    "2, 517, 7, 11, 528, 531, 19, 536, 31, 40, 552, \n",
    "50, 565, 55, 568, 571, 572, 583, 584, 588, 78, \n",
    "591, 80, 82, 596, 91, 605, 611, 99, 101, 102, \n",
    "105, 110, 622, 114, 118, 635, 636, 129, 643, 131, \n",
    "645, 136, 655, 661, 664, 156, 669, 672, 163, 167, \n",
    "168, 170, 683, 171, 176, 688, 179, 697, 187, 700, \n",
    "191, 703, 197, 709, 201, 713, 716, 204, 205, 719, \n",
    "720, 209, 726, 728, 729, 219, 228, 741, 231, 745, \n",
    "237, 238, 240, 759, 248, 251, 254, 771, 773, 775, \n",
    "778, 266, 787, 276, 789, 279, 793, 285, 798, 799, \n",
    "800, 803, 295, 818, 307, 306, 821, 822, 823, 310, \n",
    "315, 323, 835, 839, 843, 331, 334, 854, 342, 343, \n",
    "347, 860, 363, 878, 367, 882, 883, 373, 886, 887, \n",
    "376, 889, 379, 387, 900, 903, 907, 399, 400, 913, \n",
    "911, 915, 409, 925, 929, 421, 933, 939, 437, 950, \n",
    "951, 949, 953, 446, 959, 962, 451, 452, 453, 969, \n",
    "458, 970, 972, 463, 464, 978, 982, 986, 475, 988, \n",
    "474, 482, 485, 486, 509, 510]"
   ]
  },
  {
   "cell_type": "code",
   "execution_count": 102,
   "metadata": {},
   "outputs": [
    {
     "ename": "NameError",
     "evalue": "name 'fail' is not defined",
     "output_type": "error",
     "traceback": [
      "\u001b[1;31m---------------------------------------------------------------------------\u001b[0m",
      "\u001b[1;31mNameError\u001b[0m                                 Traceback (most recent call last)",
      "\u001b[1;32m<ipython-input-102-e0d916aea843>\u001b[0m in \u001b[0;36m<module>\u001b[1;34m\u001b[0m\n\u001b[1;32m----> 1\u001b[1;33m \u001b[0mfail\u001b[0m\u001b[1;33m(\u001b[0m\u001b[1;33m)\u001b[0m\u001b[1;33m\u001b[0m\u001b[1;33m\u001b[0m\u001b[0m\n\u001b[0m",
      "\u001b[1;31mNameError\u001b[0m: name 'fail' is not defined"
     ]
    }
   ],
   "source": [
    "fail()"
   ]
  },
  {
   "cell_type": "markdown",
   "metadata": {},
   "source": [
    "## Recorrer listas"
   ]
  },
  {
   "cell_type": "code",
   "execution_count": 13,
   "metadata": {},
   "outputs": [
    {
     "name": "stdout",
     "output_type": "stream",
     "text": [
      "1\n",
      "2\n",
      "3\n",
      "4\n",
      "5\n",
      "6\n",
      "7\n",
      "8\n",
      "9\n",
      "10\n"
     ]
    }
   ],
   "source": [
    "lista = [1, 2, 3, 4, 5, 6, 7, 8, 9, 10] \n",
    "\n",
    "for x in lista:\n",
    "    print(x)"
   ]
  },
  {
   "cell_type": "markdown",
   "metadata": {},
   "source": [
    "**Desafío**:\n",
    "Recorrer la lista anterior y imprimir el cuadrado de cada valor\n",
    "\n"
   ]
  },
  {
   "cell_type": "code",
   "execution_count": 62,
   "metadata": {},
   "outputs": [
    {
     "ename": "SyntaxError",
     "evalue": "invalid syntax (<ipython-input-62-8664898faeb5>, line 4)",
     "output_type": "error",
     "traceback": [
      "\u001b[1;36m  File \u001b[1;32m\"<ipython-input-62-8664898faeb5>\"\u001b[1;36m, line \u001b[1;32m4\u001b[0m\n\u001b[1;33m    print( ? )\u001b[0m\n\u001b[1;37m           ^\u001b[0m\n\u001b[1;31mSyntaxError\u001b[0m\u001b[1;31m:\u001b[0m invalid syntax\n"
     ]
    }
   ],
   "source": [
    "lista = [1, 2, 3, 4, 5, 6, 7, 8, 9, 10] \n",
    "\n",
    "for x in lista:\n",
    "    print( ? )"
   ]
  },
  {
   "cell_type": "markdown",
   "metadata": {},
   "source": [
    "**Desafío**:\n",
    "Crear una nueva lista con que contenga los cuadrados de los valores de la lista anterior.\n"
   ]
  },
  {
   "cell_type": "code",
   "execution_count": 63,
   "metadata": {},
   "outputs": [
    {
     "name": "stdout",
     "output_type": "stream",
     "text": [
      "[]\n"
     ]
    }
   ],
   "source": [
    "nueva_lista = []\n",
    "lista = [1, 2, 3, 4, 5, 6, 7, 8, 9, 10] \n",
    "for x in lista:\n",
    "    \"?\"\n",
    "\n",
    "print(nueva_lista)"
   ]
  },
  {
   "cell_type": "markdown",
   "metadata": {
    "slideshow": {
     "slide_type": "slide"
    }
   },
   "source": [
    "## Diccionarios\n",
    "* Los diccionarios son agrupaciones de datos del tipos Clave -> Valor. No tienen orden. Así como las listas se declaran con corchetes, los diccionarios se declaran con llaves, siguiendo la sintaxis:\n",
    "```python\n",
    "mamiferos = {\n",
    "    \"orangutan\" : 'placentario', \n",
    "    \"canguro\" : 'marsupial'\n",
    "}\n",
    "```\n",
    "* Se puede acceder a los valores para cada clave, por ejemplo:\n",
    "```python\n",
    "mamiferos['orangutan']\n",
    "```\n",
    "* ¿Qué cosas quiero hacer un diccionario?\n",
    " * Guardar (o actualizar) un dato con clave\n",
    " * Recuperar un dato por su clave\n",
    " * Saber si una valor dado es una clave\n",
    " * Recuperar todas las claves\n",
    " * Eliminar valores.\n",
    " \n",
    "### Guardar y recuperar valores"
   ]
  },
  {
   "cell_type": "code",
   "execution_count": 58,
   "metadata": {},
   "outputs": [
    {
     "name": "stdout",
     "output_type": "stream",
     "text": [
      "Jose Perez\n",
      "Jose Jorge Perez\n"
     ]
    }
   ],
   "source": [
    "personas = dict()  # la función dict crea un nuevo diccionario vacio.\n",
    "# Se guardan los nombres de personas usando como clave el DNI.\n",
    "\n",
    "personas[20000001] = 'Jose Perez'\n",
    "print(personas[20000001])\n",
    "\n",
    "personas[20000002] = 'Julian Alvarez'\n",
    "\n",
    "personas[20000001] = 'Jose Jorge Perez'\n",
    "\n",
    "print(personas[20000001])\n"
   ]
  },
  {
   "cell_type": "markdown",
   "metadata": {},
   "source": [
    "**Desafío** Agregue cinco personas más al diccionario personas."
   ]
  },
  {
   "cell_type": "code",
   "execution_count": 59,
   "metadata": {},
   "outputs": [
    {
     "ename": "SyntaxError",
     "evalue": "invalid syntax (<ipython-input-59-e017238cefa0>, line 1)",
     "output_type": "error",
     "traceback": [
      "\u001b[1;36m  File \u001b[1;32m\"<ipython-input-59-e017238cefa0>\"\u001b[1;36m, line \u001b[1;32m1\u001b[0m\n\u001b[1;33m    personas[]\u001b[0m\n\u001b[1;37m             ^\u001b[0m\n\u001b[1;31mSyntaxError\u001b[0m\u001b[1;31m:\u001b[0m invalid syntax\n"
     ]
    }
   ],
   "source": [
    "personas[]"
   ]
  },
  {
   "cell_type": "markdown",
   "metadata": {
    "slideshow": {
     "slide_type": "slide"
    }
   },
   "source": [
    "### Recuperar todas las claves y valores\n",
    "* Las funciones **keys()** y **values()** permiten recuperar listas con las claves y los valores. \n",
    "* No tienen ningún orden."
   ]
  },
  {
   "cell_type": "code",
   "execution_count": 50,
   "metadata": {},
   "outputs": [
    {
     "name": "stdout",
     "output_type": "stream",
     "text": [
      "dict_keys([20000001, 20000002])\n",
      "dict_values(['Jose Jorge Perez', 'Julian Alvarez'])\n"
     ]
    }
   ],
   "source": [
    "print( personas.keys() )\n",
    "print( personas.values() )"
   ]
  },
  {
   "cell_type": "markdown",
   "metadata": {
    "slideshow": {
     "slide_type": "-"
    }
   },
   "source": [
    "* Las claves pueden ser valores de diferentes tipos: str, int, bool, tuplas. Pero no listas. \n",
    "* Los valores también pueden valores de diferentes tipos, incluyendo listas."
   ]
  },
  {
   "cell_type": "code",
   "execution_count": 51,
   "metadata": {},
   "outputs": [],
   "source": [
    "personas[\"20000003\"] = \"José de San Martín\"\n",
    "personas[( 1,2)] = False # (1, 2) es una tupla"
   ]
  },
  {
   "cell_type": "markdown",
   "metadata": {
    "slideshow": {
     "slide_type": "slide"
    }
   },
   "source": [
    "### Comprobar si una clave pertenece a un diccionario\n",
    "* El operador **in** permite esto."
   ]
  },
  {
   "cell_type": "code",
   "execution_count": 14,
   "metadata": {},
   "outputs": [
    {
     "data": {
      "text/plain": [
       "True"
      ]
     },
     "execution_count": 14,
     "metadata": {},
     "output_type": "execute_result"
    }
   ],
   "source": [
    "\"20000003\" in personas"
   ]
  },
  {
   "cell_type": "code",
   "execution_count": 15,
   "metadata": {},
   "outputs": [
    {
     "data": {
      "text/plain": [
       "False"
      ]
     },
     "execution_count": 15,
     "metadata": {},
     "output_type": "execute_result"
    }
   ],
   "source": [
    "20000005 in personas"
   ]
  },
  {
   "cell_type": "markdown",
   "metadata": {
    "slideshow": {
     "slide_type": "slide"
    }
   },
   "source": [
    "### Diferentes formas de construir un diccionario\n",
    "#### Crear un diccionario vacio y agregar elementos individualmente.\n"
   ]
  },
  {
   "cell_type": "code",
   "execution_count": 16,
   "metadata": {},
   "outputs": [],
   "source": [
    "diccionarioUno = {} # o diccionarioUno = dict()\n",
    "diccionarioUno[1] = 'Uno'\n",
    "diccionarioUno[2] = 'Dos'"
   ]
  },
  {
   "cell_type": "markdown",
   "metadata": {},
   "source": [
    "#### Usar el constructor '{}'\n",
    "* Se usa ':' para separar la clave del valor."
   ]
  },
  {
   "cell_type": "code",
   "execution_count": 17,
   "metadata": {},
   "outputs": [],
   "source": [
    "diccionarioDos = { 1 : 'Uno', 2 : 'Dos' }"
   ]
  },
  {
   "cell_type": "markdown",
   "metadata": {},
   "source": [
    "#### Usar el constructor dict()\n",
    "* El argumento es una lista de tuplas.\n",
    "* El primer elemento de cada tupla es la clave, el segundo es el valor."
   ]
  },
  {
   "cell_type": "code",
   "execution_count": 18,
   "metadata": {},
   "outputs": [],
   "source": [
    "diccionarioTres = dict( [ ( 1,'Uno'), ( 2, 'Dos' ) ] )"
   ]
  },
  {
   "cell_type": "markdown",
   "metadata": {
    "slideshow": {
     "slide_type": "slide"
    }
   },
   "source": [
    "### Otras funciones útiles de diccionarios\n",
    "* .clear() : Borra todos los elementeos de diccionario\n",
    "* .copy() : Devuelve una copia del diccionario\n",
    "* .items() : Delvuelve una lista de tuplas (clave, valor)\n",
    "* .update() : Actualiza un diccionario con valores de otro.\n",
    "* len() : Devuelve la cantidad de elementos en el diccionario."
   ]
  },
  {
   "cell_type": "markdown",
   "metadata": {},
   "source": [
    "**Desafío** Construya dos diccionarios como los que se muestran debajo.\n",
    "Luego, agregue los elementos del diccionatio dicc_2 a dicc_1.\n",
    "**Ayuda**: use una de las funciones de la lista anterior.\n",
    "dicc_1 = {'EcoRI': 'G|AATTC', 'BamHI': 'G|GATCC'}\n",
    "dicc_2 = {'HindIII': 'A|AGCTT', 'KpnI': 'GGTAC|C'}"
   ]
  },
  {
   "cell_type": "code",
   "execution_count": 56,
   "metadata": {},
   "outputs": [
    {
     "ename": "NameError",
     "evalue": "name 'fail' is not defined",
     "output_type": "error",
     "traceback": [
      "\u001b[1;31m---------------------------------------------------------------------------\u001b[0m",
      "\u001b[1;31mNameError\u001b[0m                                 Traceback (most recent call last)",
      "\u001b[1;32m<ipython-input-56-55bd60b18026>\u001b[0m in \u001b[0;36m<module>\u001b[1;34m\u001b[0m\n\u001b[0;32m      1\u001b[0m \u001b[0mdicc_1\u001b[0m \u001b[1;33m=\u001b[0m \u001b[1;33m{\u001b[0m\u001b[1;34m'EcoRI'\u001b[0m\u001b[1;33m:\u001b[0m \u001b[1;34m'G|AATTC'\u001b[0m\u001b[1;33m,\u001b[0m \u001b[1;34m'BamHI'\u001b[0m\u001b[1;33m:\u001b[0m \u001b[1;34m'G|GATCC'\u001b[0m\u001b[1;33m}\u001b[0m\u001b[1;33m\u001b[0m\u001b[1;33m\u001b[0m\u001b[0m\n\u001b[0;32m      2\u001b[0m \u001b[0mdicc_2\u001b[0m \u001b[1;33m=\u001b[0m \u001b[1;33m{\u001b[0m\u001b[1;34m'HindIII'\u001b[0m\u001b[1;33m:\u001b[0m \u001b[1;34m'A|AGCTT'\u001b[0m\u001b[1;33m,\u001b[0m \u001b[1;34m'KpnI'\u001b[0m\u001b[1;33m:\u001b[0m \u001b[1;34m'GGTAC|C'\u001b[0m\u001b[1;33m}\u001b[0m\u001b[1;33m\u001b[0m\u001b[1;33m\u001b[0m\u001b[0m\n\u001b[1;32m----> 3\u001b[1;33m \u001b[0mfail\u001b[0m\u001b[1;33m(\u001b[0m\u001b[1;33m)\u001b[0m\u001b[1;33m\u001b[0m\u001b[1;33m\u001b[0m\u001b[0m\n\u001b[0m",
      "\u001b[1;31mNameError\u001b[0m: name 'fail' is not defined"
     ]
    }
   ],
   "source": [
    "dicc_1 = {'EcoRI': 'G|AATTC', 'BamHI': 'G|GATCC'}\n",
    "dicc_2 = {'HindIII': 'A|AGCTT', 'KpnI': 'GGTAC|C'}\n",
    "fail()"
   ]
  },
  {
   "cell_type": "markdown",
   "metadata": {
    "slideshow": {
     "slide_type": "slide"
    }
   },
   "source": [
    "# Estructuras de control\n",
    "Python, al igual que todos los lenguages de programación, incluye sentencias permiten controlar el flujo del programa. Esto permite tomar desiciones, repetir una tarea y recorrer estructuras de datos.\n"
   ]
  },
  {
   "cell_type": "markdown",
   "metadata": {
    "slideshow": {
     "slide_type": "slide"
    }
   },
   "source": [
    "## Ejecución condicional: if"
   ]
  },
  {
   "cell_type": "markdown",
   "metadata": {},
   "source": [
    "La estructura general es:\n",
    "```python\n",
    "if condicion:\n",
    "    Codigo si la condicion es verdadera\n",
    "else :\n",
    "    Codigo si la condicion es falsa\n",
    "```"
   ]
  },
  {
   "cell_type": "code",
   "execution_count": 23,
   "metadata": {
    "slideshow": {
     "slide_type": "-"
    }
   },
   "outputs": [
    {
     "name": "stdout",
     "output_type": "stream",
     "text": [
      "a no es igual a cero\n"
     ]
    }
   ],
   "source": [
    "a = 1\n",
    "if a == 0 :\n",
    "    print(\"a es igual a cero\")\n",
    "else :\n",
    "    print(\"a no es igual a cero\")"
   ]
  },
  {
   "cell_type": "markdown",
   "metadata": {
    "slideshow": {
     "slide_type": "slide"
    }
   },
   "source": [
    "La sentencia **else** es opcional"
   ]
  },
  {
   "cell_type": "code",
   "execution_count": 24,
   "metadata": {},
   "outputs": [
    {
     "name": "stdout",
     "output_type": "stream",
     "text": [
      "a es igual a cero\n"
     ]
    }
   ],
   "source": [
    "a = 0\n",
    "if a == 0 :\n",
    "    print(\"a es igual a cero\")"
   ]
  },
  {
   "cell_type": "markdown",
   "metadata": {
    "slideshow": {
     "slide_type": "slide"
    }
   },
   "source": [
    "### If anidados"
   ]
  },
  {
   "cell_type": "code",
   "execution_count": 25,
   "metadata": {},
   "outputs": [
    {
     "name": "stdout",
     "output_type": "stream",
     "text": [
      "a no es cero, ni uno, dos\n"
     ]
    }
   ],
   "source": [
    "a = 3\n",
    "if a == 0 :\n",
    "    print(\"a es igual a cero\")\n",
    "else :\n",
    "    if a == 1:\n",
    "        print(\"a es igual a uno\")\n",
    "    else :\n",
    "        if a == 2:\n",
    "            print(\"a es igual a dos\")\n",
    "        else :\n",
    "            print(\"a no es cero, ni uno, dos\")"
   ]
  },
  {
   "cell_type": "markdown",
   "metadata": {
    "slideshow": {
     "slide_type": "slide"
    }
   },
   "source": [
    "Esto mismo puede escribirse de una forma más legible usando **elif**"
   ]
  },
  {
   "cell_type": "code",
   "execution_count": 26,
   "metadata": {},
   "outputs": [
    {
     "name": "stdout",
     "output_type": "stream",
     "text": [
      "a no es cero, ni uno, dos\n"
     ]
    }
   ],
   "source": [
    "a = 3\n",
    "if a == 0 :\n",
    "    print(\"a es igual a cero\")\n",
    "elif a == 1:\n",
    "    print(\"a es igual a uno\")\n",
    "elif a == 2:\n",
    "    print(\"a es igual a dos\")   \n",
    "else :\n",
    "    print(\"a no es cero, ni uno, dos\")"
   ]
  },
  {
   "cell_type": "markdown",
   "metadata": {
    "slideshow": {
     "slide_type": "slide"
    }
   },
   "source": [
    "## Iteración por los elementos de una estructura de datos: for"
   ]
  },
  {
   "cell_type": "markdown",
   "metadata": {},
   "source": [
    "La sentencia **for** se usa para recorrer listas, diccionarios, strings, etc."
   ]
  },
  {
   "cell_type": "markdown",
   "metadata": {},
   "source": [
    "La estructura general es:\n",
    "```python\n",
    "for elemento in coleccion:\n",
    "    Codigo para cada elemento\n",
    "```"
   ]
  },
  {
   "cell_type": "code",
   "execution_count": 110,
   "metadata": {},
   "outputs": [
    {
     "name": "stdout",
     "output_type": "stream",
     "text": [
      "1\n",
      "2\n",
      "3\n",
      "4\n",
      "5\n"
     ]
    }
   ],
   "source": [
    "for i in [1, 2, 3, 4, 5]:\n",
    "    print(i)"
   ]
  },
  {
   "cell_type": "code",
   "execution_count": 115,
   "metadata": {},
   "outputs": [
    {
     "name": "stdout",
     "output_type": "stream",
     "text": [
      "1 -> a\n",
      "2 -> b\n",
      "3 -> c\n"
     ]
    }
   ],
   "source": [
    "mi_dict = {1: 'a', 2: 'b', 3: 'c'}\n",
    "\n",
    "for k in mi_dict:\n",
    "    print(str(k) + \" -> \" + mi_dict[k])"
   ]
  },
  {
   "cell_type": "code",
   "execution_count": 50,
   "metadata": {},
   "outputs": [
    {
     "name": "stdout",
     "output_type": "stream",
     "text": [
      "h\n",
      "o\n",
      "l\n",
      "a\n"
     ]
    }
   ],
   "source": [
    "for letra in \"hola\" :\n",
    "    print(letra)"
   ]
  },
  {
   "cell_type": "markdown",
   "metadata": {
    "slideshow": {
     "slide_type": "slide"
    }
   },
   "source": [
    "**Desafío** calcular la suma de una lista de números"
   ]
  },
  {
   "cell_type": "code",
   "execution_count": 117,
   "metadata": {},
   "outputs": [
    {
     "ename": "NameError",
     "evalue": "name 'fail' is not defined",
     "output_type": "error",
     "traceback": [
      "\u001b[1;31m---------------------------------------------------------------------------\u001b[0m",
      "\u001b[1;31mNameError\u001b[0m                                 Traceback (most recent call last)",
      "\u001b[1;32m<ipython-input-117-d47f1cc58923>\u001b[0m in \u001b[0;36m<module>\u001b[1;34m\u001b[0m\n\u001b[0;32m      1\u001b[0m \u001b[0mfibo\u001b[0m \u001b[1;33m=\u001b[0m \u001b[1;33m[\u001b[0m\u001b[1;36m0\u001b[0m\u001b[1;33m,\u001b[0m\u001b[1;36m1\u001b[0m\u001b[1;33m,\u001b[0m\u001b[1;36m1\u001b[0m\u001b[1;33m,\u001b[0m\u001b[1;36m2\u001b[0m\u001b[1;33m,\u001b[0m\u001b[1;36m3\u001b[0m\u001b[1;33m,\u001b[0m\u001b[1;36m5\u001b[0m\u001b[1;33m,\u001b[0m\u001b[1;36m8\u001b[0m\u001b[1;33m]\u001b[0m\u001b[1;33m\u001b[0m\u001b[1;33m\u001b[0m\u001b[0m\n\u001b[1;32m----> 2\u001b[1;33m \u001b[0msuma\u001b[0m \u001b[1;33m=\u001b[0m \u001b[0mfail\u001b[0m\u001b[1;33m(\u001b[0m\u001b[1;33m)\u001b[0m\u001b[1;33m\u001b[0m\u001b[1;33m\u001b[0m\u001b[0m\n\u001b[0m\u001b[0;32m      3\u001b[0m \u001b[0mprint\u001b[0m\u001b[1;33m(\u001b[0m\u001b[0msuma\u001b[0m\u001b[1;33m)\u001b[0m\u001b[1;33m\u001b[0m\u001b[1;33m\u001b[0m\u001b[0m\n",
      "\u001b[1;31mNameError\u001b[0m: name 'fail' is not defined"
     ]
    }
   ],
   "source": [
    "fibo = [0,1,1,2,3,5,8]\n",
    "suma = fail()\n",
    "print(suma)"
   ]
  },
  {
   "cell_type": "markdown",
   "metadata": {
    "slideshow": {
     "slide_type": "slide"
    }
   },
   "source": [
    "La función **range** permite crear listas para la iteración con **for**"
   ]
  },
  {
   "cell_type": "code",
   "execution_count": 53,
   "metadata": {},
   "outputs": [
    {
     "name": "stdout",
     "output_type": "stream",
     "text": [
      "1 es un número impar\n",
      "3 es un número impar\n",
      "5 es un número impar\n",
      "7 es un número impar\n",
      "9 es un número impar\n"
     ]
    }
   ],
   "source": [
    "inicio = 1\n",
    "final = 10\n",
    "salto = 2\n",
    "for impar in range(inicio, final, salto) :\n",
    "    print(str(impar) + \" es un número impar\")"
   ]
  },
  {
   "cell_type": "markdown",
   "metadata": {},
   "source": [
    "**desafío** crear una lista con los múltiplos de 7 menores que 100"
   ]
  },
  {
   "cell_type": "code",
   "execution_count": 111,
   "metadata": {},
   "outputs": [
    {
     "ename": "NameError",
     "evalue": "name 'fail' is not defined",
     "output_type": "error",
     "traceback": [
      "\u001b[1;31m---------------------------------------------------------------------------\u001b[0m",
      "\u001b[1;31mNameError\u001b[0m                                 Traceback (most recent call last)",
      "\u001b[1;32m<ipython-input-111-e0d916aea843>\u001b[0m in \u001b[0;36m<module>\u001b[1;34m\u001b[0m\n\u001b[1;32m----> 1\u001b[1;33m \u001b[0mfail\u001b[0m\u001b[1;33m(\u001b[0m\u001b[1;33m)\u001b[0m\u001b[1;33m\u001b[0m\u001b[1;33m\u001b[0m\u001b[0m\n\u001b[0m",
      "\u001b[1;31mNameError\u001b[0m: name 'fail' is not defined"
     ]
    }
   ],
   "source": [
    "fail()"
   ]
  },
  {
   "cell_type": "markdown",
   "metadata": {},
   "source": [
    "**desafío** crear, a partir de la lista que aparece abajo, una nueva lista que contenga solo las palabras con un número par de caracteres."
   ]
  },
  {
   "cell_type": "code",
   "execution_count": 118,
   "metadata": {},
   "outputs": [
    {
     "ename": "NameError",
     "evalue": "name 'fail' is not defined",
     "output_type": "error",
     "traceback": [
      "\u001b[1;31m---------------------------------------------------------------------------\u001b[0m",
      "\u001b[1;31mNameError\u001b[0m                                 Traceback (most recent call last)",
      "\u001b[1;32m<ipython-input-118-682c98a992c0>\u001b[0m in \u001b[0;36m<module>\u001b[1;34m\u001b[0m\n\u001b[0;32m      1\u001b[0m \u001b[0mlista\u001b[0m \u001b[1;33m=\u001b[0m \u001b[1;33m[\u001b[0m\u001b[1;34m\"calculadora\"\u001b[0m\u001b[1;33m,\u001b[0m \u001b[1;34m\"lápiz\"\u001b[0m\u001b[1;33m,\u001b[0m \u001b[1;34m\"cubo\"\u001b[0m\u001b[1;33m,\u001b[0m \u001b[1;34m\"mágico\"\u001b[0m\u001b[1;33m,\u001b[0m \u001b[1;34m\"anteojos\"\u001b[0m\u001b[1;33m,\u001b[0m \u001b[1;34m\"papel\"\u001b[0m\u001b[1;33m]\u001b[0m\u001b[1;33m\u001b[0m\u001b[1;33m\u001b[0m\u001b[0m\n\u001b[1;32m----> 2\u001b[1;33m \u001b[0mfail\u001b[0m\u001b[1;33m(\u001b[0m\u001b[1;33m)\u001b[0m\u001b[1;33m\u001b[0m\u001b[1;33m\u001b[0m\u001b[0m\n\u001b[0m",
      "\u001b[1;31mNameError\u001b[0m: name 'fail' is not defined"
     ]
    }
   ],
   "source": [
    "lista = [\"calculadora\", \"lápiz\", \"cubo\", \"mágico\", \"anteojos\", \"papel\"]\n",
    "fail()"
   ]
  },
  {
   "cell_type": "markdown",
   "metadata": {
    "slideshow": {
     "slide_type": "slide"
    }
   },
   "source": [
    "### Recorrer diccionarios"
   ]
  },
  {
   "cell_type": "code",
   "execution_count": 119,
   "metadata": {},
   "outputs": [
    {
     "name": "stdout",
     "output_type": "stream",
     "text": [
      "El sitio de reconocimiento de EcoRI es G|AATTC\n",
      "El sitio de reconocimiento de BamHI es G|GATCC\n",
      "El sitio de reconocimiento de HindIII es A|AGCTT\n",
      "El sitio de reconocimiento de KpnI es GGTAC|C\n",
      "El sitio de reconocimiento de StuI es AGG|CCT\n"
     ]
    }
   ],
   "source": [
    "enzimas = {\n",
    "    'EcoRI': 'G|AATTC',\n",
    "    'BamHI': 'G|GATCC',\n",
    "    'HindIII': 'A|AGCTT',\n",
    "    'KpnI': 'GGTAC|C',\n",
    "    'StuI': 'AGG|CCT'\n",
    "}\n",
    "for enzima in enzimas:\n",
    "    print(\"El sitio de reconocimiento de \" + enzima + \" es \" + enzimas[enzima])"
   ]
  },
  {
   "cell_type": "code",
   "execution_count": 121,
   "metadata": {
    "slideshow": {
     "slide_type": "fragment"
    }
   },
   "outputs": [
    {
     "name": "stdout",
     "output_type": "stream",
     "text": [
      "El sitio de reconocimiento de EcoRI es G|AATTC\n",
      "El sitio de reconocimiento de BamHI es G|GATCC\n",
      "El sitio de reconocimiento de HindIII es A|AGCTT\n",
      "El sitio de reconocimiento de KpnI es GGTAC|C\n",
      "El sitio de reconocimiento de StuI es AGG|CCT\n"
     ]
    }
   ],
   "source": [
    "for enzima, sitio in enzimas.items():\n",
    "    print(\"El sitio de reconocimiento de \" + enzima + \" es \" + sitio)"
   ]
  },
  {
   "cell_type": "markdown",
   "metadata": {
    "slideshow": {
     "slide_type": "slide"
    }
   },
   "source": [
    "# Definir funciones propias"
   ]
  },
  {
   "cell_type": "markdown",
   "metadata": {},
   "source": [
    "No solo podemos usar la funciones propias de Python, sino que podemos crear las nuestras propias."
   ]
  },
  {
   "cell_type": "code",
   "execution_count": 124,
   "metadata": {},
   "outputs": [
    {
     "name": "stdout",
     "output_type": "stream",
     "text": [
      "{'B': 1, 'u': 1, 'e': 2, 'n': 3, 'o': 1, 's': 2, ' ': 2, 'd': 1, 'í': 1, 'a': 2, ',': 1, 'A': 1, 'r': 1, 'g': 1, 't': 1, 'i': 1, '!': 1}\n"
     ]
    }
   ],
   "source": [
    "def contarCaracteres(cadena):\n",
    "    \"\"\"\n",
    "    Esta función lee una cadena de carecteres (string)\n",
    "    y devuelve un diccionario cuyas claves son los caracteres\n",
    "    de la cadena de entrada. El valor asociado con cada clave\n",
    "    es la cantidad de veces que aparece ese caracter.\n",
    "    Esta función distingue entre mayúsculas y minúsculas.\n",
    "    \"\"\"\n",
    "    resultado = {}\n",
    "    for letra in cadena:\n",
    "        resultado[letra] = cadena.count(letra)\n",
    "    return resultado\n",
    "\n",
    "print(contarCaracteres('Buenos días, Argentina!'))"
   ]
  },
  {
   "cell_type": "markdown",
   "metadata": {},
   "source": [
    "**Desafío** Escribir una función *contarCaracteres2* que haga lo mismo que *contarCaracteres*, pero que no distinga entre mayúsculas y minúsculas."
   ]
  },
  {
   "cell_type": "code",
   "execution_count": 127,
   "metadata": {},
   "outputs": [
    {
     "ename": "NameError",
     "evalue": "name 'fail' is not defined",
     "output_type": "error",
     "traceback": [
      "\u001b[1;31m---------------------------------------------------------------------------\u001b[0m",
      "\u001b[1;31mNameError\u001b[0m                                 Traceback (most recent call last)",
      "\u001b[1;32m<ipython-input-127-3c0d256c4ae4>\u001b[0m in \u001b[0;36m<module>\u001b[1;34m\u001b[0m\n\u001b[0;32m      8\u001b[0m     \u001b[1;32mreturn\u001b[0m \u001b[0mfail\u001b[0m\u001b[1;33m(\u001b[0m\u001b[1;33m)\u001b[0m\u001b[1;33m\u001b[0m\u001b[1;33m\u001b[0m\u001b[0m\n\u001b[0;32m      9\u001b[0m \u001b[1;33m\u001b[0m\u001b[0m\n\u001b[1;32m---> 10\u001b[1;33m \u001b[0mprint\u001b[0m\u001b[1;33m(\u001b[0m\u001b[0mcontarCaracteres2\u001b[0m\u001b[1;33m(\u001b[0m\u001b[1;34m'Buenos días, Argentina!'\u001b[0m\u001b[1;33m)\u001b[0m\u001b[1;33m)\u001b[0m\u001b[1;33m\u001b[0m\u001b[1;33m\u001b[0m\u001b[0m\n\u001b[0m",
      "\u001b[1;32m<ipython-input-127-3c0d256c4ae4>\u001b[0m in \u001b[0;36mcontarCaracteres2\u001b[1;34m(cadena)\u001b[0m\n\u001b[0;32m      6\u001b[0m     \u001b[0mes\u001b[0m \u001b[0mla\u001b[0m \u001b[0mcantidad\u001b[0m \u001b[0mde\u001b[0m \u001b[0mveces\u001b[0m \u001b[0mque\u001b[0m \u001b[0maparece\u001b[0m \u001b[0mese\u001b[0m \u001b[0mcaracter\u001b[0m\u001b[1;33m.\u001b[0m\u001b[1;33m\u001b[0m\u001b[1;33m\u001b[0m\u001b[0m\n\u001b[0;32m      7\u001b[0m     \"\"\"\n\u001b[1;32m----> 8\u001b[1;33m     \u001b[1;32mreturn\u001b[0m \u001b[0mfail\u001b[0m\u001b[1;33m(\u001b[0m\u001b[1;33m)\u001b[0m\u001b[1;33m\u001b[0m\u001b[1;33m\u001b[0m\u001b[0m\n\u001b[0m\u001b[0;32m      9\u001b[0m \u001b[1;33m\u001b[0m\u001b[0m\n\u001b[0;32m     10\u001b[0m \u001b[0mprint\u001b[0m\u001b[1;33m(\u001b[0m\u001b[0mcontarCaracteres2\u001b[0m\u001b[1;33m(\u001b[0m\u001b[1;34m'Buenos días, Argentina!'\u001b[0m\u001b[1;33m)\u001b[0m\u001b[1;33m)\u001b[0m\u001b[1;33m\u001b[0m\u001b[1;33m\u001b[0m\u001b[0m\n",
      "\u001b[1;31mNameError\u001b[0m: name 'fail' is not defined"
     ]
    }
   ],
   "source": [
    "def contarCaracteres2(cadena):\n",
    "    \"\"\"\n",
    "    Esta función lee una cadena de carecteres (string)\n",
    "    y devuelve un diccionario cuyas claves son los caracteres\n",
    "    de la cadena de entrada. El valor asociado con cada clave\n",
    "    es la cantidad de veces que aparece ese caracter.\n",
    "    Esta función no distingue entre mayúsculas y minúsculas,\n",
    "    trata a todos los caracteres como si fueran mayúsculas.\n",
    "    \"\"\"\n",
    "    return fail()\n",
    "\n",
    "print(contarCaracteres2('Buenos días, Argentina!'))"
   ]
  },
  {
   "cell_type": "markdown",
   "metadata": {
    "slideshow": {
     "slide_type": "slide"
    }
   },
   "source": [
    "# Importar funciones y módulos \n",
    "Ya vimos en varios ejemplos como usar funciones de la instalación estándar de python.\n",
    "Sin embargo gran parte de la funcionalidad de python proviene de funciones no incluidas dentro de esta, sino que están incluidas en otros **módulos**."
   ]
  },
  {
   "cell_type": "code",
   "execution_count": 27,
   "metadata": {},
   "outputs": [],
   "source": [
    "import Bio # Carga el módulo de biopython"
   ]
  },
  {
   "cell_type": "markdown",
   "metadata": {
    "slideshow": {
     "slide_type": "fragment"
    }
   },
   "source": [
    "Se puede cargar solo lo necesario de un módulo."
   ]
  },
  {
   "cell_type": "code",
   "execution_count": 28,
   "metadata": {},
   "outputs": [],
   "source": [
    "from Bio import PDB # Carga 'PDB' desde el modulo Bio."
   ]
  },
  {
   "cell_type": "markdown",
   "metadata": {
    "slideshow": {
     "slide_type": "slide"
    }
   },
   "source": [
    "# Objetos\n",
    "* Los objetos son estructuras que agrupan valores y funciones (que se llaman métodos) para esos datos.\n",
    "* El operador '**.**' (punto) se usa para especificar un método o un valor de un objeto:\n",
    "  * objeto.metodo( argumentos )\n",
    "  * objeto.valor"
   ]
  },
  {
   "cell_type": "code",
   "execution_count": 129,
   "metadata": {
    "slideshow": {
     "slide_type": "fragment"
    }
   },
   "outputs": [
    {
     "name": "stdout",
     "output_type": "stream",
     "text": [
      "ATG---AUG\n",
      "ATGAUG\n"
     ]
    }
   ],
   "source": [
    "from Bio.Seq import Seq\n",
    "\n",
    "obj = Seq(\"ATG---AUG\")\n",
    "other_obj = obj.ungap(gap=\"-\")\n",
    "print(obj)\n",
    "print(other_obj)\n"
   ]
  },
  {
   "cell_type": "markdown",
   "metadata": {
    "slideshow": {
     "slide_type": "slide"
    }
   },
   "source": [
    "# Lectura y escritura de archivos"
   ]
  },
  {
   "cell_type": "markdown",
   "metadata": {},
   "source": [
    "Tanto para leer o escribir un archivo existente, o crear uno nuevo es necesario \"abrirlo\".\n",
    "Esto se hace con la función **open()**. Lo que podemos hacer con ese archivo abierto depende de los argumentos que le pasemos a la función. Finalmente, hay que \"cerrar\" el archivo. Con la función **close()**"
   ]
  },
  {
   "cell_type": "code",
   "execution_count": 68,
   "metadata": {},
   "outputs": [],
   "source": [
    "fh = open( 'mi_archivo.txt', 'w')\n",
    "# El primer argumento es el nombre del archivo, el segundo es el modo de acceso.\n",
    "# En este caso es de escritura 'w' : write\n",
    "fh.write(\"Este es el contenido del archivo\\n\")\n",
    "# \\n representa el caracter de fin de línea.\n",
    "fh.close()"
   ]
  },
  {
   "cell_type": "markdown",
   "metadata": {},
   "source": [
    "Los modos de acceso para archivos de texto son:\n",
    "* w - Write / Escritura\n",
    "* r - Read / Lectura\n",
    "* a - Append / Agrega nuevos datos a un archivo existente\n",
    "* r+ - Read+Write / Lectura y escritura simultánea."
   ]
  },
  {
   "cell_type": "code",
   "execution_count": 135,
   "metadata": {
    "slideshow": {
     "slide_type": "slide"
    }
   },
   "outputs": [
    {
     "name": "stdout",
     "output_type": "stream",
     "text": [
      "['GACTAGAATGAGATCAGAGAGGACCGTCGGAAGATGGATACTGTATTCAA', 'TCCGCTACCATTGGTTTCTGGGGTCAGGGCTGCCTTACCAGCGCAGCTAC', 'ACATGACCTATACCGGTTTCATCCCCGCCGGCCGCGCGGCCGCAGCCATA', 'GATTGAGGACAGTCGCGAGACAATGAGGTCCGTGAACAACACTCGACACT', 'TCACCACCTGTACTGTAACACACCTGCGCTTGCCCTGTAGCCAATATGCC', 'ATCGTTAACGTTAACCTATGCAATGCGGAAGTGTATCCGCGCCCTAATAC', 'TTAATAAACGGAAGCATACTGAAATCTATATCAGAACGCTACCGGGATAT', 'GTCAATGGGTGCGGGAGTCTGTCGGCTCTTTGCGTCCTGAGCGGTAGCAT', 'TGGATGACACACATTCAGATTATCGTCGAAATACTATAAGGCGTGCAAGA', 'GGCTAGCCGACAATGTAATTCGGTGACTATCCGCAGGATTAGTGCTAACC', 'TATCTCGGTTAAAAGCCGTTATGGGGCTCATGGGATCAGTGTCCAGCTAC', 'CTAGTCATATTTATGCTTAAGCTGTCCCCCTCTCTTGGCGAATCAGTGCG', 'AAGTTTGCCCCACTGTGTCACACTTTGACTGGCCAGCATCCAGCCTCGGT', 'AGTCTACTATAAGATTCTCATTCAACGTATCATAGGAAAGGCACCTTCGG', 'CCGGTTCATGATCGGCACAAACCGGTATATCGCCCATTGCAGATAAAAAT', 'CAACTGGAAAATAATTTTTTTCGCATCTTTGAACAATGACATCGCCCTAC', 'AGATATACCGTGTAGACGCTTTGCGTGTAAACACAGTTTCTTCCGTAAGT', 'CAGCAACCGGAAATTGTGACTGCTGTTTATTTAGATTAACTTGCGACCAA', 'TTAACAGAAGACTCAGGCCAAGCGTTCAACTCGCTTTTTGGGACTGTCCA', 'GCCTGTTTCCCGCTTGATCCAGAGGTACCGGTTTACATAGTAATGGACCA']\n"
     ]
    }
   ],
   "source": [
    "filename = 'secuencias.txt'\n",
    "file_handle = open(filename, 'r')\n",
    "contenido = []\n",
    "for line in file_handle :\n",
    "    contenido.append(line.strip())\n",
    "fh.close()\n",
    "print(contenido)"
   ]
  },
  {
   "cell_type": "markdown",
   "metadata": {
    "slideshow": {
     "slide_type": "slide"
    }
   },
   "source": [
    "Lo mismo se puede hacer usando la sentencia **with**, esta misma se encarga de cerrar el archivo."
   ]
  },
  {
   "cell_type": "code",
   "execution_count": 139,
   "metadata": {
    "scrolled": true,
    "slideshow": {
     "slide_type": "-"
    }
   },
   "outputs": [
    {
     "name": "stdout",
     "output_type": "stream",
     "text": [
      "['GACTAGAATGAGATCAGAGAGGACCGTCGGAAGATGGATACTGTATTCAA', 'TCCGCTACCATTGGTTTCTGGGGTCAGGGCTGCCTTACCAGCGCAGCTAC', 'ACATGACCTATACCGGTTTCATCCCCGCCGGCCGCGCGGCCGCAGCCATA', 'GATTGAGGACAGTCGCGAGACAATGAGGTCCGTGAACAACACTCGACACT', 'TCACCACCTGTACTGTAACACACCTGCGCTTGCCCTGTAGCCAATATGCC', 'ATCGTTAACGTTAACCTATGCAATGCGGAAGTGTATCCGCGCCCTAATAC', 'TTAATAAACGGAAGCATACTGAAATCTATATCAGAACGCTACCGGGATAT', 'GTCAATGGGTGCGGGAGTCTGTCGGCTCTTTGCGTCCTGAGCGGTAGCAT', 'TGGATGACACACATTCAGATTATCGTCGAAATACTATAAGGCGTGCAAGA', 'GGCTAGCCGACAATGTAATTCGGTGACTATCCGCAGGATTAGTGCTAACC', 'TATCTCGGTTAAAAGCCGTTATGGGGCTCATGGGATCAGTGTCCAGCTAC', 'CTAGTCATATTTATGCTTAAGCTGTCCCCCTCTCTTGGCGAATCAGTGCG', 'AAGTTTGCCCCACTGTGTCACACTTTGACTGGCCAGCATCCAGCCTCGGT', 'AGTCTACTATAAGATTCTCATTCAACGTATCATAGGAAAGGCACCTTCGG', 'CCGGTTCATGATCGGCACAAACCGGTATATCGCCCATTGCAGATAAAAAT', 'CAACTGGAAAATAATTTTTTTCGCATCTTTGAACAATGACATCGCCCTAC', 'AGATATACCGTGTAGACGCTTTGCGTGTAAACACAGTTTCTTCCGTAAGT', 'CAGCAACCGGAAATTGTGACTGCTGTTTATTTAGATTAACTTGCGACCAA', 'TTAACAGAAGACTCAGGCCAAGCGTTCAACTCGCTTTTTGGGACTGTCCA', 'GCCTGTTTCCCGCTTGATCCAGAGGTACCGGTTTACATAGTAATGGACCA']\n"
     ]
    }
   ],
   "source": [
    "filename = 'secuencias.txt'\n",
    "contenido = []\n",
    "with open(filename, 'r') as file_handle:\n",
    "    for line in file_handle :\n",
    "        contenido.append(line.strip())\n",
    "print(contenido)"
   ]
  },
  {
   "cell_type": "markdown",
   "metadata": {},
   "source": [
    "**Desafío** Leer el contenido del archivo 'enzimas.txt' y devolver un diccionario que asocie el nombre de cada enzima con las propiedades de cada una."
   ]
  },
  {
   "cell_type": "code",
   "execution_count": 151,
   "metadata": {},
   "outputs": [
    {
     "ename": "NameError",
     "evalue": "name 'fail' is not defined",
     "output_type": "error",
     "traceback": [
      "\u001b[1;31m---------------------------------------------------------------------------\u001b[0m",
      "\u001b[1;31mNameError\u001b[0m                                 Traceback (most recent call last)",
      "\u001b[1;32m<ipython-input-151-e0d916aea843>\u001b[0m in \u001b[0;36m<module>\u001b[1;34m\u001b[0m\n\u001b[1;32m----> 1\u001b[1;33m \u001b[0mfail\u001b[0m\u001b[1;33m(\u001b[0m\u001b[1;33m)\u001b[0m\u001b[1;33m\u001b[0m\u001b[1;33m\u001b[0m\u001b[0m\n\u001b[0m",
      "\u001b[1;31mNameError\u001b[0m: name 'fail' is not defined"
     ]
    }
   ],
   "source": [
    "fail()"
   ]
  }
 ],
 "metadata": {
  "kernelspec": {
   "display_name": "Python 2",
   "language": "python",
   "name": "python2"
  },
  "language_info": {
   "codemirror_mode": {
    "name": "ipython",
    "version": 2
   },
   "file_extension": ".py",
   "mimetype": "text/x-python",
   "name": "python",
   "nbconvert_exporter": "python",
   "pygments_lexer": "ipython2",
   "version": "2.7.14"
  }
 },
 "nbformat": 4,
 "nbformat_minor": 2
}
