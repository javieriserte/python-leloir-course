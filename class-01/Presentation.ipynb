{
 "cells": [
  {
   "cell_type": "markdown",
   "metadata": {
    "slideshow": {
     "slide_type": "slide"
    }
   },
   "source": [
    "# Antes de empezar\n",
    "* Ir a una consola de sistema operativo\n",
    "* Ir a la carpeta con el contenido del curso\n",
    "<pre>\n",
    "> jupyter notebook\n",
    "</pre>\n",
    "* Deberían poder ver esta presentación en el navegador"
   ]
  },
  {
   "cell_type": "markdown",
   "metadata": {
    "slideshow": {
     "slide_type": "slide"
    }
   },
   "source": [
    "# Bienvenidos al curso de Python\n",
    "## ¿Por qué python?\n",
    "* Easy to learn (hard to master)\n",
    "* Es rápido escribir código\n",
    "* Multiplataforma\n",
    "* Muchos recursos disponibles\n",
    "  * Documentación oficial: https://docs.python.org/3/\n"
   ]
  },
  {
   "cell_type": "markdown",
   "metadata": {
    "slideshow": {
     "slide_type": "slide"
    }
   },
   "source": [
    "# Distribuciones de Python y herramientas\n",
    "## Python \"oficial\" ( http://www.python.org)\n",
    "* La más actualizada\n",
    "\n",
    "## Anaconda (https://anaconda.org/)\n",
    "* Contiene paquetes compilados para diferentes sistemas\n",
    "* Suele ser más fácil de usar en Windows.\n",
    "\n",
    "## Versiones\n",
    "* Actualmente, hay dos series de versiones de Python que se siguen manteniendo.\n",
    " * Python 2 (2000) - 2.7.14\n",
    " * Python 3 (2008) - 3.6.4 \n",
    "* ¿Por qué?, incompatibilidad entre versiones.\n",
    " * La comunidad de python se mueve muy lentamente a python 3."
   ]
  },
  {
   "cell_type": "markdown",
   "metadata": {
    "slideshow": {
     "slide_type": "slide"
    }
   },
   "source": [
    "## Jupyter notebook\n",
    "* Permite registrar el código y los resultados parciales que se obtienen, junto con documentación.\n",
    "* Muy útil para hacer análisis de datos.\n",
    "\n",
    "## Entornos de desarrollo (IDE)\n",
    "* Ofrecen muchas herramientas: análisis de códido, depuración, integración con repositorios, etc.\n",
    "* Necesario para desarrollar aplicaciones en python:\n",
    " * pycharm\n",
    " * Eclipse + pydev\n",
    " * atom\n",
    " * VScode"
   ]
  },
  {
   "cell_type": "markdown",
   "metadata": {
    "slideshow": {
     "slide_type": "slide"
    }
   },
   "source": [
    "# Usando python\n",
    "Python se puede utilizar de forma interactiva (dentro de la consola de python o jupyter)\n",
    "\n",
    "<pre>\n",
    ">>> a = 'hola'\n",
    ">>> b = 'chau'\n",
    ">>> print a\n",
    "hola\n",
    ">>> print b\n",
    "chau\n",
    "</pre>\n",
    "... o ejecutando scripts en la consola del sistema operativo. \n",
    "<pre>\n",
    "> python mi_script.py \n",
    "</pre>\n"
   ]
  },
  {
   "cell_type": "markdown",
   "metadata": {
    "slideshow": {
     "slide_type": "slide"
    }
   },
   "source": [
    "## Jupyter\n",
    "Jupyter es una consola interactiva para diversos lenguajes, principalmente Julia (IJulia), Python (IPython) y R.\n",
    "Permite integrar código con sus resultados, anotaciones, imágenes, etc. Finalmente se obtiene una **notebook** que puede compartirse para que otros la ejecuten.\n",
    "\n",
    "Los elementos básicos de jupyter son **celdas**, que pueden ser de código o de comentarios. Cada celda se puede ejecutar individualmente y el resultado se registra debajo de cada celda. \n",
    "\n",
    "Las céldas de comentarios se pueden escribir en un formato se llamado **markdown**\n",
    "\n",
    "http://jupyter-notebook.readthedocs.io/en/stable/examples/Notebook/Working%20With%20Markdown%20Cells.html\n",
    "\n",
    "Para abrir jupyter:\n",
    "<pre>\n",
    "$ jupyter notebook\n",
    "</pre>"
   ]
  },
  {
   "cell_type": "markdown",
   "metadata": {
    "slideshow": {
     "slide_type": "slide"
    }
   },
   "source": [
    "# El 'Hola mundo' de Python\n",
    "## El primer 'Hola mundo'"
   ]
  },
  {
   "cell_type": "code",
   "execution_count": 1,
   "metadata": {
    "scrolled": true,
    "slideshow": {
     "slide_type": "fragment"
    }
   },
   "outputs": [
    {
     "name": "stdout",
     "output_type": "stream",
     "text": [
      "Hola mundo!\n"
     ]
    }
   ],
   "source": [
    "# Esta línea es un comentario.\n",
    "print(\"Hola mundo!\")"
   ]
  },
  {
   "cell_type": "markdown",
   "metadata": {
    "slideshow": {
     "slide_type": "fragment"
    }
   },
   "source": [
    "\"hola mundo!\" es un cadena de caracteres o **string**.\n",
    "\n",
    "**print** es una función. \n",
    "Las funciones en general reciben argumentos entre paréntesis, realizan alguna acción y devuelven un valor."
   ]
  },
  {
   "cell_type": "code",
   "execution_count": null,
   "metadata": {
    "slideshow": {
     "slide_type": "fragment"
    }
   },
   "outputs": [],
   "source": [
    "Cambien el contenido de \"Hola mundo!\" por otra frase, luego hacer clic en 'RUN'"
   ]
  },
  {
   "cell_type": "markdown",
   "metadata": {
    "slideshow": {
     "slide_type": "slide"
    }
   },
   "source": [
    "## El segundo 'Hola mundo'"
   ]
  },
  {
   "cell_type": "code",
   "execution_count": 2,
   "metadata": {
    "scrolled": true,
    "slideshow": {
     "slide_type": "fragment"
    }
   },
   "outputs": [
    {
     "name": "stdout",
     "output_type": "stream",
     "text": [
      "Hola mundo!\n"
     ]
    }
   ],
   "source": [
    "saludo = \"Hola mundo!\"\n",
    "print(saludo)"
   ]
  },
  {
   "cell_type": "markdown",
   "metadata": {
    "slideshow": {
     "slide_type": "fragment"
    }
   },
   "source": [
    "**saludo** es un variable a la que se le está asignando el **string** \"Hola mundo!\""
   ]
  },
  {
   "cell_type": "markdown",
   "metadata": {
    "slideshow": {
     "slide_type": "slide"
    }
   },
   "source": [
    "# Variables, valores y tipos"
   ]
  },
  {
   "cell_type": "markdown",
   "metadata": {
    "slideshow": {
     "slide_type": "fragment"
    }
   },
   "source": [
    "Una **variable** es un espacio para almacenar datos modificables en la memoria de la computadora; una vez declarada Python recordara que esa variable contiene los datos que le hayamos asignado.\n",
    "Todas las **variables** tienen un **valor** asignado y todos los **valores** tienen un tipo asociado."
   ]
  },
  {
   "cell_type": "code",
   "execution_count": 27,
   "metadata": {
    "slideshow": {
     "slide_type": "fragment"
    }
   },
   "outputs": [],
   "source": [
    "saludo = 'Hola'\n",
    "numero = 1\n",
    "resultado = numero + 1"
   ]
  },
  {
   "cell_type": "code",
   "execution_count": null,
   "metadata": {
    "slideshow": {
     "slide_type": "fragment"
    }
   },
   "outputs": [],
   "source": [
    "¿Cuáles son variables, cuales son los valores y cuales son los tipos de esos valores?"
   ]
  },
  {
   "cell_type": "markdown",
   "metadata": {
    "slideshow": {
     "slide_type": "slide"
    }
   },
   "source": [
    "La función type() se usa para conocer el **tipo** de un **valor**:"
   ]
  },
  {
   "cell_type": "code",
   "execution_count": 2,
   "metadata": {
    "slideshow": {
     "slide_type": "fragment"
    }
   },
   "outputs": [
    {
     "name": "stdout",
     "output_type": "stream",
     "text": [
      "<class 'int'>\n",
      "<class 'int'>\n"
     ]
    }
   ],
   "source": [
    "print(type(5))\n",
    "numero=6\n",
    "print(type(numero))"
   ]
  },
  {
   "cell_type": "code",
   "execution_count": null,
   "metadata": {
    "slideshow": {
     "slide_type": "fragment"
    }
   },
   "outputs": [],
   "source": [
    "numero=6\n",
    "print(type(numero))"
   ]
  },
  {
   "cell_type": "markdown",
   "metadata": {
    "slideshow": {
     "slide_type": "fragment"
    }
   },
   "source": [
    "**Desafío**: Declará una 'numero_doble' que almacene el doble del valor de la variable 'numero' e imprimí el tipo de dato que almacena."
   ]
  },
  {
   "cell_type": "markdown",
   "metadata": {
    "slideshow": {
     "slide_type": "slide"
    }
   },
   "source": [
    "## Algunos delos tipos básicos de datos en Python son:\n",
    "* int - para representar números enteros\n",
    "* long - para representar números enteros muy largos\n",
    "* float - para representar números decimales\n",
    "* bool - para representar valores de verdad (True/False)\n",
    "* complex - para representar números complejos (1+2j)"
   ]
  },
  {
   "cell_type": "markdown",
   "metadata": {
    "slideshow": {
     "slide_type": "slide"
    }
   },
   "source": [
    "## Operadores y funciones matemáticas \n",
    "| Operación | Resuldado                        |\n",
    "| --------- | ---------                        |\n",
    "| x + y     | Suma                             |\n",
    "| x - y     | Resta                            |\n",
    "| x / y     | División. Cuidado con los enteros|\n",
    "| x * y     | Multiplicación                   |\n",
    "| x % y     | Resto                            |\n",
    "| abs(x)    | Absoluto                         |\n",
    "| int(x)    | Convierte a entero.              |\n",
    "| long(x)   | Convierte a entero largo.        |\n",
    "| x ** y    | Eleva x a la y                   |\n",
    "\n",
    "**Desafío**:¿Qué resultado arroja la siguiente operación?¿Podrías definir cuál fue la sucesión de pasos que se ejecutaron en esa linea?\n",
    "```python\n",
    "print(5+30*20)\n",
    "```"
   ]
  },
  {
   "cell_type": "markdown",
   "metadata": {
    "slideshow": {
     "slide_type": "slide"
    }
   },
   "source": [
    "## Operadores y funciones lógicas \n",
    "| Operación | Resuldado                        |\n",
    "| --------- | ---------                        |\n",
    "| x and y   | Y lógico entre x e y             |\n",
    "| x or y    | O lógico entre x e y             |\n",
    "| not x     | Negación de x                    |\n",
    "\n",
    "**and** y **or** son cortocircuito."
   ]
  },
  {
   "cell_type": "markdown",
   "metadata": {
    "slideshow": {
     "slide_type": "slide"
    }
   },
   "source": [
    "## Operadores de comparación \n",
    "| Operación | Resuldado                        |\n",
    "| --------- | ---------                        |\n",
    "| x < y     | True si x es menor a y           |\n",
    "| x <= y    | True si x es menor o igual a y   |  \n",
    "| x > y     | True si x es mayor a y           |\n",
    "| x >= y    | True si x es mayor o igual a y   |\n",
    "| x == y    | True si x es igual a y           |\n",
    "| x is y    | True si x es idéntico a y        |\n"
   ]
  },
  {
   "cell_type": "code",
   "execution_count": 4,
   "metadata": {},
   "outputs": [
    {
     "name": "stdout",
     "output_type": "stream",
     "text": [
      "True\n"
     ]
    }
   ],
   "source": [
    "print( 1 < 2)"
   ]
  },
  {
   "cell_type": "code",
   "execution_count": 6,
   "metadata": {},
   "outputs": [
    {
     "name": "stdout",
     "output_type": "stream",
     "text": [
      "True\n"
     ]
    }
   ],
   "source": [
    "print('A' >= 'B')"
   ]
  },
  {
   "cell_type": "code",
   "execution_count": 7,
   "metadata": {},
   "outputs": [
    {
     "name": "stdout",
     "output_type": "stream",
     "text": [
      "True\n"
     ]
    }
   ],
   "source": [
    "print('a'>'A')"
   ]
  },
  {
   "cell_type": "code",
   "execution_count": 5,
   "metadata": {},
   "outputs": [
    {
     "name": "stdout",
     "output_type": "stream",
     "text": [
      "True\n",
      "False\n"
     ]
    }
   ],
   "source": [
    "a = [1,2,3]\n",
    "b = [1,2,3]\n",
    "print( a == b )\n",
    "print( a is b )"
   ]
  },
  {
   "cell_type": "markdown",
   "metadata": {
    "slideshow": {
     "slide_type": "slide"
    }
   },
   "source": [
    "# Manejo de strings\n",
    "+ **String** es un tipo de dato que se puede entender como una sucesión de caracteres o una cadena de caracteres. \n",
    "+ Podemos un string simplemente escribiendo los caracteres/el caracter entre comillas. \n",
    "```python\n",
    "mi_string = \"este es mi primer string\"\n",
    "```\n",
    "+ Python trata las comillas simples al igual que las comillas dobles.\n",
    "+ En un string el primer calor tiene índice cero.\n",
    "+ Hay varias funciones y operadores que permiten trabajar con strings.\n",
    "\n",
    "**Desafío**: ¿Qué resultado nos daría la siguiente operación?: \n",
    "```python\n",
    "type(1) == type('1')\n",
    "```\n",
    "¿Y qué resultado nos daría la siguiente operación?: \n",
    "```python\n",
    "'python' == 'Python'\n",
    "```"
   ]
  },
  {
   "cell_type": "code",
   "execution_count": 6,
   "metadata": {},
   "outputs": [
    {
     "name": "stdout",
     "output_type": "stream",
     "text": [
      "Este es un String\n"
     ]
    }
   ],
   "source": [
    "# El operador '+' permite concatenar dos strings\n",
    "nuevoString = \"Este\" + \" \" + \"es\" + \" \" + \"un\" + \" \" + \"String\"\n",
    "print(nuevoString)"
   ]
  },
  {
   "cell_type": "markdown",
   "metadata": {},
   "source": [
    "**Desafío**:¿Qué otros operadores matemáticos funcionan con strings?¿Qué resultados obtenes?"
   ]
  },
  {
   "cell_type": "markdown",
   "metadata": {},
   "source": [
    "La función **str()** convierte valores a string."
   ]
  },
  {
   "cell_type": "code",
   "execution_count": 7,
   "metadata": {},
   "outputs": [
    {
     "data": {
      "text/plain": [
       "str"
      ]
     },
     "execution_count": 7,
     "metadata": {},
     "output_type": "execute_result"
    }
   ],
   "source": [
    "pi = 3.1416\n",
    "pi_str = str(pi)\n",
    "type(pi_str)"
   ]
  },
  {
   "cell_type": "markdown",
   "metadata": {
    "slideshow": {
     "slide_type": "slide"
    }
   },
   "source": [
    "Se puede acceder a los caracteres individuales de un string, del siguiente modo:"
   ]
  },
  {
   "cell_type": "code",
   "execution_count": 8,
   "metadata": {},
   "outputs": [
    {
     "name": "stdout",
     "output_type": "stream",
     "text": [
      "ste\n",
      " es un strin\n"
     ]
    }
   ],
   "source": [
    "s = \"este es un string\"\n",
    "a = s[ 1 : 4 ] # 1 es el índice de la primer posición incluida, 4 es el índice de la primer posición excluida.\n",
    "print(a)\n",
    "b = s[ 4 : -1 ] # Se pueden usar índices negativos, que comienzan desde el final del string\n",
    "print(b)"
   ]
  },
  {
   "cell_type": "markdown",
   "metadata": {
    "slideshow": {
     "slide_type": "slide"
    }
   },
   "source": [
    "# Estructuras de datos\n",
    "\n",
    "Las variables que vimos hasta ahora son sencillas y contienen un único **dato**.\n",
    "Python permite usar estructuras de datos más complejas que permiten almacenar y organizar colecciones de datos.\n",
    "Algunas de estas estructuras de datos son:\n",
    "* listas\n",
    "* diccionarios"
   ]
  },
  {
   "cell_type": "markdown",
   "metadata": {
    "slideshow": {
     "slide_type": "slide"
    }
   },
   "source": [
    "## Listas\n",
    "* Agrupamiento ordenado de valores, usualmente muchos\n",
    "* Los valores no tienen que ser del mismo tipo.\n",
    "* Las listas son mutables.\n",
    "* El número de orden un de un valor en la lista es su **índice**, el primer valor tiene índice **cero**.\n"
   ]
  },
  {
   "cell_type": "code",
   "execution_count": 1,
   "metadata": {
    "slideshow": {
     "slide_type": "fragment"
    }
   },
   "outputs": [
    {
     "name": "stdout",
     "output_type": "stream",
     "text": [
      "[1, 2, 3]\n",
      "<class 'list'>\n",
      "[0, 1, 2, 3, 4, 5, 6, 7, 8, 9]\n",
      "<class 'list'>\n",
      "5\n"
     ]
    }
   ],
   "source": [
    "listaSimple = [1,2,3]\n",
    "print(listaSimple)\n",
    "print(type(listaSimple))\n",
    "delCeroAlNueve = list(range(10))\n",
    "print(delCeroAlNueve)\n",
    "print(type(delCeroAlNueve))\n",
    "print(delCeroAlNueve[5])"
   ]
  },
  {
   "cell_type": "code",
   "execution_count": 2,
   "metadata": {
    "slideshow": {
     "slide_type": "fragment"
    }
   },
   "outputs": [
    {
     "name": "stdout",
     "output_type": "stream",
     "text": [
      "[5, 2, 3]\n"
     ]
    }
   ],
   "source": [
    "listaSimple[0] = 5\n",
    "# Los valores de las listas pueden reasignarse\n",
    "print(listaSimple)"
   ]
  },
  {
   "cell_type": "markdown",
   "metadata": {
    "slideshow": {
     "slide_type": "slide"
    }
   },
   "source": [
    "### Agregar y quitar elementos de una lista\n"
   ]
  },
  {
   "cell_type": "code",
   "execution_count": 3,
   "metadata": {
    "slideshow": {
     "slide_type": "fragment"
    }
   },
   "outputs": [
    {
     "name": "stdout",
     "output_type": "stream",
     "text": [
      "[5, 2, 3, 18]\n",
      "[5, 2, 3, 18, 0]\n"
     ]
    }
   ],
   "source": [
    "listaSimple.append(18)\n",
    "print(listaSimple)\n",
    "listaSimple.insert(4,0)\n",
    "print(listaSimple)"
   ]
  },
  {
   "cell_type": "markdown",
   "metadata": {
    "slideshow": {
     "slide_type": "fragment"
    }
   },
   "source": [
    "* La función **append()** agrega un elemento a una lista.\n",
    "\n",
    "¿Por qué está el punto entre el nombre de la variable y **append()**?"
   ]
  },
  {
   "cell_type": "code",
   "execution_count": 4,
   "metadata": {
    "slideshow": {
     "slide_type": "slide"
    }
   },
   "outputs": [
    {
     "name": "stdout",
     "output_type": "stream",
     "text": [
      "[5, 2, 3, 18, 0]\n",
      "[5, 2, 3, 0]\n"
     ]
    }
   ],
   "source": [
    "print(listaSimple)\n",
    "listaSimple.remove(18)\n",
    "print(listaSimple)"
   ]
  },
  {
   "cell_type": "markdown",
   "metadata": {
    "slideshow": {
     "slide_type": "fragment"
    }
   },
   "source": [
    "* La función **remove()** elimina un elemento a una lista."
   ]
  },
  {
   "cell_type": "code",
   "execution_count": 5,
   "metadata": {
    "slideshow": {
     "slide_type": "fragment"
    }
   },
   "outputs": [
    {
     "name": "stdout",
     "output_type": "stream",
     "text": [
      "[1, 3, 2]\n"
     ]
    }
   ],
   "source": [
    "otraLista = [1,2,3,2]\n",
    "otraLista.remove(2)\n",
    "print(otraLista)"
   ]
  },
  {
   "cell_type": "markdown",
   "metadata": {
    "slideshow": {
     "slide_type": "fragment"
    }
   },
   "source": [
    "* Si el valor que se quiere eliminar está más de una vez, solo se elimina el primero"
   ]
  },
  {
   "cell_type": "code",
   "execution_count": 6,
   "metadata": {
    "slideshow": {
     "slide_type": "slide"
    }
   },
   "outputs": [
    {
     "name": "stdout",
     "output_type": "stream",
     "text": [
      "1\n",
      "[3, 2]\n"
     ]
    }
   ],
   "source": [
    "valorEliminado = otraLista.pop(0)\n",
    "print(valorEliminado)\n",
    "print(otraLista)"
   ]
  },
  {
   "cell_type": "markdown",
   "metadata": {},
   "source": [
    "* La función **pop()** elimina un valor por el índice."
   ]
  },
  {
   "cell_type": "markdown",
   "metadata": {
    "slideshow": {
     "slide_type": "slide"
    }
   },
   "source": [
    "### Selecciones de sublistas"
   ]
  },
  {
   "cell_type": "code",
   "execution_count": 7,
   "metadata": {
    "slideshow": {
     "slide_type": "-"
    }
   },
   "outputs": [
    {
     "name": "stdout",
     "output_type": "stream",
     "text": [
      "['a', 'b']\n"
     ]
    }
   ],
   "source": [
    "listaSimple = ['a','b','c','d','e']\n",
    "subLista = listaSimple[0:2]\n",
    "# Para obtener una sublista se debe indicar el índice del primer valor incluido y el índice del primer valor excluido\n",
    "print(subLista)"
   ]
  },
  {
   "cell_type": "code",
   "execution_count": 8,
   "metadata": {},
   "outputs": [
    {
     "data": {
      "text/plain": [
       "['a', 'b']"
      ]
     },
     "execution_count": 8,
     "metadata": {},
     "output_type": "execute_result"
    }
   ],
   "source": [
    "listaSimple[:2]\n",
    "# Si el primer índice es 0, puede obviarse"
   ]
  },
  {
   "cell_type": "code",
   "execution_count": 9,
   "metadata": {},
   "outputs": [
    {
     "data": {
      "text/plain": [
       "['d', 'e']"
      ]
     },
     "execution_count": 9,
     "metadata": {},
     "output_type": "execute_result"
    }
   ],
   "source": [
    "listaSimple[3:]\n",
    "# Si el último índice es la longitud de la lista, también puede obviarse"
   ]
  },
  {
   "cell_type": "markdown",
   "metadata": {
    "slideshow": {
     "slide_type": "slide"
    }
   },
   "source": [
    "### Concatenación de listas\n"
   ]
  },
  {
   "cell_type": "code",
   "execution_count": 10,
   "metadata": {},
   "outputs": [
    {
     "name": "stdout",
     "output_type": "stream",
     "text": [
      "[0, 1, 2, 3, 4, 5, 6]\n"
     ]
    }
   ],
   "source": [
    "listaSimple = [0,1,2,3] + [4,5,6]\n",
    "print(listaSimple)"
   ]
  },
  {
   "cell_type": "markdown",
   "metadata": {
    "slideshow": {
     "slide_type": "slide"
    }
   },
   "source": [
    "### Otras funciones de listas importantes \n",
    "* extend() = agrega elementos de una lista a otra.\n",
    "* index() = devuelve el índice en la lista de un valor dado.\n",
    "* count() = devuelve la cantidad de veces que un elemento está en la lista.\n",
    "* sort() = ordena los valores de la lista\n",
    "* reverse() = invierte los valores de una lista\n",
    "* len() = devuelve la cantidad de elementos en la lista."
   ]
  },
  {
   "cell_type": "markdown",
   "metadata": {},
   "source": [
    "## Recorrer listas"
   ]
  },
  {
   "cell_type": "code",
   "execution_count": 13,
   "metadata": {},
   "outputs": [
    {
     "name": "stdout",
     "output_type": "stream",
     "text": [
      "1\n",
      "2\n",
      "3\n",
      "4\n",
      "5\n",
      "6\n",
      "7\n",
      "8\n",
      "9\n",
      "10\n"
     ]
    }
   ],
   "source": [
    "lista = [1,2,3,4,5,6,7,8,9,10] \n",
    "\n",
    "for x in lista:\n",
    "    print(x)"
   ]
  },
  {
   "cell_type": "markdown",
   "metadata": {},
   "source": [
    "**Desafío**:\n",
    "Recorrer la lista anterior y imprimir el cuadrado de cada valor\n",
    "\n"
   ]
  },
  {
   "cell_type": "code",
   "execution_count": null,
   "metadata": {},
   "outputs": [],
   "source": []
  },
  {
   "cell_type": "markdown",
   "metadata": {},
   "source": [
    "**Desafío**:\n",
    "Crear una nueva lista con que contenga los cuadrados de los valores de la lista anterior.\n"
   ]
  },
  {
   "cell_type": "code",
   "execution_count": 15,
   "metadata": {},
   "outputs": [
    {
     "name": "stdout",
     "output_type": "stream",
     "text": [
      "[1, 4, 9, 16, 25, 36, 49, 64, 81, 100]\n"
     ]
    }
   ],
   "source": [
    "nueva_lista = []\n",
    "for x in lista:\n",
    "    ...\n",
    "\n",
    "print(nueva_lista)"
   ]
  },
  {
   "cell_type": "markdown",
   "metadata": {
    "slideshow": {
     "slide_type": "slide"
    }
   },
   "source": [
    "## Diccionarios\n",
    "* Los diccionarios son agrupaciones de datos del tipos Clave -> Valor. No tienen orden. Así como las listas se declaran con corchetes, los diccionarios se declaran con llaves, siguiendo la sintaxis:\n",
    "```python\n",
    "mamiferos = {\n",
    "    \"orangutan\" : 'placentario', \n",
    "    \"canguro\" : 'marsupial'\n",
    "}\n",
    "```\n",
    "* Se puede acceder a los valores para cada clave haciendo, por ejemplo:\n",
    "```python\n",
    "mamiferos['orangutan']\n",
    "```\n",
    "* ¿Qué cosas quiero hacer un diccionario?\n",
    " * Guardar (o actualizar) un dato con clave\n",
    " * Recuperar un dato por su clave\n",
    " * Saber si una valor dado es una clave\n",
    " * Recuperar todas las claves\n",
    " * Eliminar valores.\n",
    " \n",
    "### Guardar y recuperar valores"
   ]
  },
  {
   "cell_type": "code",
   "execution_count": 11,
   "metadata": {},
   "outputs": [
    {
     "name": "stdout",
     "output_type": "stream",
     "text": [
      "Jose Jorge Perez\n"
     ]
    }
   ],
   "source": [
    "personas = dict()  # la función dict crea un nuevo diccionario vacio.\n",
    "personas[20000001] = 'Jose Perez'\n",
    "personas[20000002] = 'Julian Alvarez'\n",
    "personas[20000001] = 'Jose Jorge Perez'\n",
    "# Se guardan los nombres de personas usando como clave el DNI.\n",
    "print(personas[20000001])\n"
   ]
  },
  {
   "cell_type": "markdown",
   "metadata": {
    "slideshow": {
     "slide_type": "slide"
    }
   },
   "source": [
    "### Recuperar todas las claves y valores\n",
    "* Las funciones **keys()** y **values()** permiten recuperar listas con las claves y los valores. \n",
    "* No tienen ningún orden."
   ]
  },
  {
   "cell_type": "code",
   "execution_count": 12,
   "metadata": {},
   "outputs": [
    {
     "name": "stdout",
     "output_type": "stream",
     "text": [
      "dict_keys([20000001, 20000002])\n",
      "dict_values(['Jose Jorge Perez', 'Julian Alvarez'])\n"
     ]
    }
   ],
   "source": [
    "print( personas.keys() )\n",
    "print( personas.values() )"
   ]
  },
  {
   "cell_type": "markdown",
   "metadata": {
    "slideshow": {
     "slide_type": "-"
    }
   },
   "source": [
    "* Las claves pueden ser valores de diferentes tipos: str, int, bool, tuplas. Pero no listas. \n",
    "* Los valores también pueden valores de diferentes tipos, incluyendo listas."
   ]
  },
  {
   "cell_type": "code",
   "execution_count": 13,
   "metadata": {},
   "outputs": [],
   "source": [
    "personas[\"20000003\"] = \"Jose de San Martin\"\n",
    "personas[( 1,2) ] = False"
   ]
  },
  {
   "cell_type": "markdown",
   "metadata": {
    "slideshow": {
     "slide_type": "slide"
    }
   },
   "source": [
    "### Comprobar si una clave pertenece a un diccionario\n",
    "* El operador **in** permite esto."
   ]
  },
  {
   "cell_type": "code",
   "execution_count": 14,
   "metadata": {},
   "outputs": [
    {
     "data": {
      "text/plain": [
       "True"
      ]
     },
     "execution_count": 14,
     "metadata": {},
     "output_type": "execute_result"
    }
   ],
   "source": [
    "(1,2) in personas"
   ]
  },
  {
   "cell_type": "code",
   "execution_count": 15,
   "metadata": {},
   "outputs": [
    {
     "data": {
      "text/plain": [
       "False"
      ]
     },
     "execution_count": 15,
     "metadata": {},
     "output_type": "execute_result"
    }
   ],
   "source": [
    "20000005 in personas"
   ]
  },
  {
   "cell_type": "markdown",
   "metadata": {
    "slideshow": {
     "slide_type": "slide"
    }
   },
   "source": [
    "### Diferentes formas de construir un diccionario\n",
    "#### Crear un diccionario vacio y agregar elementos individualmente.\n"
   ]
  },
  {
   "cell_type": "code",
   "execution_count": 16,
   "metadata": {},
   "outputs": [],
   "source": [
    "diccionarioUno = {}\n",
    "diccionarioUno[1] = 'Uno'\n",
    "diccionarioUno[2] = 'Dos'"
   ]
  },
  {
   "cell_type": "markdown",
   "metadata": {},
   "source": [
    "#### Usar el constructor '{}'\n",
    "* Se usa ':' para separar la clave del valor."
   ]
  },
  {
   "cell_type": "code",
   "execution_count": 17,
   "metadata": {},
   "outputs": [],
   "source": [
    "diccionarioDos = { 1 : 'Uno', 2 : 'Dos' }"
   ]
  },
  {
   "cell_type": "markdown",
   "metadata": {},
   "source": [
    "#### Usar el constructor dict()\n",
    "* El argumento es una lista de tuplas.\n",
    "* El primer elemento de cada tupla es la clave, el segundo es el valor."
   ]
  },
  {
   "cell_type": "code",
   "execution_count": 18,
   "metadata": {},
   "outputs": [],
   "source": [
    "diccionarioTres = dict( [ ( 1,'Uno'), ( 2, 'Dos' ) ] )"
   ]
  },
  {
   "cell_type": "markdown",
   "metadata": {
    "slideshow": {
     "slide_type": "slide"
    }
   },
   "source": [
    "### Otras funciones útiles de diccionarios\n",
    "* clear() : Borra todos los elementeos de diccionario\n",
    "* copy() : Devuelve una copia del diccionario\n",
    "* items() : Delvuelve una lista de tuplas (clave, valor)\n",
    "* update() : Actualiza un diccionario con valores de otro.\n",
    "* len() : Devuelve la cantidad de elementos en el diccionario."
   ]
  },
  {
   "cell_type": "markdown",
   "metadata": {
    "slideshow": {
     "slide_type": "slide"
    }
   },
   "source": [
    "## Sets\n",
    "* Los sets con agrupaciones no ordenadas de valores que no permiten repeticiones.\n",
    "* Que quiero hacer con un set:\n",
    " * Guardar valores\n",
    " * Eliminar valores\n",
    " * Saber si un valor pertenece al set\n",
    " * Recuperar los valores del set\n",
    "\n",
    "### Agregar y eliminar elementos"
   ]
  },
  {
   "cell_type": "code",
   "execution_count": 19,
   "metadata": {},
   "outputs": [
    {
     "name": "stdout",
     "output_type": "stream",
     "text": [
      "{2, 3, 5, 7}\n"
     ]
    }
   ],
   "source": [
    "setUno = set()\n",
    "setUno.add(1)\n",
    "setUno.add(2)\n",
    "setUno.add(3)\n",
    "setUno.add(5)\n",
    "setUno.add(7)\n",
    "setUno.remove(1)\n",
    "print(setUno)"
   ]
  },
  {
   "cell_type": "markdown",
   "metadata": {
    "slideshow": {
     "slide_type": "slide"
    }
   },
   "source": [
    "### Saber si un elemento pertenece al set"
   ]
  },
  {
   "cell_type": "code",
   "execution_count": 20,
   "metadata": {},
   "outputs": [
    {
     "data": {
      "text/plain": [
       "False"
      ]
     },
     "execution_count": 20,
     "metadata": {},
     "output_type": "execute_result"
    }
   ],
   "source": [
    "1 in setUno"
   ]
  },
  {
   "cell_type": "code",
   "execution_count": 21,
   "metadata": {},
   "outputs": [
    {
     "data": {
      "text/plain": [
       "True"
      ]
     },
     "execution_count": 21,
     "metadata": {},
     "output_type": "execute_result"
    }
   ],
   "source": [
    "2 in setUno"
   ]
  },
  {
   "cell_type": "markdown",
   "metadata": {},
   "source": [
    "### Recuperar los valores del set\n",
    "* Se puede convertir el set en una lista que contenga los valores.\n",
    "* La lista no tienen ningún orden particular."
   ]
  },
  {
   "cell_type": "code",
   "execution_count": 22,
   "metadata": {},
   "outputs": [
    {
     "name": "stdout",
     "output_type": "stream",
     "text": [
      "[2, 3, 5, 7]\n"
     ]
    }
   ],
   "source": [
    "listaDesdeSet = list( setUno )\n",
    "print( listaDesdeSet )"
   ]
  },
  {
   "cell_type": "markdown",
   "metadata": {
    "slideshow": {
     "slide_type": "slide"
    }
   },
   "source": [
    "# Estructuras de control\n",
    "Python, al igual que todos los lenguages de programación, incluye sentencias permiten controlar el flujo del programa. Esto permite tomar desiciones, repetir una tarea y recorrer estructuras de datos.\n"
   ]
  },
  {
   "cell_type": "markdown",
   "metadata": {
    "slideshow": {
     "slide_type": "slide"
    }
   },
   "source": [
    "## Ejecución condicional: if"
   ]
  },
  {
   "cell_type": "markdown",
   "metadata": {},
   "source": [
    "La estructura general es:\n",
    "```python\n",
    "if condicion:\n",
    "    Codigo si la condicion es verdadera\n",
    "else :\n",
    "    Codigo si la condicion es falsa\n",
    "```"
   ]
  },
  {
   "cell_type": "code",
   "execution_count": 23,
   "metadata": {
    "slideshow": {
     "slide_type": "-"
    }
   },
   "outputs": [
    {
     "name": "stdout",
     "output_type": "stream",
     "text": [
      "a no es igual a cero\n"
     ]
    }
   ],
   "source": [
    "a = 1\n",
    "if a == 0 :\n",
    "    mensaje = \"a es igual a cero\"\n",
    "    print(mensaje)\n",
    "else :\n",
    "    print(\"a no es igual a cero\")"
   ]
  },
  {
   "cell_type": "markdown",
   "metadata": {
    "slideshow": {
     "slide_type": "slide"
    }
   },
   "source": [
    "La sentencia **else** es opcional"
   ]
  },
  {
   "cell_type": "code",
   "execution_count": 24,
   "metadata": {},
   "outputs": [
    {
     "name": "stdout",
     "output_type": "stream",
     "text": [
      "a es igual a cero\n"
     ]
    }
   ],
   "source": [
    "a = 0\n",
    "if a == 0 :\n",
    "    mensaje = \"a es igual a cero\"\n",
    "    print(mensaje)"
   ]
  },
  {
   "cell_type": "markdown",
   "metadata": {
    "slideshow": {
     "slide_type": "slide"
    }
   },
   "source": [
    "### If anidados"
   ]
  },
  {
   "cell_type": "code",
   "execution_count": 25,
   "metadata": {},
   "outputs": [
    {
     "name": "stdout",
     "output_type": "stream",
     "text": [
      "a no es cero, ni uno, dos\n"
     ]
    }
   ],
   "source": [
    "a = 3\n",
    "if a == 0 :\n",
    "    print(\"a es igual a cero\")\n",
    "else :\n",
    "    if a == 1:\n",
    "        print(\"a es igual a uno\")\n",
    "    else :\n",
    "        if a == 2:\n",
    "            print(\"a es igual a dos\")\n",
    "        else :\n",
    "            print(\"a no es cero, ni uno, dos\")"
   ]
  },
  {
   "cell_type": "markdown",
   "metadata": {
    "slideshow": {
     "slide_type": "slide"
    }
   },
   "source": [
    "Esto mismo puede escribirse de una forma más legible usando **elif**"
   ]
  },
  {
   "cell_type": "code",
   "execution_count": 26,
   "metadata": {},
   "outputs": [
    {
     "name": "stdout",
     "output_type": "stream",
     "text": [
      "a no es cero, ni uno, dos\n"
     ]
    }
   ],
   "source": [
    "a = 3\n",
    "if a == 0 :\n",
    "    print(\"a es igual a cero\")\n",
    "elif a == 1:\n",
    "    print(\"a es igual a uno\")\n",
    "elif a == 2:\n",
    "    print(\"a es igual a dos\")   \n",
    "else :\n",
    "    print(\"a no es cero, ni uno, dos\")"
   ]
  },
  {
   "cell_type": "markdown",
   "metadata": {
    "slideshow": {
     "slide_type": "slide"
    }
   },
   "source": [
    "## Iteración por los elementos de una estructura de datos: for"
   ]
  },
  {
   "cell_type": "markdown",
   "metadata": {},
   "source": [
    "La sentencia **for** se usa para recorrer listas, diccionarios, strings, etc."
   ]
  },
  {
   "cell_type": "markdown",
   "metadata": {},
   "source": [
    "La estructura general es:\n",
    "```python\n",
    "for elemento in coleccion:\n",
    "    Codigo para cada elemento\n",
    "```"
   ]
  },
  {
   "cell_type": "code",
   "execution_count": 50,
   "metadata": {},
   "outputs": [
    {
     "name": "stdout",
     "output_type": "stream",
     "text": [
      "h\n",
      "o\n",
      "l\n",
      "a\n"
     ]
    }
   ],
   "source": [
    "for letra in \"hola\" :\n",
    "    print(letra)"
   ]
  },
  {
   "cell_type": "markdown",
   "metadata": {
    "slideshow": {
     "slide_type": "slide"
    }
   },
   "source": [
    "**Desafío** calcular la suma de lista de números"
   ]
  },
  {
   "cell_type": "code",
   "execution_count": 51,
   "metadata": {},
   "outputs": [
    {
     "name": "stdout",
     "output_type": "stream",
     "text": [
      "20\n"
     ]
    }
   ],
   "source": [
    "fibo = [0,1,1,2,3,5,8]\n",
    "...\n",
    "print(suma)"
   ]
  },
  {
   "cell_type": "markdown",
   "metadata": {
    "slideshow": {
     "slide_type": "slide"
    }
   },
   "source": [
    "La función **range** permite crear listas para la iteración con **for**"
   ]
  },
  {
   "cell_type": "code",
   "execution_count": 53,
   "metadata": {},
   "outputs": [
    {
     "name": "stdout",
     "output_type": "stream",
     "text": [
      "1 es un número impar\n",
      "3 es un número impar\n",
      "5 es un número impar\n",
      "7 es un número impar\n",
      "9 es un número impar\n"
     ]
    }
   ],
   "source": [
    "inicio = 1\n",
    "final = 10\n",
    "salto = 2\n",
    "for impar in range(inicio, final, salto) :\n",
    "    print(str(impar) + \" es un número impar\")"
   ]
  },
  {
   "cell_type": "code",
   "execution_count": null,
   "metadata": {},
   "outputs": [],
   "source": [
    "**desafío** crear una lista con los múltiplos de 7 menores que 100"
   ]
  },
  {
   "cell_type": "code",
   "execution_count": 18,
   "metadata": {},
   "outputs": [
    {
     "name": "stdout",
     "output_type": "stream",
     "text": [
      "[0, 7, 14, 21, 28, 35, 42, 49, 56, 63, 70, 77, 84, 91, 98]\n"
     ]
    }
   ],
   "source": [
    "lista = []\n",
    "for n in range(0,100,7):\n",
    "    lista.append(n)\n",
    "print(lista)"
   ]
  },
  {
   "cell_type": "markdown",
   "metadata": {},
   "source": [
    "**desafío** crear, a partir de la lista que aparece abajo, una nueva lista que contenga solo las palabras con un número par de caracteres."
   ]
  },
  {
   "cell_type": "code",
   "execution_count": 23,
   "metadata": {},
   "outputs": [
    {
     "name": "stdout",
     "output_type": "stream",
     "text": [
      "\n"
     ]
    }
   ],
   "source": [
    "lista = [\"calculadora\", \"lápiz\", \"cubo\", \"mágico\", \"anteojos\", \"papel\"]\n"
   ]
  },
  {
   "cell_type": "markdown",
   "metadata": {
    "slideshow": {
     "slide_type": "slide"
    }
   },
   "source": [
    "### Recorrer diccionarios"
   ]
  },
  {
   "cell_type": "code",
   "execution_count": 54,
   "metadata": {},
   "outputs": [
    {
     "name": "stdout",
     "output_type": "stream",
     "text": [
      "El código RGB de rojo es (255, 0, 0)\n",
      "El código RGB de verde es (0, 255, 0)\n",
      "El código RGB de azul es (0, 0, 255)\n"
     ]
    }
   ],
   "source": [
    "dicc = { 'rojo' : (255,0,0), 'verde': (0,255,0), 'azul' : (0,0,255) }\n",
    "for color in dicc :\n",
    "    print(\"El código RGB de \" +color+ \" es \" + str(dicc[color]))"
   ]
  },
  {
   "cell_type": "code",
   "execution_count": 55,
   "metadata": {
    "slideshow": {
     "slide_type": "fragment"
    }
   },
   "outputs": [
    {
     "name": "stdout",
     "output_type": "stream",
     "text": [
      "El código RGB de rojo es (255, 0, 0)\n",
      "El código RGB de verde es (0, 255, 0)\n",
      "El código RGB de azul es (0, 0, 255)\n"
     ]
    }
   ],
   "source": [
    "for color in dicc.keys() :\n",
    "    print(\"El código RGB de \" +color+ \" es \" + str(dicc[color]))"
   ]
  },
  {
   "cell_type": "code",
   "execution_count": 56,
   "metadata": {
    "slideshow": {
     "slide_type": "slide"
    }
   },
   "outputs": [
    {
     "name": "stdout",
     "output_type": "stream",
     "text": [
      "(255, 0, 0)\n",
      "(0, 255, 0)\n",
      "(0, 0, 255)\n"
     ]
    }
   ],
   "source": [
    "for rgb in dicc.values() :\n",
    "    print(str(rgb))"
   ]
  },
  {
   "cell_type": "code",
   "execution_count": 57,
   "metadata": {
    "slideshow": {
     "slide_type": "fragment"
    }
   },
   "outputs": [
    {
     "name": "stdout",
     "output_type": "stream",
     "text": [
      "El código RGB de rojo es (255, 0, 0)\n",
      "El código RGB de verde es (0, 255, 0)\n",
      "El código RGB de azul es (0, 0, 255)\n"
     ]
    }
   ],
   "source": [
    "for color, rgb in dicc.items() :\n",
    "    print(\"El código RGB de \" +color+ \" es \" + str(rgb))"
   ]
  },
  {
   "cell_type": "markdown",
   "metadata": {
    "slideshow": {
     "slide_type": "slide"
    }
   },
   "source": [
    "# Definir funciones propias"
   ]
  },
  {
   "cell_type": "markdown",
   "metadata": {},
   "source": [
    "No solo podemos usar la funciones propias de Python, sino que podemos crear las nuestras propias."
   ]
  },
  {
   "cell_type": "code",
   "execution_count": 25,
   "metadata": {},
   "outputs": [
    {
     "name": "stdout",
     "output_type": "stream",
     "text": [
      "{'a': 1, 'b': 2, 'c': 3, 'd': 4}\n"
     ]
    }
   ],
   "source": [
    "def contarCaracteres( cadena ) :\n",
    "    resultado = {}\n",
    "    for letra in cadena:\n",
    "        if not letra in resultado:\n",
    "            resultado[letra] = 0\n",
    "        resultado[letra] = resultado[letra] + 1\n",
    "    return resultado\n",
    "\n",
    "print(contarCaracteres('abbcccdddd'))"
   ]
  },
  {
   "cell_type": "markdown",
   "metadata": {
    "slideshow": {
     "slide_type": "slide"
    }
   },
   "source": [
    "# Importar funciones y módulos \n",
    "Ya vimos en varios ejemplos como usar funciones de la instalación estándar de python.\n",
    "Sin embargo gran parte de la funcionalidad de python proviene de funciones no incluidas dentro de esta, sino que están incluidas en otros **módulos**."
   ]
  },
  {
   "cell_type": "code",
   "execution_count": 27,
   "metadata": {},
   "outputs": [],
   "source": [
    "import Bio # Carga el módulo de biopython"
   ]
  },
  {
   "cell_type": "markdown",
   "metadata": {
    "slideshow": {
     "slide_type": "fragment"
    }
   },
   "source": [
    "Se puede cargar solo lo necesario de un módulo."
   ]
  },
  {
   "cell_type": "code",
   "execution_count": 28,
   "metadata": {},
   "outputs": [],
   "source": [
    "from Bio import PDB # Carga 'PDB' desde el modulo Bio."
   ]
  },
  {
   "cell_type": "markdown",
   "metadata": {
    "slideshow": {
     "slide_type": "slide"
    }
   },
   "source": [
    "# Objetos\n",
    "* Los objetos son estructuras que agrupan valores y funciones (o métodos) para esos datos.\n",
    "* El operador '**.**' (punto)se usa para especificar un método o un valor de un objeto:\n",
    "  * objeto.metodo( argumentos )\n",
    "  * objeto.valor"
   ]
  },
  {
   "cell_type": "code",
   "execution_count": 34,
   "metadata": {
    "slideshow": {
     "slide_type": "fragment"
    }
   },
   "outputs": [],
   "source": [
    "from Bio.Seq import Seq\n",
    "\n",
    "obj = Seq(\"ATG---AUG\")\n",
    "other_obj = obj.ungap(gap=\"-\")\n"
   ]
  },
  {
   "cell_type": "markdown",
   "metadata": {
    "slideshow": {
     "slide_type": "slide"
    }
   },
   "source": [
    "# Lectura y escritura de archivos"
   ]
  },
  {
   "cell_type": "markdown",
   "metadata": {},
   "source": [
    "Tanto para leer o escribir un archivo existente, o crear uno nuevo es necesario \"abrirlo\".\n",
    "Esto se hace con la función **open()**. Lo que podemos hacer con ese archivo abierto depende de los argumentos que le pasemos a la función. Finalmente, hay que \"cerrar\" el archivo. Con la función **close()**"
   ]
  },
  {
   "cell_type": "code",
   "execution_count": 68,
   "metadata": {},
   "outputs": [],
   "source": [
    "fh = open( 'mi_archivo.txt', 'w')\n",
    "# El primer argumento es el nombre del archivo, el segundo es el modo de acceso.\n",
    "# En este caso es de escritura 'w' : write\n",
    "fh.write(\"Este es el contenido del archivo\\n\")\n",
    "# \\n representa el caracter de fin de línea.\n",
    "fh.close()"
   ]
  },
  {
   "cell_type": "markdown",
   "metadata": {},
   "source": [
    "Los modos de acceso para archivos de texto son:\n",
    "* w - Write / Escritura\n",
    "* r - Read / Lectura\n",
    "* a - Append / Agrega nuevos datos a un archivo existente\n",
    "* r+ - Read+Write / Lectura y escritura simultánea."
   ]
  },
  {
   "cell_type": "code",
   "execution_count": 69,
   "metadata": {
    "slideshow": {
     "slide_type": "slide"
    }
   },
   "outputs": [
    {
     "name": "stdout",
     "output_type": "stream",
     "text": [
      "@SRR6749457.1.1 - TTCTGGCGCA\n",
      "@SRR6749457.1.2 - TTTTCCTATT\n",
      "@SRR6749457.2.1 - TTAATACCTT\n",
      "@SRR6749457.2.2 - CTTTCCTCCC\n",
      "@SRR6749457.3.1 - TTAATGGTGA\n",
      "@SRR6749457.3.2 - CACAACTAGT\n",
      "@SRR6749457.4.1 - TAATACCAGG\n",
      "@SRR6749457.4.2 - CCTTTAACCT\n",
      "@SRR6749457.5.1 - TTTCAGCACA\n",
      "@SRR6749457.5.2 - TTTCTCTCCC\n"
     ]
    }
   ],
   "source": [
    "filename = 'sam_file.extract.txt'\n",
    "fh = open( filename, 'r')\n",
    "for line in fh :\n",
    "    fields = line.strip().split()\n",
    "    print(fields[0] + \" - \" + fields[1][:10])\n",
    "fh.close()"
   ]
  },
  {
   "cell_type": "markdown",
   "metadata": {
    "slideshow": {
     "slide_type": "slide"
    }
   },
   "source": [
    "Lo mismo se puede hacer usando la sentencia **with**, esta misma se encarga de cerrar el archivo."
   ]
  },
  {
   "cell_type": "code",
   "execution_count": 70,
   "metadata": {
    "scrolled": true,
    "slideshow": {
     "slide_type": "-"
    }
   },
   "outputs": [
    {
     "name": "stdout",
     "output_type": "stream",
     "text": [
      "@SRR6749457.1.1 - TTCTGGCGCA\n",
      "@SRR6749457.1.2 - TTTTCCTATT\n",
      "@SRR6749457.2.1 - TTAATACCTT\n",
      "@SRR6749457.2.2 - CTTTCCTCCC\n",
      "@SRR6749457.3.1 - TTAATGGTGA\n",
      "@SRR6749457.3.2 - CACAACTAGT\n",
      "@SRR6749457.4.1 - TAATACCAGG\n",
      "@SRR6749457.4.2 - CCTTTAACCT\n",
      "@SRR6749457.5.1 - TTTCAGCACA\n",
      "@SRR6749457.5.2 - TTTCTCTCCC\n"
     ]
    }
   ],
   "source": [
    "filename = 'sam_file.extract.txt'\n",
    "with open( filename, 'r') as fh:\n",
    "    for line in fh :\n",
    "        fields = line.strip().split()\n",
    "        print(fields[0] + \" - \" + fields[1][:10])"
   ]
  }
 ],
 "metadata": {
  "celltoolbar": "Slideshow",
  "kernelspec": {
   "display_name": "Python 3",
   "language": "python",
   "name": "python3"
  },
  "language_info": {
   "codemirror_mode": {
    "name": "ipython",
    "version": 3
   },
   "file_extension": ".py",
   "mimetype": "text/x-python",
   "name": "python",
   "nbconvert_exporter": "python",
   "pygments_lexer": "ipython3",
   "version": "3.6.4"
  }
 },
 "nbformat": 4,
 "nbformat_minor": 2
}
