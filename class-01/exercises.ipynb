{
 "cells": [
  {
   "cell_type": "markdown",
   "metadata": {},
   "source": [
    "# Algunos ejercicios"
   ]
  },
  {
   "cell_type": "markdown",
   "metadata": {},
   "source": [
    "### Intersección de listas\n",
    "Se tienen dos listas ( l1 y l2 ), escribir una función que devuelva la intersección de ambas listas."
   ]
  },
  {
   "cell_type": "code",
   "execution_count": null,
   "metadata": {},
   "outputs": [],
   "source": [
    "l1 = [1,3,5,6,7,10,12,15,22]\n",
    "l2 = [3,4,6,7,8,9,10,11,13,15]\n",
    "def intersection( a, b) :\n",
    "    pass"
   ]
  },
  {
   "cell_type": "markdown",
   "metadata": {},
   "source": [
    "### Listas reversas\n",
    "Escribir una función que dadas dos listas, devuelva un valor de verdad que dice si una lista es inversa a la otra."
   ]
  },
  {
   "cell_type": "code",
   "execution_count": null,
   "metadata": {},
   "outputs": [],
   "source": [
    "l1 = [1,2,3]\n",
    "l2 = [3,2,1]\n",
    "\n",
    "def isReverse(a, b) :\n",
    "    pass"
   ]
  },
  {
   "cell_type": "markdown",
   "metadata": {},
   "source": [
    "### Lista incluida en otra lista\n",
    "\n",
    "Escribir una función que tome dos listas **l1** y **l2**, y que devuelve True si todos los elementso de **l1** están en **l2**, sino quq devuelva False."
   ]
  },
  {
   "cell_type": "code",
   "execution_count": null,
   "metadata": {},
   "outputs": [],
   "source": [
    "def contains_all(l1, l2):\n",
    "    pass"
   ]
  },
  {
   "cell_type": "markdown",
   "metadata": {},
   "source": [
    "### Recorrer diccionario con listas\n",
    "\n",
    "Construir un diccionario cuya clave sea un nombre de persona y los valores sean listas de nombres de ciudades que esa persona visitó.\n",
    "Crear una función que dado un diccionario como el que se pide antes y un nombre de ciudad, devuelva la lista de las personas que visitaron esa ciudad."
   ]
  },
  {
   "cell_type": "code",
   "execution_count": null,
   "metadata": {},
   "outputs": [],
   "source": [
    "datos = {\n",
    "    'juan' : ['Berlin','Barcelona','Buenos Aires','Baradero','Boston'],\n",
    "    'pedro' : ['Asunción','Atenas','Alicante','Almería','Berlin'],\n",
    "    'pepe' : ['Asunción','Buenos Aires','Berlin']\n",
    "}\n",
    "\n",
    "def visitantes( dic, ciudad ):\n",
    "    pass"
   ]
  },
  {
   "cell_type": "markdown",
   "metadata": {},
   "source": [
    "### Invertir diccionario\n",
    "Defina una función que dado un diccionario permita crear otro pero que este tenga invertidas las claves y los valores.\n",
    "Asuma que no hay valores repetidos y estos pueden ser usados como clave."
   ]
  },
  {
   "cell_type": "code",
   "execution_count": null,
   "metadata": {},
   "outputs": [],
   "source": [
    "def reverseDict(dic):\n",
    "    pass\n"
   ]
  },
  {
   "cell_type": "markdown",
   "metadata": {},
   "source": [
    "### Generador de secuencias aleatorias\n",
    "\n",
    "Escribir una función de python que permita generar n secuencias de DNA de una longitud dada y guardarlas en un archivo de texto. Una secuencia por línea.\n",
    "\n",
    "Ayuda:\n",
    "* importar el módulo **random**\n",
    "* La función **random.choice(a)** elije un valor al azar detro de **a**.\n",
    "* Ls función **join** permite crear un string concatenando los elementos de una lista de strings.\n",
    "* * Por ejemplo: s = \"\".join([\"A\", \"B\", \"C\"]), s = \"ABC\"\n",
    "* * Otro ejemplo: s = \"/\".join([\"A\", \"B\", \"C\"]), s = \"A/B/C\"\n",
    "* Definir una función **getRandomSequence** que genere una secuencia al azar de una longitud **l**.\n",
    "* Finalmente definir la función pedida que use a **getRandomSequence**."
   ]
  },
  {
   "cell_type": "code",
   "execution_count": null,
   "metadata": {},
   "outputs": [],
   "source": [
    "import random\n",
    "\n",
    "def getRandomSequence(l):\n",
    "    pass\n",
    "\n",
    "def saveSequences(n, l, outfile) :\n",
    "    pass"
   ]
  },
  {
   "cell_type": "markdown",
   "metadata": {},
   "source": [
    "## Filtrar secuencias\n",
    "Escribir una función que lea las secuencias generadas con la función del ejercicio anterior y que elimine aquellas que tienen un percentaje de G+C menor a un valor dado y escriba las resultantes en otro archivo, junto con su porcentaje de G+C.\n",
    "\n",
    "Tips:\n",
    "* Definir una función **readSeqs** que permita leer el archivo y devolver una lista con todas las secuencias.\n",
    "* Definir una función **GCcontent** que calcule el contenido de G+C de una secuencia\n",
    "* Definir una función **apply_filter** utilice a **GCcontent** y que realice el filtrado.\n",
    "* Definir una función **save_filtered** que guarde en un archivo los resultados de apply_filter.\n",
    "* * Utilizar el character especial \"\\n\" al final de cada línea de texto.\n",
    "* Finalmente, escribir una función **filterSeqs** que utiliza una o más de  las anteriores.\n"
   ]
  },
  {
   "cell_type": "code",
   "execution_count": null,
   "metadata": {},
   "outputs": [],
   "source": [
    "def readSeqs(infile):\n",
    "    pass\n",
    "\n",
    "def GCcontent(seq) :\n",
    "    pass\n",
    "\n",
    "def apply_filter(seqs, gcCutoff):\n",
    "    pass\n",
    "\n",
    "def save_filtered(filtered, outfile):\n",
    "    pass\n",
    "\n",
    "def filterSeqs( infile, outfile, gcCutoff ) :\n",
    "    seqs = readSeqs(infile)\n",
    "    filtered = apply_filter(seqs, gcCutoff)\n",
    "    save_filtered(filtered, outfile)\n",
    "    \n",
    "filterSeqs(\"secuencias.txt\", 'seq_filtered.txt', 60)"
   ]
  },
  {
   "cell_type": "markdown",
   "metadata": {},
   "source": [
    "### Uniprot Mapping\n",
    "\n",
    "El archivo *uniprot_mapping_selected.txt* contiene una tabla de conversión de identificadores de algunas proteínas seleccionadas de Uniprot.\n",
    "El archivo \"names_selected.txt\" contiene el nombre científico asociado con cada Tax_ID.\n",
    "El archivo \"nodes_selected.txt\" contiene datos de acerca de cada nodo en el árbol taxonómico, incluyendo cual es el nodo padre. Todos los archivos están en la subcarpeta data.\n",
    "\n",
    "1. Leer el archivo con los datos de Uniprot y almacenar el contenido como un diccionario que use como claves códigos de acceso de Uniprot (Uniprot_ACC).\n",
    " 1. Cuidado: Un mismo Uniprot puede estar asociado a más de un GI.\n",
    "1. Crear un diccionario que asocie un Uniprot_ID a un Uniprot_ACC\n",
    "1. Recuperar todos los TaxID de NCBI para estos datos.\n",
    " 1. ¿Cuantas veces aparece repetido cada uno?\n",
    " 1. Cual es el nombre científico asociado a cada TaxID.\n",
    "1. Recuperar el linaje de TaxID para cada un Uniprot_ACC.\n",
    " 1. Dados dos Uniprot_ACC, decir cuales son los TaxID comunes para entre los linajes de ambos.\n",
    "\n",
    "**Tips**:\n",
    "* Leer la documentación acerca de la estructura de datos *set*.\n",
    "* Leer la documentación acerca de la estructura de control *while*.\n"
   ]
  },
  {
   "cell_type": "code",
   "execution_count": null,
   "metadata": {},
   "outputs": [],
   "source": []
  },
  {
   "cell_type": "markdown",
   "metadata": {},
   "source": [
    "### Shannon Entropy\n",
    "\n",
    "La entropía informativa de Shannon en una forma de medir la diversidad o conservación de un conjunto de datos\n",
    "\n",
    "La entropía de Shannon para un conjunto de datos A, se calcula:\n",
    "\n",
    "$$ H(A) = - \\sum_{a \\in A}P_a log_{2}(P_a)$$\n",
    "\n",
    "Donde, $H(A)$ es la entropía del conjunto A, y $P_a$ es la frecuencia de $a$  en el conjunto $A$. \n",
    "\n",
    "1. Escriba una función para calcular la entropía de Shannon de un conjunto de caracteres que representan aminoácidos (ignore otros caracteres, si es que existen).\n",
    "\n",
    "**Ayuda**: \n",
    "* Use la función *math.log* para calcular el logaritmo. Es necesario importar el módulo *math*.\n",
    " * Ejemplo:\n",
    "```python\n",
    "import math\n",
    "print(math.log(8,2))\n",
    "# Imprime:\n",
    "# 3.0\n",
    "```"
   ]
  },
  {
   "cell_type": "code",
   "execution_count": null,
   "metadata": {},
   "outputs": [],
   "source": [
    "import math\n",
    "def Shannon(data):\n",
    "    valid_aa = 'QWERTYIPASDFGHKLCVNM'.split()\n",
    "    pass\n",
    "    \n",
    "a = Shannon(\"QWWEEERRRR\")"
   ]
  },
  {
   "cell_type": "markdown",
   "metadata": {},
   "source": [
    "### Identidad entre dos secuencias.\n",
    "\n",
    "Escribir una función que permita calcular la fracción de identidad entre dos secuencias.\n",
    "Es decir la fracción de las posiciones que tienen el mismo caracter en ambas secuencias:\n",
    "\n",
    "* Las dos secuencias deben tener la misma longitud. Sino se debe devolver *None*\n",
    "* Las secuencias pueden contener gaps.\n",
    "* Las posiciones que contengan gaps en ambas secuencias no deben ser tenidas en cuentas para el cálculo de identidad, ni para el total de posiciones.\n",
    "\n",
    "#### Ejemplos:\n",
    "\n",
    "s1 = \"AAAA\"\n",
    "s2 = \"AABB\"\n",
    "identidad = 2 / 4 = 0.5\n",
    "\n",
    "s1 = \"-AAA\"\n",
    "s2 = \"AABB\"\n",
    "identidad = 1 / 4 = 0.25\n",
    "\n",
    "s1 = \"-AAA\"\n",
    "s2 = \"-ABB\"\n",
    "identidad = 1 / 3 = 0.33...\n",
    "\n"
   ]
  },
  {
   "cell_type": "code",
   "execution_count": null,
   "metadata": {},
   "outputs": [],
   "source": [
    "def sequence_id(s1, s2):\n",
    "    if len(s1) != len(s2):\n",
    "        return None\n",
    "    ident = 0\n",
    "    total = 0\n",
    "    for i in range(len(s1)):\n",
    "        if not (s1[i]== '-' and s2[i] == '-'):\n",
    "            total += 1\n",
    "            if s1[i] == s2[i]:\n",
    "                ident += 1\n",
    "    return float(ident) / total\n",
    "\n",
    "print(sequence_id(s1 = \"AAAA\", s2 = \"AABB\"))\n",
    "print(sequence_id(s1 = \"-AAA\", s2 = \"AABB\"))\n",
    "print(sequence_id(s1 = \"-AAA\", s2 = \"-ABB\"))\n"
   ]
  },
  {
   "cell_type": "markdown",
   "metadata": {},
   "source": [
    "### Selección de secuencias representativas\n",
    "\n",
    "El algorimo de Hobohm-1 es un método sencillo y bastante eficaz de reducir la redundancia en un alineamiento múltiple de secuencias (MSA). Se toma con datos de entrar una lista de secuencias provenientes de un MSA y devuelve una lista de grupos de secuencias. Dentro de cada grupo las secuencias tienen una alto valor de identidad de secuencia. Para definir que tan idénticas deben ser las secuencias dentro de un grupo se debe definir un valor de corte de identidad,\n",
    "usualmente este valor es 0.62 (un 62% de identidad).\n",
    "\n",
    "El algoritmo funciona de esta forma:\n",
    "* Los datos de entrada son la lista de secuencias y el valor de corte de identidad.\n",
    "* Se define una lista llamada *select*, donde se van a ir guardando los grupos se que vayan formando. Inicialmente esta lista está vacia.\n",
    "* La primer secuencia de cada grupo dentro de *select* es la secuencia representativa del grupo.\n",
    "* Se recorre la lista de secuencias de entrada y se calcula la fracción de identidad contra la secuencia representativa del primer grupo. Si la fracción de identidad es mayor que el valor de corte, esta secuencia se agrega a ese grupo y no se sigue comparando contra las secuencias representativas de los otros grupos. Sino se repite la operación contra las demás secuencias representativas.\n",
    "* Si una secuencia no tiene un porcentaje de identidad mayor que el valor de corte con ninguna secuencia representativa, se agrega un nuevo grupo en *select* que contiene solamente a esta secuencia.\n",
    "* Al finalizar de recorrer todas las secuencias de entrada, se devuelve como resultado la lista *select*.\n",
    "\n",
    "**Ayuda**: \n",
    "* Para calcular la fracción de identidad usar la función creada en el ejercicio anterior.\n",
    "* Puede usar la instrucción *break* para salir prematuramente de un ciclo *for*.\n",
    " * Ejemplo: \n",
    "```python\n",
    "for a in range(10):\n",
    "    print(a)\n",
    "    if a >4 :\n",
    "        break\n",
    "# Solo imprime los números del 0 al 5.\n",
    "```\n",
    "\n"
   ]
  },
  {
   "cell_type": "code",
   "execution_count": null,
   "metadata": {},
   "outputs": [],
   "source": [
    "def hobohm1(sequences, corte=0.62):\n",
    "    select = []\n",
    "    for seq in sequences:\n",
    "        create_new_group = True\n",
    "        for grupo in select:\n",
    "            if sequence_id(seq, grupo[0]) >= corte:\n",
    "                create_new_group = False\n",
    "                grupo.append(seq)\n",
    "                break\n",
    "        if create_new_group:\n",
    "            select.append([seq])\n",
    "    return select\n",
    "\n",
    "seqs = ['QQQQQQQQ',\n",
    "        'QQQQQQWW',\n",
    "        'QQQQQQXX',\n",
    "        'WWWWWWEE',\n",
    "        'WWWWWWRR',\n",
    "        'WWWWWWTT']\n",
    "a = hobohm1(seqs)\n",
    "print(a)"
   ]
  },
  {
   "cell_type": "markdown",
   "metadata": {},
   "source": [
    "### Cambiar formato de un MSA\n",
    "\n"
   ]
  },
  {
   "cell_type": "markdown",
   "metadata": {},
   "source": [
    "### Muestrear un MSA.\n",
    "\n",
    "Escribir una función que permita obtener un MSA pequeño a partir de un MSA de mayor tamaño eligiendo algunas de las secuencias al azar. Cada secuencia del MSA original debe estar presente a lo sumo una vez en el MSA final. \n",
    "Asuma que el formato del MSA de entrada y salida son iguales.\n",
    "\n",
    "**Ayuda**:\n",
    "* Usar AlignIO.read para leer el archivo de entrada.\n",
    "* Usar SeqIO.write para guardar el archivo de salida.\n",
    "* Usar la función random.sample para obtener la muestra de secuencias.\n",
    "\n"
   ]
  },
  {
   "cell_type": "code",
   "execution_count": null,
   "metadata": {},
   "outputs": [],
   "source": [
    "from Bio import AlignIO\n",
    "from Bio import SeqIO\n",
    "from random import sample\n",
    "\n",
    "def sample_msa(infile, outfile, msa_format, nseqs=10, ):\n",
    "    msa = list(AlignIO.read(infile, format=msa_format))\n",
    "    if len(msa) < nseqs:\n",
    "        nseqs = len(msa)\n",
    "    new_msa = sample(msa, nseqs)\n",
    "    with open(outfile, \"w\") as handle:\n",
    "        count = SeqIO.write(new_msa, handle, msa_format)\n",
    "\n",
    "sample_msa(\"PF00453.full.stockholm\", \"PF00453.stockholm\", \"stockholm\", 100)"
   ]
  },
  {
   "cell_type": "markdown",
   "metadata": {},
   "source": [
    "### Recortar un MSA\n",
    "\n",
    "Escribir una función que recorte una sección de una MSA, dando las posiciones de inicio y de de fin que se quieren mantener del MSA.\n"
   ]
  },
  {
   "cell_type": "code",
   "execution_count": null,
   "metadata": {},
   "outputs": [],
   "source": [
    "from Bio.Seq import Seq\n",
    "\n",
    "def cut_msa(infile, outfile, msa_format, start=0, end=-1):\n",
    "    msa = AlignIO.read(infile, format=msa_format)\n",
    "    new_msa = []\n",
    "    for row in msa:\n",
    "        new_msa.append(row[start: end])\n",
    "    with open(outfile, \"w\") as handle:\n",
    "        count = SeqIO.write(new_msa, handle, msa_format)\n",
    "\n",
    "cut_msa(\"PF00453.stockholm\", \"PF00453.cut.stockholm\",\"stockholm\", 50, 120)"
   ]
  },
  {
   "cell_type": "markdown",
   "metadata": {},
   "source": [
    "### Reordenar un MSA\n",
    "\n",
    "Escribir una función que permite reordenar las secuencias de un MSA alfabéticamente."
   ]
  },
  {
   "cell_type": "code",
   "execution_count": null,
   "metadata": {},
   "outputs": [],
   "source": [
    "from Bio.Seq import Seq\n",
    "\n",
    "def order_msa(infile, outfile, msa_format):\n",
    "    msa = AlignIO.read(infile, format=msa_format)\n",
    "    new_msa = sorted(msa, key=lambda x: x.id )\n",
    "\n",
    "    with open(outfile, \"w\") as handle:\n",
    "        count = SeqIO.write(new_msa, handle, msa_format)\n",
    "\n",
    "order_msa(\"PF00453.stockholm\", \"PF00453.sorted.stockholm\",\"stockholm\")\n"
   ]
  },
  {
   "cell_type": "markdown",
   "metadata": {},
   "source": [
    "### Calcular porcentaje de gaps en un MSA\n",
    "\n",
    "Escribir una función que permite calcular la proporción de *gaps* en cada columna de un MSA.\n",
    "La función debe devolver una lista de tamaño igual a la cantidad de columnas del MSA, que contenga la proporción de *gaps* de cada una.\n",
    "\n",
    "**Ayuda**:\n",
    "* Usar la función *enumerate* para recorrer las secuencia.\n",
    " * Ejemplo:\n",
    "```python\n",
    "seq = \"ACTG\"\n",
    "for i, a in enumerate(seq):\n",
    "    print(i, a)\n",
    "# Imprime:\n",
    "# 0 A\n",
    "# 1 C\n",
    "# 2 T\n",
    "# 3 G\n",
    "```"
   ]
  },
  {
   "cell_type": "code",
   "execution_count": null,
   "metadata": {},
   "outputs": [],
   "source": [
    "def gap_freq(infile, msa_format):\n",
    "    msa = AlignIO.read(infile, format=msa_format)\n",
    "    gap_frq = {}\n",
    "    for row in msa:\n",
    "        for i, c in enumerate(row):\n",
    "            if not i in gap_frq:\n",
    "                gap_frq[i] = 0\n",
    "            if c == '-':\n",
    "                gap_frq[i] = 1 + gap_frq[i]\n",
    "    \n",
    "    for k in gap_frq:\n",
    "        gap_frq[k] = float(gap_frq[k]) / len(msa)\n",
    "    \n",
    "    result=[]\n",
    "    for k in range(len(gap_frq)):\n",
    "        result.append(gap_frq[k])\n",
    "    return result\n",
    "\n",
    "gap_freq(\"PF00453.stockholm\", 'stockholm')\n",
    "\n"
   ]
  },
  {
   "cell_type": "markdown",
   "metadata": {},
   "source": [
    "### Eliminar columnas con muchos gaps en un MSA\n",
    "\n",
    "Escribir una función que permita eliminar aquellas columnas del un MSA que tiene una proporción de gaps mayor que un valor de corte. \n",
    "\n",
    "**Ayuda**:\n",
    "* Usar la función creada en el ejercicio anterior.\n",
    "* El método *join* permite crear un string a partir de una lista de caracteres.\n",
    "* Usar objetos del tipo SeqRecord y Seq (es neceario importar Bio.SeqRecord y Bio.Seq).\n"
   ]
  },
  {
   "cell_type": "code",
   "execution_count": 102,
   "metadata": {},
   "outputs": [],
   "source": [
    "from Bio.SeqRecord import SeqRecord\n",
    "from Bio.Seq import Seq\n",
    "\n",
    "def remove_gapped_columns(infile, outfile, msa_format, corte=0.5):\n",
    "    gap_frq = gap_freq(infile, msa_format)\n",
    "    msa = AlignIO.read(infile, format=msa_format)\n",
    "    new_msa = []\n",
    "    for row in msa:\n",
    "        new_seq = []\n",
    "        for i, c in enumerate(row):\n",
    "            if gap_frq[i] <= corte:\n",
    "                new_seq.append(c)\n",
    "        new_seq = \"\".join(new_seq)\n",
    "        new_row = SeqRecord(\n",
    "            Seq(new_seq, row.seq.alphabet),\n",
    "            id=row.id)\n",
    "        new_msa.append(new_row)\n",
    "        \n",
    "    with open(outfile, \"w\") as handle:\n",
    "        count = SeqIO.write(new_msa, handle, msa_format)    \n",
    "    \n",
    "remove_gapped_columns(\"PF00453.stockholm\", \"PF00453.gap_frq.stockholm\", \"stockholm\")"
   ]
  }
 ],
 "metadata": {
  "kernelspec": {
   "display_name": "Python 3",
   "language": "python",
   "name": "python3"
  },
  "language_info": {
   "codemirror_mode": {
    "name": "ipython",
    "version": 3
   },
   "file_extension": ".py",
   "mimetype": "text/x-python",
   "name": "python",
   "nbconvert_exporter": "python",
   "pygments_lexer": "ipython3",
   "version": "3.7.2"
  }
 },
 "nbformat": 4,
 "nbformat_minor": 2
}
