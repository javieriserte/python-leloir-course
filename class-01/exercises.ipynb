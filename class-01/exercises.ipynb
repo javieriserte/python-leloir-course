{
 "cells": [
  {
   "cell_type": "markdown",
   "metadata": {},
   "source": [
    "# Algunos ejercicios"
   ]
  },
  {
   "cell_type": "markdown",
   "metadata": {},
   "source": [
    "## Generador de secuencias aleatorias\n",
    "Escribir una función de python que permita generar **n** secuencias de DNA de longitud **l** y guardarlas en un **archivo** de texto. Una secuencia por línea.\n",
    "\n",
    "Tips:\n",
    "* importar el módulo **random**\n",
    " * La función **random.randint(a,b)** genera un número al azar entre **a** y **b**.\n",
    "* Definir una función **getRandomBase** que permita obtener una base al azar.\n",
    "* Definir una función **getRandomSequence** que use a **getRandomBase** y genere una secuencia al azar de una longitud **l**.\n",
    "* Finalmente definir la función pedida que use a **getRandomSequence**."
   ]
  },
  {
   "cell_type": "code",
   "execution_count": 10,
   "metadata": {},
   "outputs": [],
   "source": [
    "import random\n",
    "\n",
    "\n",
    "def getRandomBase() :\n",
    "    n = random.randint(0,3)\n",
    "    if n == 0 : return 'A'\n",
    "    elif n == 1 : return 'C'\n",
    "    elif n == 2 : return 'T'\n",
    "    else: return 'G'\n",
    "\n",
    "def getRandomSequence(l):\n",
    "    result = []\n",
    "    while (l>0) :\n",
    "        result.append( getRandomBase() )\n",
    "        l = l - 1 \n",
    "    return \"\".join(result)\n",
    "\n",
    "def saveSequences( n, l, outfile ) :\n",
    "    with open( outfile , 'w') as fh :\n",
    "        while( n > 0 ):\n",
    "            fh.write( getRandomSequence(l) + '\\n' )\n",
    "            n = n - 1\n",
    "\n",
    "saveSequences( 20, 50, 'secuencias.txt' )"
   ]
  },
  {
   "cell_type": "markdown",
   "metadata": {},
   "source": [
    "## Filtrar secuencias\n",
    "Escribir una función que lea las secuencias generadas con la función del ejercicio anterior y que elimine aquellas que tienen un percentaje de G+C menor a un valor dado y escriba las resultantes en otro archivos, junto con su porcentaje de G+C.\n",
    "\n",
    "Tips:\n",
    "* usar la funcion **filter( f, lista )** .\n",
    " * Esta función toma una función **f** que se evalúa a verdadero o falso y una lista.\n",
    " * Aplica la función **f** a cada elemento de **lista** y devuelve una **lista** con aquellos para los cuales el resultado es **True**.\n",
    " * Uso: list( filter( f, lista ) )\n",
    "* Definir una función **gtThanCutoff(a)** que devuelve otra función.\n",
    " * Esta segunda función tiene un argumento **x** que es una tupla y devuelve True si el segundo elemento de x es mayor a a, sino False.\n",
    "* Definir una función **readSeqs** que permita leer el archivo y devolver una lista con todas las secuencias.\n",
    "* Definir una función **GCcontent** que calcule el contenido de G+C de una secuencia\n",
    "* Definir una función **getSeqsGC** que use a genera una lista de tuplas, donde el primer elemento de cada tupla es la secuencia y el segunda el contenido de G+C. Usar comprensión de listas."
   ]
  },
  {
   "cell_type": "code",
   "execution_count": 39,
   "metadata": {},
   "outputs": [],
   "source": [
    "def readSeqs(infile):\n",
    "    with open(infile, 'r') as fh:\n",
    "        seqs = []\n",
    "        for line in fh :\n",
    "            line = line.strip()\n",
    "            seqs.append(line)\n",
    "    return seqs\n",
    "\n",
    "def GCcontent( seq ) :\n",
    "    nGC = seq.count('G') + seq.count('C')\n",
    "    gcContent = nGC / len(seq)\n",
    "    return gcContent\n",
    "\n",
    "def getSeqsGC( seqs ) :\n",
    "    return [ ( s, GCcontent(s) ) for s in seqs ]\n",
    "\n",
    "def gtThanCutoff(a) :\n",
    "    def f(x) :\n",
    "        return x[1] > a\n",
    "    return f\n",
    "\n",
    "def filterSeqs( infile, outfile, gcCutoff ) :\n",
    "    seqs = readSeqs( infile )\n",
    "    seqs = getSeqsGC( seqs )\n",
    "    seqsFiltered = filter( gtThanCutoff(gcCutoff) , seqs )\n",
    "    with open( outfile , 'w') as fh:\n",
    "        for seq, gc in seqsFiltered :\n",
    "            fh.write( seq + \" \" + str(gc) + \"\\n\" )\n",
    "\n",
    "filterSeqs( 'secuencias.txt', 'secuencias_filtered.txt', 0.50 )"
   ]
  }
 ],
 "metadata": {
  "kernelspec": {
   "display_name": "Python 3",
   "language": "python",
   "name": "python3"
  },
  "language_info": {
   "codemirror_mode": {
    "name": "ipython",
    "version": 3
   },
   "file_extension": ".py",
   "mimetype": "text/x-python",
   "name": "python",
   "nbconvert_exporter": "python",
   "pygments_lexer": "ipython3",
   "version": "3.6.4"
  }
 },
 "nbformat": 4,
 "nbformat_minor": 2
}
