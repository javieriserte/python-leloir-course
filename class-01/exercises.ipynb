{
 "cells": [
  {
   "cell_type": "markdown",
   "metadata": {},
   "source": [
    "# Algunos ejercicios"
   ]
  },
  {
   "cell_type": "markdown",
   "metadata": {},
   "source": [
    "## Generador de secuencias aleatorias\n",
    "Escribir una función de python que permita generar **n** secuencias de DNA de longitud **l** y guardarlas en un **archivo** de texto. Una secuencia por línea.\n",
    "\n",
    "Tips:\n",
    "* importar el módulo **random**\n",
    " * La función **random.randint(a,b)** genera un número al azar entre **a** y **b**.\n",
    "* Definir una función **getRandomBase** que permita obtener una base al azar.\n",
    "* Definir una función **getRandomSequence** que use a **getRandomBase** y genere una secuencia al azar de una longitud **l**.\n",
    "* Finalmente definir la función pedida que use a **getRandomSequence**."
   ]
  },
  {
   "cell_type": "code",
   "execution_count": null,
   "metadata": {},
   "outputs": [],
   "source": [
    "import random\n",
    "\n",
    "def getRandomBase() :\n",
    "    pass\n",
    "\n",
    "def getRandomSequence(l):\n",
    "    pass\n",
    "\n",
    "def saveSequences( n, l, outfile ) :\n",
    "    pass"
   ]
  },
  {
   "cell_type": "markdown",
   "metadata": {},
   "source": [
    "## Filtrar secuencias\n",
    "Escribir una función que lea las secuencias generadas con la función del ejercicio anterior y que elimine aquellas que tienen un percentaje de G+C menor a un valor dado y escriba las resultantes en otro archivos, junto con su porcentaje de G+C.\n",
    "\n",
    "Tips:\n",
    "* usar la funcion **filter( f, lista )** .\n",
    " * Esta función toma una función **f** que se evalúa a verdadero o falso y una lista.\n",
    " * Aplica la función **f** a cada elemento de **lista** y devuelve una **lista** con aquellos para los cuales el resultado es **True**.\n",
    " * Uso: list( filter( f, lista ) )\n",
    "* Definir una función **gtThanCutoff(y)** que devuelve otra función.\n",
    " * Esta segunda función tiene un argumento **x** que es una tupla y devuelve True si el segundo elemento de x es mayor a **y**, sino False.\n",
    "* Definir una función **readSeqs** que permita leer el archivo y devolver una lista con todas las secuencias.\n",
    "* Definir una función **GCcontent** que calcule el contenido de G+C de una secuencia\n",
    "* Definir una función **getSeqsGC** que use a genera una lista de tuplas, donde el primer elemento de cada tupla es la secuencia y el segunda el contenido de G+C. Usar comprensión de listas."
   ]
  },
  {
   "cell_type": "code",
   "execution_count": null,
   "metadata": {},
   "outputs": [],
   "source": [
    "\n",
    "\n",
    "def readSeqs(infile):\n",
    "    pass\n",
    "\n",
    "def GCcontent( seq ) :\n",
    "    pass\n",
    "\n",
    "def getSeqsGC( seqs ) :\n",
    "    pass\n",
    "\n",
    "def gtThanCutoff(a) :\n",
    "    pass\n",
    "\n",
    "def filterSeqs( infile, outfile, gcCutoff ) :\n",
    "    pass\n"
   ]
  }
 ],
 "metadata": {
  "kernelspec": {
   "display_name": "Python 3",
   "language": "python",
   "name": "python3"
  },
  "language_info": {
   "codemirror_mode": {
    "name": "ipython",
    "version": 3
   },
   "file_extension": ".py",
   "mimetype": "text/x-python",
   "name": "python",
   "nbconvert_exporter": "python",
   "pygments_lexer": "ipython3",
   "version": "3.6.4"
  }
 },
 "nbformat": 4,
 "nbformat_minor": 2
}
