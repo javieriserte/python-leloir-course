{
 "cells": [
  {
   "cell_type": "markdown",
   "metadata": {},
   "source": [
    "# Algunos ejercicios"
   ]
  },
  {
   "cell_type": "markdown",
   "metadata": {},
   "source": [
    "### Intersección de listas\n",
    "Se tienen dos listas ( l1 y l2 ), escribir una función que devuelva la intersección de ambas listas."
   ]
  },
  {
   "cell_type": "code",
   "execution_count": null,
   "metadata": {},
   "outputs": [],
   "source": [
    "l1 = [1,3,5,6,7,10,12,15,22]\n",
    "l2 = [3,4,6,7,8,9,10,11,13,15]\n",
    "def intersection( a, b) :\n",
    "    pass"
   ]
  },
  {
   "cell_type": "markdown",
   "metadata": {},
   "source": [
    "### Listas reversas\n",
    "Escribir una función que dadas dos listas, devuelva un valor de verdad que dice si una lista es inversa a la otra."
   ]
  },
  {
   "cell_type": "code",
   "execution_count": null,
   "metadata": {},
   "outputs": [],
   "source": [
    "l1 = [1,2,3]\n",
    "l2 = [3,2,1]\n",
    "\n",
    "def isReverse(a, b) :\n",
    "    pass"
   ]
  },
  {
   "cell_type": "markdown",
   "metadata": {},
   "source": [
    "### Lista incluida en otra lista\n",
    "\n",
    "Escribir una función que tome dos listas **l1** y **l2**, y que devuelve True si todos los elementso de **l1** están en **l2**, sino quq devuelva False."
   ]
  },
  {
   "cell_type": "code",
   "execution_count": 1,
   "metadata": {},
   "outputs": [],
   "source": [
    "def contains_all(l1, l2):\n",
    "    pass"
   ]
  },
  {
   "cell_type": "markdown",
   "metadata": {},
   "source": [
    "### Recorrer diccionario con listas\n",
    "\n",
    "Construir un diccionario cuya clave sea un nombre de persona y los valores sean listas de nombres de ciudades que esa persona visitó.\n",
    "Crear una función que dado un diccionario como el que se pide antes y un nombre de ciudad, devuelva la lista de las personas que visitaron esa ciudad."
   ]
  },
  {
   "cell_type": "code",
   "execution_count": null,
   "metadata": {},
   "outputs": [],
   "source": [
    "datos = {\n",
    "    'juan' : ['Berlin','Barcelona','Buenos Aires','Baradero','Boston'],\n",
    "    'pedro' : ['Asunción','Atenas','Alicante','Almería','Berlin'],\n",
    "    'pepe' : ['Asunción','Buenos Aires','Berlin']\n",
    "}\n",
    "\n",
    "def visitantes( dic, ciudad ):\n",
    "    pass"
   ]
  },
  {
   "cell_type": "markdown",
   "metadata": {},
   "source": [
    "### Invertir diccionario\n",
    "Defina una función que dado un diccionario permita crear otro pero que este tenga invertidas las claves y los valores.\n",
    "Asuma que no hay valores repetidos y estos pueden ser usados como clave."
   ]
  },
  {
   "cell_type": "code",
   "execution_count": 18,
   "metadata": {},
   "outputs": [],
   "source": [
    "def reverseDict(dic):\n",
    "    pass\n"
   ]
  },
  {
   "cell_type": "markdown",
   "metadata": {},
   "source": [
    "### Generador de secuencias aleatorias\n",
    "\n",
    "Escribir una función de python que permita generar n secuencias de DNA de una longitud dada y guardarlas en un archivo de texto. Una secuencia por línea.\n",
    "\n",
    "Ayuda:\n",
    "* importar el módulo **random**\n",
    "* La función **random.choice(a)** elije un valor al azar detro de **a**.\n",
    "* Ls función **join** permite crear un string concatenando los elementos de una lista de strings.\n",
    "* * Por ejemplo: s = \"\".join([\"A\", \"B\", \"C\"]), s = \"ABC\"\n",
    "* * Otro ejemplo: s = \"/\".join([\"A\", \"B\", \"C\"]), s = \"A/B/C\"\n",
    "* Definir una función **getRandomSequence** que genere una secuencia al azar de una longitud **l**.\n",
    "* Finalmente definir la función pedida que use a **getRandomSequence**."
   ]
  },
  {
   "cell_type": "code",
   "execution_count": 5,
   "metadata": {},
   "outputs": [
    {
     "name": "stdout",
     "output_type": "stream",
     "text": [
      "GTATGTCCTA\n"
     ]
    }
   ],
   "source": [
    "import random\n",
    "\n",
    "def getRandomSequence(l):\n",
    "    pass\n",
    "\n",
    "def saveSequences(n, l, outfile) :\n",
    "    pass"
   ]
  },
  {
   "cell_type": "markdown",
   "metadata": {},
   "source": [
    "## Filtrar secuencias\n",
    "Escribir una función que lea las secuencias generadas con la función del ejercicio anterior y que elimine aquellas que tienen un percentaje de G+C menor a un valor dado y escriba las resultantes en otro archivo, junto con su porcentaje de G+C.\n",
    "\n",
    "Tips:\n",
    "* Definir una función **readSeqs** que permita leer el archivo y devolver una lista con todas las secuencias.\n",
    "* Definir una función **GCcontent** que calcule el contenido de G+C de una secuencia\n",
    "* Definir una función **apply_filter** utilice a **GCcontent** y que realice el filtrado.\n",
    "* Definir una función **save_filtered** que guarde en un archivo los resultados de apply_filter.\n",
    "* * Utilizar el character especial \"\\n\" al final de cada línea de texto.\n",
    "* Finalmente, escribir una función **filterSeqs** que utiliza una o más de  las anteriores.\n"
   ]
  },
  {
   "cell_type": "code",
   "execution_count": 12,
   "metadata": {},
   "outputs": [],
   "source": [
    "def readSeqs(infile):\n",
    "    pass\n",
    "\n",
    "def GCcontent(seq) :\n",
    "    pass\n",
    "\n",
    "def apply_filter(seqs, gcCutoff):\n",
    "    pass\n",
    "\n",
    "def save_filtered(filtered, outfile):\n",
    "    pass\n",
    "\n",
    "def filterSeqs( infile, outfile, gcCutoff ) :\n",
    "    seqs = readSeqs(infile)\n",
    "    filtered = apply_filter(seqs, gcCutoff)\n",
    "    save_filtered(filtered, outfile)\n",
    "    \n",
    "filterSeqs(\"secuencias.txt\", 'seq_filtered.txt', 60)"
   ]
  },
  {
   "cell_type": "markdown",
   "metadata": {},
   "source": [
    "### Uniprot Mapping\n",
    "\n",
    "El archivo *uniprot_mapping_selected.txt* contiene una tabla de conversión de identificadores de algunas proteínas seleccionadas de Uniprot.\n",
    "El archivo \"names_selected.txt\" contiene el nombre científico asociado con cada Tax_ID.\n",
    "El archivo \"nodes_selected.txt\" contiene datos de acerca de cada nodo en el árbol taxonómico, incluyendo cual es el nodo padre. Todos los archivos están en la subcarpeta data.\n",
    "\n",
    "1. Leer el archivo con los datos de Uniprot y almacenar el contenido como un diccionario que use como claves códigos de acceso de Uniprot (Uniprot_ACC).\n",
    " 1. Cuidado: Un mismo Uniprot puede estar asociado a más de un GI.\n",
    "1. Crear un diccionario que asocie un Uniprot_ID a un Uniprot_ACC\n",
    "1. Recuperar todos los TaxID de NCBI para estos datos.\n",
    " 1. ¿Cuantas veces aparece repetido cada uno?\n",
    " 1. Cual es el nombre científico asociado a cada TaxID.\n",
    "1. Recuperar el linaje de TaxID para cada un Uniprot_ACC.\n",
    " 1. Dados dos Uniprot_ACC, decir cuales son los TaxID comunes para entre los linajes de ambos.\n",
    "\n",
    "**Tips**:\n",
    "* Leer la documentación acerca de la estructura de datos *set*.\n",
    "* Leer la documentación acerca de la estructura de control *while*.\n"
   ]
  },
  {
   "cell_type": "code",
   "execution_count": null,
   "metadata": {},
   "outputs": [],
   "source": []
  },
  {
   "cell_type": "Markdown",
   "source" :[
    "### Shannon Entropy\n",
    "La entronpía informativa de Shannon en una forma de medir la diversidad o conservación de un conjunto de datos\n",
    "\n",
    "La entropía de Shannon para un conjunto de datos A, se calcula:",
    "$$ H(x) = -\sum_{i=1}^{n}{p_i\times log_b(p_i)}$$\n",
    "\n",
    "1. Escriba una función para calcular la entropía de Shannon de un conjunto de caracteres que representan aminoácidos."
   ]
  }
 ],
 "metadata": {
  "kernelspec": {
   "display_name": "Python 3",
   "language": "python",
   "name": "python3"
  },
  "language_info": {
   "codemirror_mode": {
    "name": "ipython",
    "version": 3
   },
   "file_extension": ".py",
   "mimetype": "text/x-python",
   "name": "python",
   "nbconvert_exporter": "python",
   "pygments_lexer": "ipython3",
   "version": "3.7.2"
  }
 },
 "nbformat": 4,
 "nbformat_minor": 2
}
