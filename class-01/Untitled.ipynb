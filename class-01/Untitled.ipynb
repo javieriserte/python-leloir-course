{
 "cells": [
  {
   "cell_type": "code",
   "execution_count": 105,
   "metadata": {},
   "outputs": [],
   "source": [
    "from Bio import SeqIO\n",
    "from Bio import SeqRecord\n",
    "\n",
    "with open('/home/fernando/Descargas/sequence(3).gb', 'r') as handle:\n",
    "    secuencia = SeqIO.read(handle, 'gb')"
   ]
  },
  {
   "cell_type": "code",
   "execution_count": 106,
   "metadata": {},
   "outputs": [],
   "source": [
    "seq = secuencia"
   ]
  },
  {
   "cell_type": "code",
   "execution_count": 4,
   "metadata": {},
   "outputs": [
    {
     "data": {
      "text/plain": [
       "71"
      ]
     },
     "execution_count": 4,
     "metadata": {},
     "output_type": "execute_result"
    }
   ],
   "source": [
    "len(secuencia.features)"
   ]
  },
  {
   "cell_type": "code",
   "execution_count": 5,
   "metadata": {},
   "outputs": [
    {
     "name": "stdout",
     "output_type": "stream",
     "text": [
      "type: source\n",
      "location: [0:2591](+)\n",
      "qualifiers:\n",
      "    Key: chromosome, Value: ['17']\n",
      "    Key: db_xref, Value: ['taxon:9606']\n",
      "    Key: map, Value: ['17p13.1']\n",
      "    Key: mol_type, Value: ['mRNA']\n",
      "    Key: organism, Value: ['Homo sapiens']\n",
      "\n",
      "type: gene\n",
      "location: [0:2591](+)\n",
      "qualifiers:\n",
      "    Key: db_xref, Value: ['GeneID:7157', 'HGNC:HGNC:11998', 'MIM:191170']\n",
      "    Key: gene, Value: ['TP53']\n",
      "    Key: gene_synonym, Value: ['BCC7; BMFS5; LFS1; P53; TRP53']\n",
      "    Key: note, Value: ['tumor protein p53']\n",
      "\n",
      "type: exon\n",
      "location: [0:174](+)\n",
      "qualifiers:\n",
      "    Key: gene, Value: ['TP53']\n",
      "    Key: gene_synonym, Value: ['BCC7; BMFS5; LFS1; P53; TRP53']\n",
      "    Key: inference, Value: ['alignment:Splign:2.1.0']\n",
      "\n",
      "type: misc_feature\n",
      "location: [94:97](+)\n",
      "qualifiers:\n",
      "    Key: gene, Value: ['TP53']\n",
      "    Key: gene_synonym, Value: ['BCC7; BMFS5; LFS1; P53; TRP53']\n",
      "    Key: note, Value: ['upstream in-frame stop codon']\n",
      "\n",
      "type: exon\n",
      "location: [174:276](+)\n",
      "qualifiers:\n",
      "    Key: gene, Value: ['TP53']\n",
      "    Key: gene_synonym, Value: ['BCC7; BMFS5; LFS1; P53; TRP53']\n",
      "    Key: inference, Value: ['alignment:Splign:2.1.0']\n",
      "\n",
      "type: CDS\n",
      "location: [202:1384](+)\n",
      "qualifiers:\n",
      "    Key: codon_start, Value: ['1']\n",
      "    Key: db_xref, Value: ['CCDS:CCDS11118.1', 'GeneID:7157', 'HGNC:HGNC:11998', 'MIM:191170']\n",
      "    Key: gene, Value: ['TP53']\n",
      "    Key: gene_synonym, Value: ['BCC7; BMFS5; LFS1; P53; TRP53']\n",
      "    Key: note, Value: ['isoform a is encoded by transcript variant 1; tumor protein 53; mutant tumor protein 53; cellular tumor antigen p53; phosphoprotein p53; transformation-related protein 53; p53 tumor suppressor; antigen NY-CO-13; tumor supressor p53']\n",
      "    Key: product, Value: ['cellular tumor antigen p53 isoform a']\n",
      "    Key: protein_id, Value: ['NP_000537.3']\n",
      "    Key: translation, Value: ['MEEPQSDPSVEPPLSQETFSDLWKLLPENNVLSPLPSQAMDDLMLSPDDIEQWFTEDPGPDEAPRMPEAAPPVAPAPAAPTPAAPAPAPSWPLSSSVPSQKTYQGSYGFRLGFLHSGTAKSVTCTYSPALNKMFCQLAKTCPVQLWVDSTPPPGTRVRAMAIYKQSQHMTEVVRRCPHHERCSDSDGLAPPQHLIRVEGNLRVEYLDDRNTFRHSVVVPYEPPEVGSDCTTIHYNYMCNSSCMGGMNRRPILTIITLEDSSGNLLGRNSFEVRVCACPGRDRRTEEENLRKKGEPHHELPPGSTKRALPNNTSSSPQPKKKPLDGEYFTLQIRGRERFEMFRELNEALELKDAQAGKEPGGSRAHSSHLKSKKGQSTSRHKKLMFKTEGPDSD']\n",
      "\n",
      "type: misc_feature\n",
      "location: [202:1162](+)\n",
      "qualifiers:\n",
      "    Key: experiment, Value: ['experimental evidence, no additional details recorded']\n",
      "    Key: gene, Value: ['TP53']\n",
      "    Key: gene_synonym, Value: ['BCC7; BMFS5; LFS1; P53; TRP53']\n",
      "    Key: note, Value: ['propagated from UniProtKB/Swiss-Prot (P04637.4); Region: Interaction with CCAR2. {ECO:0000269|PubMed:25732823}']\n",
      "\n",
      "type: misc_feature\n",
      "location: [202:451](+)\n",
      "qualifiers:\n",
      "    Key: experiment, Value: ['experimental evidence, no additional details recorded']\n",
      "    Key: gene, Value: ['TP53']\n",
      "    Key: gene_synonym, Value: ['BCC7; BMFS5; LFS1; P53; TRP53']\n",
      "    Key: note, Value: ['propagated from UniProtKB/Swiss-Prot (P04637.4); Region: Interaction with HRMT1L2. {ECO:0000269|PubMed:15186775}']\n",
      "\n",
      "type: misc_feature\n",
      "location: [202:334](+)\n",
      "qualifiers:\n",
      "    Key: experiment, Value: ['experimental evidence, no additional details recorded']\n",
      "    Key: gene, Value: ['TP53']\n",
      "    Key: gene_synonym, Value: ['BCC7; BMFS5; LFS1; P53; TRP53']\n",
      "    Key: note, Value: ['propagated from UniProtKB/Swiss-Prot (P04637.4); Region: Transcription activation (acidic)']\n",
      "\n",
      "type: misc_feature\n",
      "location: [226:229](+)\n",
      "qualifiers:\n",
      "    Key: experiment, Value: ['experimental evidence, no additional details recorded']\n",
      "    Key: gene, Value: ['TP53']\n",
      "    Key: gene_synonym, Value: ['BCC7; BMFS5; LFS1; P53; TRP53']\n",
      "    Key: note, Value: ['Phosphoserine, by HIPK4. {ECO:0000269|PubMed:18022393}; propagated from UniProtKB/Swiss-Prot (P04637.4); phosphorylation site']\n",
      "\n",
      "type: misc_feature\n",
      "location: [244:247](+)\n",
      "qualifiers:\n",
      "    Key: experiment, Value: ['experimental evidence, no additional details recorded']\n",
      "    Key: gene, Value: ['TP53']\n",
      "    Key: gene_synonym, Value: ['BCC7; BMFS5; LFS1; P53; TRP53']\n",
      "    Key: note, Value: ['Phosphoserine, by CDK5, PRPK, AMPK, NUAK1 and ATM. {ECO:0000269|PubMed:10570149, ECO:0000269|PubMed:11554766, ECO:0000269|PubMed:15701641, ECO:0000269|PubMed:15866171, ECO:0000269|PubMed:17108107, ECO:0000269|PubMed:17591690, ECO:0000269|PubMed:17967874, ECO:0000269|PubMed:21317932}; propagated from UniProtKB/Swiss-Prot (P04637.4); phosphorylation site']\n",
      "\n",
      "type: misc_feature\n",
      "location: [250:277](+)\n",
      "qualifiers:\n",
      "    Key: experiment, Value: ['experimental evidence, no additional details recorded']\n",
      "    Key: gene, Value: ['TP53']\n",
      "    Key: gene_synonym, Value: ['BCC7; BMFS5; LFS1; P53; TRP53']\n",
      "    Key: note, Value: ['propagated from UniProtKB/Swiss-Prot (P04637.4); Region: TADI']\n",
      "\n",
      "type: misc_feature\n",
      "location: [253:256](+)\n",
      "qualifiers:\n",
      "    Key: experiment, Value: ['experimental evidence, no additional details recorded']\n",
      "    Key: gene, Value: ['TP53']\n",
      "    Key: gene_synonym, Value: ['BCC7; BMFS5; LFS1; P53; TRP53']\n",
      "    Key: note, Value: ['Phosphothreonine, by CK1, VRK1 and VRK2. {ECO:0000269|PubMed:10606744, ECO:0000269|PubMed:10951572, ECO:0000269|PubMed:16704422}; propagated from UniProtKB/Swiss-Prot (P04637.4); phosphorylation site']\n",
      "\n",
      "type: misc_feature\n",
      "location: [259:262](+)\n",
      "qualifiers:\n",
      "    Key: experiment, Value: ['experimental evidence, no additional details recorded']\n",
      "    Key: gene, Value: ['TP53']\n",
      "    Key: gene_synonym, Value: ['BCC7; BMFS5; LFS1; P53; TRP53']\n",
      "    Key: note, Value: ['Phosphoserine, by CHEK2, CK1 and PLK3. {ECO:0000269|PubMed:10570149, ECO:0000269|PubMed:11447225, ECO:0000269|PubMed:11551930, ECO:0000269|PubMed:12810724, ECO:0000269|PubMed:20041275}; propagated from UniProtKB/Swiss-Prot (P04637.4); phosphorylation site']\n",
      "\n",
      "type: misc_feature\n",
      "location: [298:301](+)\n",
      "qualifiers:\n",
      "    Key: experiment, Value: ['experimental evidence, no additional details recorded']\n",
      "    Key: gene, Value: ['TP53']\n",
      "    Key: gene_synonym, Value: ['BCC7; BMFS5; LFS1; P53; TRP53']\n",
      "    Key: note, Value: ['Phosphoserine, by CDK5 and CDK7. {ECO:0000269|PubMed:17591690, ECO:0000269|PubMed:9372954}; propagated from UniProtKB/Swiss-Prot (P04637.4); phosphorylation site']\n",
      "\n",
      "type: misc_feature\n",
      "location: [310:313](+)\n",
      "qualifiers:\n",
      "    Key: experiment, Value: ['experimental evidence, no additional details recorded']\n",
      "    Key: gene, Value: ['TP53']\n",
      "    Key: gene_synonym, Value: ['BCC7; BMFS5; LFS1; P53; TRP53']\n",
      "    Key: note, Value: ['Phosphoserine, by MAPKAPK5. {ECO:0000269|PubMed:17254968}; propagated from UniProtKB/Swiss-Prot (P04637.4); phosphorylation site']\n",
      "\n",
      "type: misc_feature\n",
      "location: [319:322](+)\n",
      "qualifiers:\n",
      "    Key: gene, Value: ['TP53']\n",
      "    Key: gene_synonym, Value: ['BCC7; BMFS5; LFS1; P53; TRP53']\n",
      "    Key: note, Value: ['delta40p53alpha; Region: alternative start codon']\n",
      "\n",
      "type: misc_feature\n",
      "location: [337:340](+)\n",
      "qualifiers:\n",
      "    Key: experiment, Value: ['experimental evidence, no additional details recorded']\n",
      "    Key: gene, Value: ['TP53']\n",
      "    Key: gene_synonym, Value: ['BCC7; BMFS5; LFS1; P53; TRP53']\n",
      "    Key: note, Value: ['Phosphoserine, by CDK5, DYRK2, HIPK2 and PKC/PRKCG. {ECO:0000269|PubMed:11740489, ECO:0000269|PubMed:11780126, ECO:0000269|PubMed:16377624, ECO:0000269|PubMed:17349958, ECO:0000269|PubMed:17591690}; propagated from UniProtKB/Swiss-Prot (P04637.4); phosphorylation site']\n",
      "\n",
      "type: misc_feature\n",
      "location: [343:370](+)\n",
      "qualifiers:\n",
      "    Key: experiment, Value: ['experimental evidence, no additional details recorded']\n",
      "    Key: gene, Value: ['TP53']\n",
      "    Key: gene_synonym, Value: ['BCC7; BMFS5; LFS1; P53; TRP53']\n",
      "    Key: note, Value: ['propagated from UniProtKB/Swiss-Prot (P04637.4); Region: TADII']\n",
      "\n",
      "type: misc_feature\n",
      "location: [364:367](+)\n",
      "qualifiers:\n",
      "    Key: experiment, Value: ['experimental evidence, no additional details recorded']\n",
      "    Key: gene, Value: ['TP53']\n",
      "    Key: gene_synonym, Value: ['BCC7; BMFS5; LFS1; P53; TRP53']\n",
      "    Key: note, Value: ['Phosphothreonine, by TAF1 and GRK5. {ECO:0000269|PubMed:15053879, ECO:0000269|PubMed:20124405}; propagated from UniProtKB/Swiss-Prot (P04637.4); phosphorylation site']\n",
      "\n",
      "type: misc_feature\n",
      "location: [397:532](+)\n",
      "qualifiers:\n",
      "    Key: experiment, Value: ['experimental evidence, no additional details recorded']\n",
      "    Key: gene, Value: ['TP53']\n",
      "    Key: gene_synonym, Value: ['BCC7; BMFS5; LFS1; P53; TRP53']\n",
      "    Key: note, Value: ['propagated from UniProtKB/Swiss-Prot (P04637.4); Region: Interaction with WWOX']\n",
      "\n",
      "type: misc_feature\n",
      "location: [499:1312](+)\n",
      "qualifiers:\n",
      "    Key: experiment, Value: ['experimental evidence, no additional details recorded']\n",
      "    Key: gene, Value: ['TP53']\n",
      "    Key: gene_synonym, Value: ['BCC7; BMFS5; LFS1; P53; TRP53']\n",
      "    Key: note, Value: ['propagated from UniProtKB/Swiss-Prot (P04637.4); Region: Interaction with HIPK1. {ECO:0000250}']\n",
      "\n",
      "type: misc_feature\n",
      "location: [499:1102](+)\n",
      "qualifiers:\n",
      "    Key: experiment, Value: ['experimental evidence, no additional details recorded']\n",
      "    Key: gene, Value: ['TP53']\n",
      "    Key: gene_synonym, Value: ['BCC7; BMFS5; LFS1; P53; TRP53']\n",
      "    Key: note, Value: ['propagated from UniProtKB/Swiss-Prot (P04637.4); Region: Required for interaction with ZNF385A. {ECO:0000269|PubMed:17719541}']\n",
      "\n",
      "type: misc_feature\n",
      "location: [538:910](+)\n",
      "qualifiers:\n",
      "    Key: experiment, Value: ['experimental evidence, no additional details recorded']\n",
      "    Key: gene, Value: ['TP53']\n",
      "    Key: gene_synonym, Value: ['BCC7; BMFS5; LFS1; P53; TRP53']\n",
      "    Key: note, Value: ['propagated from UniProtKB/Swiss-Prot (P04637.4); Region: Required for interaction with FBXO42. {ECO:0000269|PubMed:19509332}']\n",
      "\n",
      "type: misc_feature\n",
      "location: [547:1078](+)\n",
      "qualifiers:\n",
      "    Key: experiment, Value: ['experimental evidence, no additional details recorded']\n",
      "    Key: gene, Value: ['TP53']\n",
      "    Key: gene_synonym, Value: ['BCC7; BMFS5; LFS1; P53; TRP53']\n",
      "    Key: note, Value: ['propagated from UniProtKB/Swiss-Prot (P04637.4); Region: Interaction with AXIN1. {ECO:0000250}']\n",
      "\n",
      "type: misc_feature\n",
      "location: [559:562](+)\n",
      "qualifiers:\n",
      "    Key: experiment, Value: ['experimental evidence, no additional details recorded']\n",
      "    Key: gene, Value: ['TP53']\n",
      "    Key: gene_synonym, Value: ['BCC7; BMFS5; LFS1; P53; TRP53']\n",
      "    Key: note, Value: ['Interaction with DNA; propagated from UniProtKB/Swiss-Prot (P04637.4); other site']\n",
      "\n",
      "type: misc_feature\n",
      "location: [559:562](+)\n",
      "qualifiers:\n",
      "    Key: experiment, Value: ['experimental evidence, no additional details recorded']\n",
      "    Key: gene, Value: ['TP53']\n",
      "    Key: gene_synonym, Value: ['BCC7; BMFS5; LFS1; P53; TRP53']\n",
      "    Key: note, Value: ['N6-acetyllysine, by KAT6A. {ECO:0000269|PubMed:23431171}; propagated from UniProtKB/Swiss-Prot (P04637.4); acetylation site']\n",
      "\n",
      "type: misc_feature\n",
      "location: [748:751](+)\n",
      "qualifiers:\n",
      "    Key: experiment, Value: ['experimental evidence, no additional details recorded']\n",
      "    Key: gene, Value: ['TP53']\n",
      "    Key: gene_synonym, Value: ['BCC7; BMFS5; LFS1; P53; TRP53']\n",
      "    Key: note, Value: ['Phosphoserine, by AURKB. {ECO:0000269|PubMed:20959462}; propagated from UniProtKB/Swiss-Prot (P04637.4); phosphorylation site']\n",
      "\n",
      "type: misc_feature\n",
      "location: [922:946](+)\n",
      "qualifiers:\n",
      "    Key: experiment, Value: ['experimental evidence, no additional details recorded']\n",
      "    Key: gene, Value: ['TP53']\n",
      "    Key: gene_synonym, Value: ['BCC7; BMFS5; LFS1; P53; TRP53']\n",
      "    Key: note, Value: ['propagated from UniProtKB/Swiss-Prot (P04637.4); Region: Interaction with the 53BP2 SH3 domain']\n",
      "\n",
      "type: misc_feature\n",
      "location: [967:1084](+)\n",
      "qualifiers:\n",
      "    Key: experiment, Value: ['experimental evidence, no additional details recorded']\n",
      "    Key: gene, Value: ['TP53']\n",
      "    Key: gene_synonym, Value: ['BCC7; BMFS5; LFS1; P53; TRP53']\n",
      "    Key: note, Value: ['propagated from UniProtKB/Swiss-Prot (P04637.4); Region: Interaction with E4F1. {ECO:0000269|PubMed:10644996}']\n",
      "\n",
      "type: misc_feature\n",
      "location: [1006:1009](+)\n",
      "qualifiers:\n",
      "    Key: experiment, Value: ['experimental evidence, no additional details recorded']\n",
      "    Key: gene, Value: ['TP53']\n",
      "    Key: gene_synonym, Value: ['BCC7; BMFS5; LFS1; P53; TRP53']\n",
      "    Key: note, Value: ['Phosphoserine, by AURKB. {ECO:0000269|PubMed:20959462}; propagated from UniProtKB/Swiss-Prot (P04637.4); phosphorylation site']\n",
      "\n",
      "type: misc_feature\n",
      "location: [1018:1042](+)\n",
      "qualifiers:\n",
      "    Key: experiment, Value: ['experimental evidence, no additional details recorded']\n",
      "    Key: gene, Value: ['TP53']\n",
      "    Key: gene_synonym, Value: ['BCC7; BMFS5; LFS1; P53; TRP53']\n",
      "    Key: note, Value: ['propagated from UniProtKB/Swiss-Prot (P04637.4); Region: Interaction with DNA']\n",
      "\n",
      "type: misc_feature\n",
      "location: [1051:1054](+)\n",
      "qualifiers:\n",
      "    Key: experiment, Value: ['experimental evidence, no additional details recorded']\n",
      "    Key: gene, Value: ['TP53']\n",
      "    Key: gene_synonym, Value: ['BCC7; BMFS5; LFS1; P53; TRP53']\n",
      "    Key: note, Value: ['Phosphothreonine, by AURKB. {ECO:0000269|PubMed:20959462}; propagated from UniProtKB/Swiss-Prot (P04637.4); phosphorylation site']\n",
      "\n",
      "type: misc_feature\n",
      "location: [1099:1381](+)\n",
      "qualifiers:\n",
      "    Key: experiment, Value: ['experimental evidence, no additional details recorded']\n",
      "    Key: gene, Value: ['TP53']\n",
      "    Key: gene_synonym, Value: ['BCC7; BMFS5; LFS1; P53; TRP53']\n",
      "    Key: note, Value: ['propagated from UniProtKB/Swiss-Prot (P04637.4); Region: Interaction with CARM1. {ECO:0000269|PubMed:15186775}']\n",
      "\n",
      "type: misc_feature\n",
      "location: [1114:1165](+)\n",
      "qualifiers:\n",
      "    Key: experiment, Value: ['experimental evidence, no additional details recorded']\n",
      "    Key: gene, Value: ['TP53']\n",
      "    Key: gene_synonym, Value: ['BCC7; BMFS5; LFS1; P53; TRP53']\n",
      "    Key: note, Value: ['propagated from UniProtKB/Swiss-Prot (P04637.4); Region: Bipartite nuclear localization signal']\n",
      "\n",
      "type: misc_feature\n",
      "location: [1114:1117](+)\n",
      "qualifiers:\n",
      "    Key: experiment, Value: ['experimental evidence, no additional details recorded']\n",
      "    Key: gene, Value: ['TP53']\n",
      "    Key: gene_synonym, Value: ['BCC7; BMFS5; LFS1; P53; TRP53']\n",
      "    Key: note, Value: ['N6-acetyllysine. {ECO:0000269|PubMed:12724314}; propagated from UniProtKB/Swiss-Prot (P04637.4); acetylation site']\n",
      "\n",
      "type: misc_feature\n",
      "location: [1144:1147](+)\n",
      "qualifiers:\n",
      "    Key: experiment, Value: ['experimental evidence, no additional details recorded']\n",
      "    Key: gene, Value: ['TP53']\n",
      "    Key: gene_synonym, Value: ['BCC7; BMFS5; LFS1; P53; TRP53']\n",
      "    Key: note, Value: ['Phosphoserine, by AURKA, CDK1 and CDK2. {ECO:0000269|PubMed:10884347, ECO:0000269|PubMed:14702041}; propagated from UniProtKB/Swiss-Prot (P04637.4); phosphorylation site']\n",
      "\n",
      "type: misc_feature\n",
      "location: [1156:1282](+)\n",
      "qualifiers:\n",
      "    Key: experiment, Value: ['experimental evidence, no additional details recorded']\n",
      "    Key: gene, Value: ['TP53']\n",
      "    Key: gene_synonym, Value: ['BCC7; BMFS5; LFS1; P53; TRP53']\n",
      "    Key: note, Value: ['propagated from UniProtKB/Swiss-Prot (P04637.4); Region: Interaction with HIPK2']\n",
      "\n",
      "type: misc_feature\n",
      "location: [1162:1165](+)\n",
      "qualifiers:\n",
      "    Key: experiment, Value: ['experimental evidence, no additional details recorded']\n",
      "    Key: gene, Value: ['TP53']\n",
      "    Key: gene_synonym, Value: ['BCC7; BMFS5; LFS1; P53; TRP53']\n",
      "    Key: note, Value: ['N6-acetyllysine. {ECO:0000250|UniProtKB:P02340}; propagated from UniProtKB/Swiss-Prot (P04637.4); acetylation site']\n",
      "\n",
      "type: misc_feature\n",
      "location: [1174:1270](+)\n",
      "qualifiers:\n",
      "    Key: experiment, Value: ['experimental evidence, no additional details recorded']\n",
      "    Key: gene, Value: ['TP53']\n",
      "    Key: gene_synonym, Value: ['BCC7; BMFS5; LFS1; P53; TRP53']\n",
      "    Key: note, Value: ['propagated from UniProtKB/Swiss-Prot (P04637.4); Region: Oligomerization']\n",
      "\n",
      "type: misc_feature\n",
      "location: [1216:1252](+)\n",
      "qualifiers:\n",
      "    Key: experiment, Value: ['experimental evidence, no additional details recorded']\n",
      "    Key: gene, Value: ['TP53']\n",
      "    Key: gene_synonym, Value: ['BCC7; BMFS5; LFS1; P53; TRP53']\n",
      "    Key: note, Value: ['propagated from UniProtKB/Swiss-Prot (P04637.4); Region: Nuclear export signal']\n",
      "\n",
      "type: misc_feature\n",
      "location: [1276:1291](+)\n",
      "qualifiers:\n",
      "    Key: experiment, Value: ['experimental evidence, no additional details recorded']\n",
      "    Key: gene, Value: ['TP53']\n",
      "    Key: gene_synonym, Value: ['BCC7; BMFS5; LFS1; P53; TRP53']\n",
      "    Key: note, Value: ['propagated from UniProtKB/Swiss-Prot (P04637.4); Region: Interaction with USP7']\n",
      "\n",
      "type: misc_feature\n",
      "location: [1303:1363](+)\n",
      "qualifiers:\n",
      "    Key: experiment, Value: ['experimental evidence, no additional details recorded']\n",
      "    Key: gene, Value: ['TP53']\n",
      "    Key: gene_synonym, Value: ['BCC7; BMFS5; LFS1; P53; TRP53']\n",
      "    Key: note, Value: ['propagated from UniProtKB/Swiss-Prot (P04637.4); Region: Basic (repression of DNA-binding)']\n",
      "\n",
      "type: misc_feature\n",
      "location: [1309:1318](+)\n",
      "qualifiers:\n",
      "    Key: experiment, Value: ['experimental evidence, no additional details recorded']\n",
      "    Key: gene, Value: ['TP53']\n",
      "    Key: gene_synonym, Value: ['BCC7; BMFS5; LFS1; P53; TRP53']\n",
      "    Key: note, Value: ['propagated from UniProtKB/Swiss-Prot (P04637.4); Region: [KR]-[STA]-K motif']\n",
      "\n",
      "type: misc_feature\n",
      "location: [1309:1312](+)\n",
      "qualifiers:\n",
      "    Key: experiment, Value: ['experimental evidence, no additional details recorded']\n",
      "    Key: gene, Value: ['TP53']\n",
      "    Key: gene_synonym, Value: ['BCC7; BMFS5; LFS1; P53; TRP53']\n",
      "    Key: note, Value: ['N6,N6-dimethyllysine, alternate. {ECO:0000269|PubMed:17108971, ECO:0000269|PubMed:22864287}; N6-methyllysine, by SMYD2, alternate. {ECO:0000269|PubMed:17108971, ECO:0000269|PubMed:22864287}; propagated from UniProtKB/Swiss-Prot (P04637.4); methylation site']\n",
      "\n",
      "type: misc_feature\n",
      "location: [1315:1318](+)\n",
      "qualifiers:\n",
      "    Key: experiment, Value: ['experimental evidence, no additional details recorded']\n",
      "    Key: gene, Value: ['TP53']\n",
      "    Key: gene_synonym, Value: ['BCC7; BMFS5; LFS1; P53; TRP53']\n",
      "    Key: note, Value: ['N6-methyllysine, by SETD7. {ECO:0000269|PubMed:15525938, ECO:0000269|PubMed:16415881}; propagated from UniProtKB/Swiss-Prot (P04637.4); methylation site']\n",
      "\n",
      "type: misc_feature\n",
      "location: [1318:1321](+)\n",
      "qualifiers:\n",
      "    Key: experiment, Value: ['experimental evidence, no additional details recorded']\n",
      "    Key: gene, Value: ['TP53']\n",
      "    Key: gene_synonym, Value: ['BCC7; BMFS5; LFS1; P53; TRP53']\n",
      "    Key: note, Value: ['N6,N6-dimethyllysine, by EHMT1 and EHMT2, alternate. {ECO:0000269|PubMed:20118233}; propagated from UniProtKB/Swiss-Prot (P04637.4); methylation site']\n",
      "\n",
      "type: misc_feature\n",
      "location: [1318:1321](+)\n",
      "qualifiers:\n",
      "    Key: experiment, Value: ['experimental evidence, no additional details recorded']\n",
      "    Key: gene, Value: ['TP53']\n",
      "    Key: gene_synonym, Value: ['BCC7; BMFS5; LFS1; P53; TRP53']\n",
      "    Key: note, Value: ['N6-acetyllysine, alternate. {ECO:0000269|PubMed:10656795}; propagated from UniProtKB/Swiss-Prot (P04637.4); acetylation site']\n",
      "\n",
      "type: misc_feature\n",
      "location: [1342:1345](+)\n",
      "qualifiers:\n",
      "    Key: experiment, Value: ['experimental evidence, no additional details recorded']\n",
      "    Key: gene, Value: ['TP53']\n",
      "    Key: gene_synonym, Value: ['BCC7; BMFS5; LFS1; P53; TRP53']\n",
      "    Key: note, Value: ['N6-acetyllysine. {ECO:0000244|PubMed:19608861}; propagated from UniProtKB/Swiss-Prot (P04637.4); acetylation site']\n",
      "\n",
      "type: misc_feature\n",
      "location: [1345:1348](+)\n",
      "qualifiers:\n",
      "    Key: experiment, Value: ['experimental evidence, no additional details recorded']\n",
      "    Key: gene, Value: ['TP53']\n",
      "    Key: gene_synonym, Value: ['BCC7; BMFS5; LFS1; P53; TRP53']\n",
      "    Key: note, Value: ['N6,N6-dimethyllysine, alternate. {ECO:0000269|PubMed:17707234, ECO:0000269|PubMed:20870725, ECO:0000269|PubMed:22864287}; N6-methyllysine, by KMT5A, alternate. {ECO:0000269|PubMed:17707234, ECO:0000269|PubMed:20870725, ECO:0000269|PubMed:22864287}; propagated from UniProtKB/Swiss-Prot (P04637.4); methylation site']\n",
      "\n",
      "type: misc_feature\n",
      "location: [1345:1348](+)\n",
      "qualifiers:\n",
      "    Key: experiment, Value: ['experimental evidence, no additional details recorded']\n",
      "    Key: gene, Value: ['TP53']\n",
      "    Key: gene_synonym, Value: ['BCC7; BMFS5; LFS1; P53; TRP53']\n",
      "    Key: note, Value: ['N6-acetyllysine, by KAT6A, alternate. {ECO:0000244|PubMed:19608861, ECO:0000269|PubMed:10656795, ECO:0000269|PubMed:20228809, ECO:0000269|PubMed:23431171}; propagated from UniProtKB/Swiss-Prot (P04637.4); acetylation site']\n",
      "\n",
      "type: misc_feature\n",
      "location: [1375:1378](+)\n",
      "qualifiers:\n",
      "    Key: experiment, Value: ['experimental evidence, no additional details recorded']\n",
      "    Key: gene, Value: ['TP53']\n",
      "    Key: gene_synonym, Value: ['BCC7; BMFS5; LFS1; P53; TRP53']\n",
      "    Key: note, Value: ['Phosphoserine, by CK2, CDK2 and NUAK1. {ECO:0000269|PubMed:10884347, ECO:0000269|PubMed:11239457, ECO:0000269|PubMed:17108107, ECO:0000269|PubMed:21317932, ECO:0000269|PubMed:22214662}; propagated from UniProtKB/Swiss-Prot (P04637.4); phosphorylation site']\n",
      "\n",
      "type: exon\n",
      "location: [276:298](+)\n",
      "qualifiers:\n",
      "    Key: gene, Value: ['TP53']\n",
      "    Key: gene_synonym, Value: ['BCC7; BMFS5; LFS1; P53; TRP53']\n",
      "    Key: inference, Value: ['alignment:Splign:2.1.0']\n",
      "\n",
      "type: exon\n",
      "location: [298:577](+)\n",
      "qualifiers:\n",
      "    Key: gene, Value: ['TP53']\n",
      "    Key: gene_synonym, Value: ['BCC7; BMFS5; LFS1; P53; TRP53']\n",
      "    Key: inference, Value: ['alignment:Splign:2.1.0']\n",
      "\n",
      "type: STS\n",
      "location: [304:503](+)\n",
      "qualifiers:\n",
      "    Key: db_xref, Value: ['UniSTS:154969']\n",
      "    Key: gene, Value: ['TP53']\n",
      "    Key: gene_synonym, Value: ['BCC7; BMFS5; LFS1; P53; TRP53']\n",
      "    Key: standard_name, Value: ['GDB:177814']\n",
      "\n",
      "type: STS\n",
      "location: [318:577](+)\n",
      "qualifiers:\n",
      "    Key: db_xref, Value: ['UniSTS:154963']\n",
      "    Key: gene, Value: ['TP53']\n",
      "    Key: gene_synonym, Value: ['BCC7; BMFS5; LFS1; P53; TRP53']\n",
      "    Key: standard_name, Value: ['GDB:177797']\n",
      "\n",
      "type: exon\n",
      "location: [577:761](+)\n",
      "qualifiers:\n",
      "    Key: gene, Value: ['TP53']\n",
      "    Key: gene_synonym, Value: ['BCC7; BMFS5; LFS1; P53; TRP53']\n",
      "    Key: inference, Value: ['alignment:Splign:2.1.0']\n",
      "\n",
      "type: STS\n",
      "location: [679:754](+)\n",
      "qualifiers:\n",
      "    Key: db_xref, Value: ['UniSTS:273171']\n",
      "    Key: gene, Value: ['TP53']\n",
      "    Key: gene_synonym, Value: ['BCC7; BMFS5; LFS1; P53; TRP53']\n",
      "    Key: standard_name, Value: ['PMC340938P3']\n",
      "\n",
      "type: exon\n",
      "location: [761:874](+)\n",
      "qualifiers:\n",
      "    Key: gene, Value: ['TP53']\n",
      "    Key: gene_synonym, Value: ['BCC7; BMFS5; LFS1; P53; TRP53']\n",
      "    Key: inference, Value: ['alignment:Splign:2.1.0']\n",
      "\n",
      "type: exon\n",
      "location: [874:984](+)\n",
      "qualifiers:\n",
      "    Key: gene, Value: ['TP53']\n",
      "    Key: gene_synonym, Value: ['BCC7; BMFS5; LFS1; P53; TRP53']\n",
      "    Key: inference, Value: ['alignment:Splign:2.1.0']\n",
      "\n",
      "type: STS\n",
      "location: [954:1153](+)\n",
      "qualifiers:\n",
      "    Key: db_xref, Value: ['UniSTS:272633']\n",
      "    Key: gene, Value: ['TP53']\n",
      "    Key: gene_synonym, Value: ['BCC7; BMFS5; LFS1; P53; TRP53']\n",
      "    Key: standard_name, Value: ['PMC310707P2']\n",
      "\n",
      "type: STS\n",
      "location: [958:1033](+)\n",
      "qualifiers:\n",
      "    Key: db_xref, Value: ['UniSTS:155620']\n",
      "    Key: gene, Value: ['TP53']\n",
      "    Key: gene_synonym, Value: ['BCC7; BMFS5; LFS1; P53; TRP53']\n",
      "    Key: standard_name, Value: ['GDB:190076']\n",
      "\n",
      "type: exon\n",
      "location: [984:1121](+)\n",
      "qualifiers:\n",
      "    Key: gene, Value: ['TP53']\n",
      "    Key: gene_synonym, Value: ['BCC7; BMFS5; LFS1; P53; TRP53']\n",
      "    Key: inference, Value: ['alignment:Splign:2.1.0']\n",
      "\n",
      "type: exon\n",
      "location: [1121:1195](+)\n",
      "qualifiers:\n",
      "    Key: gene, Value: ['TP53']\n",
      "    Key: gene_synonym, Value: ['BCC7; BMFS5; LFS1; P53; TRP53']\n",
      "    Key: inference, Value: ['alignment:Splign:2.1.0']\n",
      "\n",
      "type: exon\n",
      "location: [1195:1302](+)\n",
      "qualifiers:\n",
      "    Key: gene, Value: ['TP53']\n",
      "    Key: gene_synonym, Value: ['BCC7; BMFS5; LFS1; P53; TRP53']\n",
      "    Key: inference, Value: ['alignment:Splign:2.1.0']\n",
      "\n",
      "type: exon\n",
      "location: [1302:2591](+)\n",
      "qualifiers:\n",
      "    Key: gene, Value: ['TP53']\n",
      "    Key: gene_synonym, Value: ['BCC7; BMFS5; LFS1; P53; TRP53']\n",
      "    Key: inference, Value: ['alignment:Splign:2.1.0']\n",
      "\n",
      "type: STS\n",
      "location: [1453:1570](+)\n",
      "qualifiers:\n",
      "    Key: db_xref, Value: ['UniSTS:82485']\n",
      "    Key: gene, Value: ['TP53']\n",
      "    Key: gene_synonym, Value: ['BCC7; BMFS5; LFS1; P53; TRP53']\n",
      "    Key: standard_name, Value: ['D17S1678']\n",
      "\n",
      "type: STS\n",
      "location: [1910:2057](+)\n",
      "qualifiers:\n",
      "    Key: db_xref, Value: ['UniSTS:151711']\n",
      "    Key: gene, Value: ['TP53']\n",
      "    Key: gene_synonym, Value: ['BCC7; BMFS5; LFS1; P53; TRP53']\n",
      "    Key: standard_name, Value: ['D17S1506E']\n",
      "\n",
      "type: STS\n",
      "location: [2445:2522](+)\n",
      "qualifiers:\n",
      "    Key: db_xref, Value: ['UniSTS:59997']\n",
      "    Key: gene, Value: ['TP53']\n",
      "    Key: gene_synonym, Value: ['BCC7; BMFS5; LFS1; P53; TRP53']\n",
      "    Key: standard_name, Value: ['WI-20715']\n",
      "\n",
      "type: regulatory\n",
      "location: [2554:2560](+)\n",
      "qualifiers:\n",
      "    Key: gene, Value: ['TP53']\n",
      "    Key: gene_synonym, Value: ['BCC7; BMFS5; LFS1; P53; TRP53']\n",
      "    Key: regulatory_class, Value: ['polyA_signal_sequence']\n",
      "\n",
      "type: polyA_site\n",
      "location: [2571:2572](+)\n",
      "qualifiers:\n",
      "    Key: gene, Value: ['TP53']\n",
      "    Key: gene_synonym, Value: ['BCC7; BMFS5; LFS1; P53; TRP53']\n",
      "    Key: note, Value: [\"The 3' most polyA site has not been determined.\"]\n",
      "\n"
     ]
    }
   ],
   "source": [
    "for feature in secuencia.features:\n",
    "    print(feature)"
   ]
  },
  {
   "cell_type": "code",
   "execution_count": 13,
   "metadata": {},
   "outputs": [
    {
     "data": {
      "text/plain": [
       "'misc_feature'"
      ]
     },
     "execution_count": 13,
     "metadata": {},
     "output_type": "execute_result"
    }
   ],
   "source": [
    "secuencia.features[7].type"
   ]
  },
  {
   "cell_type": "code",
   "execution_count": 107,
   "metadata": {},
   "outputs": [],
   "source": [
    "ep = [feature for feature in secuencia.features if feature.type == 'exon']"
   ]
  },
  {
   "cell_type": "code",
   "execution_count": 18,
   "metadata": {},
   "outputs": [
    {
     "data": {
      "text/plain": [
       "[SeqFeature(FeatureLocation(ExactPosition(0), ExactPosition(174), strand=1), type='exon'),\n",
       " SeqFeature(FeatureLocation(ExactPosition(174), ExactPosition(276), strand=1), type='exon'),\n",
       " SeqFeature(FeatureLocation(ExactPosition(276), ExactPosition(298), strand=1), type='exon'),\n",
       " SeqFeature(FeatureLocation(ExactPosition(298), ExactPosition(577), strand=1), type='exon'),\n",
       " SeqFeature(FeatureLocation(ExactPosition(577), ExactPosition(761), strand=1), type='exon'),\n",
       " SeqFeature(FeatureLocation(ExactPosition(761), ExactPosition(874), strand=1), type='exon'),\n",
       " SeqFeature(FeatureLocation(ExactPosition(874), ExactPosition(984), strand=1), type='exon'),\n",
       " SeqFeature(FeatureLocation(ExactPosition(984), ExactPosition(1121), strand=1), type='exon'),\n",
       " SeqFeature(FeatureLocation(ExactPosition(1121), ExactPosition(1195), strand=1), type='exon'),\n",
       " SeqFeature(FeatureLocation(ExactPosition(1195), ExactPosition(1302), strand=1), type='exon'),\n",
       " SeqFeature(FeatureLocation(ExactPosition(1302), ExactPosition(2591), strand=1), type='exon')]"
      ]
     },
     "execution_count": 18,
     "metadata": {},
     "output_type": "execute_result"
    }
   ],
   "source": [
    "ep"
   ]
  },
  {
   "cell_type": "code",
   "execution_count": 21,
   "metadata": {},
   "outputs": [
    {
     "ename": "AttributeError",
     "evalue": "'SeqFeature' object has no attribute 'FeatureLocation'",
     "output_type": "error",
     "traceback": [
      "\u001b[0;31m---------------------------------------------------------------------------\u001b[0m",
      "\u001b[0;31mAttributeError\u001b[0m                            Traceback (most recent call last)",
      "\u001b[0;32m<ipython-input-21-8b316d2ff356>\u001b[0m in \u001b[0;36m<module>\u001b[0;34m\u001b[0m\n\u001b[0;32m----> 1\u001b[0;31m \u001b[0mep\u001b[0m\u001b[0;34m[\u001b[0m\u001b[0;36m0\u001b[0m\u001b[0;34m]\u001b[0m\u001b[0;34m.\u001b[0m\u001b[0mFeatureLocation\u001b[0m\u001b[0;34m\u001b[0m\u001b[0;34m\u001b[0m\u001b[0m\n\u001b[0m",
      "\u001b[0;31mAttributeError\u001b[0m: 'SeqFeature' object has no attribute 'FeatureLocation'"
     ]
    }
   ],
   "source": [
    "ep[0]."
   ]
  },
  {
   "cell_type": "code",
   "execution_count": 23,
   "metadata": {},
   "outputs": [],
   "source": [
    "with open('/home/fernando/Descargas/sequence(2).gb', 'r') as handle:\n",
    "    secuencia2 = SeqIO.read(handle, 'gb')"
   ]
  },
  {
   "cell_type": "code",
   "execution_count": 25,
   "metadata": {},
   "outputs": [
    {
     "data": {
      "text/plain": [
       "116"
      ]
     },
     "execution_count": 25,
     "metadata": {},
     "output_type": "execute_result"
    }
   ],
   "source": [
    "len(secuencia2.features\n",
    ")"
   ]
  },
  {
   "cell_type": "code",
   "execution_count": 42,
   "metadata": {},
   "outputs": [
    {
     "data": {
      "text/plain": [
       "'CCCTGGCCT'"
      ]
     },
     "execution_count": 42,
     "metadata": {},
     "output_type": "execute_result"
    }
   ],
   "source": [
    "str(secuencia2.seq)[1: 10]"
   ]
  },
  {
   "cell_type": "code",
   "execution_count": 34,
   "metadata": {},
   "outputs": [
    {
     "data": {
      "text/plain": [
       "120"
      ]
     },
     "execution_count": 34,
     "metadata": {},
     "output_type": "execute_result"
    }
   ],
   "source": [
    "from Bio import Seq\n",
    "ep = [feature for feature in secuencia2.features if feature.type == 'exon']\n",
    "\n",
    "seq_exones = Seq.Seq('')\n",
    "\n",
    "for zona in ep:\n",
    "    exon = secuencia2.seq[zona.location.start:zona.location.end]\n",
    "    seq_exones = seq_exones + exon\n",
    "\n",
    "seq_exones.find('ATG')"
   ]
  },
  {
   "cell_type": "code",
   "execution_count": 37,
   "metadata": {},
   "outputs": [
    {
     "data": {
      "text/plain": [
       "Seq('MLGTGPAVATASAATSSNVSVLQQFASGLKSRNEETRAKAAKELQHYVTMELRE...KSI', HasStopCodon(ExtendedIUPACProtein(), '*'))"
      ]
     },
     "execution_count": 37,
     "metadata": {},
     "output_type": "execute_result"
    }
   ],
   "source": [
    "seq_exones[120:].translate()"
   ]
  },
  {
   "cell_type": "code",
   "execution_count": null,
   "metadata": {},
   "outputs": [],
   "source": [
    "secuencia2.features."
   ]
  },
  {
   "cell_type": "code",
   "execution_count": null,
   "metadata": {},
   "outputs": [],
   "source": []
  },
  {
   "cell_type": "code",
   "execution_count": 82,
   "metadata": {},
   "outputs": [],
   "source": [
    "seq = secuencia"
   ]
  },
  {
   "cell_type": "code",
   "execution_count": 45,
   "metadata": {},
   "outputs": [
    {
     "data": {
      "text/plain": [
       "116"
      ]
     },
     "execution_count": 45,
     "metadata": {},
     "output_type": "execute_result"
    }
   ],
   "source": [
    "len(seq.features)"
   ]
  },
  {
   "cell_type": "code",
   "execution_count": 83,
   "metadata": {},
   "outputs": [
    {
     "name": "stdout",
     "output_type": "stream",
     "text": [
      "type: CDS\n",
      "location: [202:1384](+)\n",
      "qualifiers:\n",
      "    Key: codon_start, Value: ['1']\n",
      "    Key: db_xref, Value: ['CCDS:CCDS11118.1', 'GeneID:7157', 'HGNC:HGNC:11998', 'MIM:191170']\n",
      "    Key: gene, Value: ['TP53']\n",
      "    Key: gene_synonym, Value: ['BCC7; BMFS5; LFS1; P53; TRP53']\n",
      "    Key: note, Value: ['isoform a is encoded by transcript variant 1; tumor protein 53; mutant tumor protein 53; cellular tumor antigen p53; phosphoprotein p53; transformation-related protein 53; p53 tumor suppressor; antigen NY-CO-13; tumor supressor p53']\n",
      "    Key: product, Value: ['cellular tumor antigen p53 isoform a']\n",
      "    Key: protein_id, Value: ['NP_000537.3']\n",
      "    Key: translation, Value: ['MEEPQSDPSVEPPLSQETFSDLWKLLPENNVLSPLPSQAMDDLMLSPDDIEQWFTEDPGPDEAPRMPEAAPPVAPAPAAPTPAAPAPAPSWPLSSSVPSQKTYQGSYGFRLGFLHSGTAKSVTCTYSPALNKMFCQLAKTCPVQLWVDSTPPPGTRVRAMAIYKQSQHMTEVVRRCPHHERCSDSDGLAPPQHLIRVEGNLRVEYLDDRNTFRHSVVVPYEPPEVGSDCTTIHYNYMCNSSCMGGMNRRPILTIITLEDSSGNLLGRNSFEVRVCACPGRDRRTEEENLRKKGEPHHELPPGSTKRALPNNTSSSPQPKKKPLDGEYFTLQIRGRERFEMFRELNEALELKDAQAGKEPGGSRAHSSHLKSKKGQSTSRHKKLMFKTEGPDSD']\n",
      "\n"
     ]
    }
   ],
   "source": [
    "for i in seq.features:\n",
    "    if i.type == 'CDS':\n",
    "        print(i)"
   ]
  },
  {
   "cell_type": "code",
   "execution_count": 62,
   "metadata": {},
   "outputs": [],
   "source": [
    "seq = seq[120:7770]"
   ]
  },
  {
   "cell_type": "code",
   "execution_count": 73,
   "metadata": {
    "scrolled": true
   },
   "outputs": [
    {
     "data": {
      "text/plain": [
       "'MLGTGPAVATASAATSSNVSVLQQFASGLKSRNEETRAKAAKELQHYVTMELREMSQEESTRFYDQLNHHIFELVSSSDANERKGGILAIASLIGVEGGNSTRIGRFANYLRNLLPSSDPVVMEMASKAIGRLAMAGDTFTAEYVEFEVKRALEWLGADRNEGRRHAAVLVLRELAISVPTFFFQQVQPFFDNIFVAVWDPKQAIREGAVAALRACLILTTQREPKEMQKPQWYRHTFEEAEKGFDETLAKEKGMNRDDRIHGALLILNELVRISSMEGERLREEMEEITQQQLVHDKYCKDLMGFGTKPRHITPFTSFQAVQPQQPNALVGLLGYSSPQGLMGFGTSPSPAKSTLVESRCCRDLMEEKFDQVCQWVLKCRSSKNSLIQMTILNLLPRLAAFRPSAFTDTQYLQDTMNHVLSCVKKEKERTAAFQALGLLSVAVRSEFKVYLPRVLDIIRAALPPKDFAHKRQKTVQVDATVFTCISMLARAMGPGIQQDIKELLEPMLAVGLSPALTAVLYDLSRQIPQLKKDIQDGLLKMLSLVLMHKPLRHPGMPKGLAHQLASPGLTTLPEASDVASITLALRTLGSFEFEGHSLTQFVRHCADHFLNSEHKEIRMEAARTCSRLLTPSIHLISGHAHVVSQTAVQVVADVLSKLLVVGITDPDPDIRYCVLASLDERFDAHLAQAENLQALFVALNDQVFEIRELAICTVGRLSSMNPAFVMPFLRKMLIQILTELEHSGIGRIKEQSARMLGHLVSNAPRLIRPYMEPILKALILKLKDPDPDPNPGVINNVLATIGELAQVSGLEMRKWVDELFIIIMDMLQDSSLLAKRQVALWTLGQLVASTGYVVEPYRKYPTLLEVLLNFLKTEQNQGTRREAIRVLGLLGALDPYKHKVNIGMIDQSRDASAVSLSESKSSQDSSDYSTSEMLVNMGNLPLDEFYPAVSMVALMRIFRDQSLSHHHTMVVQAITFIFKSLGLKCVQFLPQVMPTFLNVIRVCDGAIREFLFQQLGMLVSFVKSHIRPYMDEIVTLMREFWVMNTSIQSTIILLIEQIVVALGGEFKLYLPQLIPHMLRVFMHDNSQGRIVSIKLLAAIQLFGANLDDYLHLLLPPIVKLFDAPEVPLPSRKAALETVDRLTESLDFTDYASRIIHPIVRTLDQSPELRSTAMDTLSSLVFQLGKKYQIFIPMVNKVLVRHRINHQRYDVLICRIVKGYTLADEEEDPLIYQHRMLRSSQGDALASGPVETGPMKKLHVSTINLQKAWGAARRVSKDDWLEWLRRLSLELLKDSSSPSLRSCWALAQAYNPMARDLFNAAFVSCWSELNEDQQDELIRSIELALTSQDIAEVTQTLLNLAEFMEHSDKGPLPLRDDNGIVLLGERAAKCRAYAKALHYKELEFQKGPTPAILESLISINNKLQQPEAASGVLEYAMKHFGELEIQATWYEKLHEWEDALVAYDKKMDTNKEDPELMLGRMRCLEALGEWGQLHQQCCEKWTLVNDETQAKMARMAAAAAWGLGQWDSMEEYTCMIPRDTHDGAFYRAVLALHQDLFSLAQQCIDKARDLLDAELTAMAGESYSRAYGAMVSCHMLSELEEVIQYKLVPERREIIRQIWWERLQGCQRIVEDWQKILMVRSLVVSPHEDMRTWLKYASLCGKSGRLALAHKTLVLLLGVDPSRQLDHPLPTAHPQVTYAYMKNMWKSARKIDAFQHMQHFVQTMQQQAQHAIATEDQQHKQELHKLMARCFLKLGEWQLNLQGINESTIPKVLQYYSAATEHDRSWYKAWHAWAVMNFEAVLHYKHQNQARDEKKKLRHASGANITNATTAATTAASAAAATSTEGSNSESEAESNENSPTPSPLQKKVTEDLSKTLLLYTVPAVQGFFRSISLSRGNNLQDTLRVLTLWFDYGHWPDVNEALVEGVKAIQIDTWLQVIPQLIARIDTPRPLVGRLIHQLLTDIGRYHPQALIYPLTVASKSTTTARHNAANKILKNMCEHSNTLVQQAMMVSEELIRVAILWHEMWHEGLEEASRLYFGERNVKGMFEVLEPLHAMMERGPQTLKETSFNQAYGRDLMEAQEWCRKYMKSGNVKDLTQAWDLYYHVFRRISKQLPQLTSLELQYVSPKLLMCRDLELAVPGTYDPNQPIIRIQSIAPSLQVITSKQRPRKLTLMGSNGHEFVFLLKGHEDLRQDERVMQLFGLVNTLLANDPTSLRKNLSIQRYAVIPLSTNSGLIGWVPHCDTLHALIRDYREKKKILLNIEHRIMLRMAPDYDHLTLMQKVEVFEHAVNNTAGDDLAKLLWLKSPSSEVWFDRRTNYTRSLAVMSMVGYILGLGDRHPSNLMLDRLSGKILHIDFGDCFEVAMTREKFPEKIPFRLTRMLTNAMEVTGLDGNYRTTCHTVMEVLREHKDSVMAVLEAFVYDPLLNWRLMDTNTKGNKRSRTRTDSYSAGQSVEILDGVELGEPAHKKAGTTVPESIHSFIGDGLVKPEALNKKAIQIINRVRDKLTGRDFSHDDTLDVPTQVELLIKQATSHENLCQCYIGWCPFW*'"
      ]
     },
     "execution_count": 73,
     "metadata": {},
     "output_type": "execute_result"
    }
   ],
   "source": [
    "str(seq.seq.translate())"
   ]
  },
  {
   "cell_type": "code",
   "execution_count": 108,
   "metadata": {},
   "outputs": [],
   "source": [
    "posiciones_exones = [feature for feature in seq.features if feature.type == 'exon']"
   ]
  },
  {
   "cell_type": "code",
   "execution_count": 85,
   "metadata": {},
   "outputs": [
    {
     "data": {
      "text/plain": [
       "[SeqFeature(FeatureLocation(ExactPosition(0), ExactPosition(174), strand=1), type='exon'),\n",
       " SeqFeature(FeatureLocation(ExactPosition(174), ExactPosition(276), strand=1), type='exon'),\n",
       " SeqFeature(FeatureLocation(ExactPosition(276), ExactPosition(298), strand=1), type='exon'),\n",
       " SeqFeature(FeatureLocation(ExactPosition(298), ExactPosition(577), strand=1), type='exon'),\n",
       " SeqFeature(FeatureLocation(ExactPosition(577), ExactPosition(761), strand=1), type='exon'),\n",
       " SeqFeature(FeatureLocation(ExactPosition(761), ExactPosition(874), strand=1), type='exon'),\n",
       " SeqFeature(FeatureLocation(ExactPosition(874), ExactPosition(984), strand=1), type='exon'),\n",
       " SeqFeature(FeatureLocation(ExactPosition(984), ExactPosition(1121), strand=1), type='exon'),\n",
       " SeqFeature(FeatureLocation(ExactPosition(1121), ExactPosition(1195), strand=1), type='exon'),\n",
       " SeqFeature(FeatureLocation(ExactPosition(1195), ExactPosition(1302), strand=1), type='exon'),\n",
       " SeqFeature(FeatureLocation(ExactPosition(1302), ExactPosition(2591), strand=1), type='exon')]"
      ]
     },
     "execution_count": 85,
     "metadata": {},
     "output_type": "execute_result"
    }
   ],
   "source": [
    "posiciones_exones"
   ]
  },
  {
   "cell_type": "code",
   "execution_count": null,
   "metadata": {},
   "outputs": [],
   "source": []
  },
  {
   "cell_type": "code",
   "execution_count": null,
   "metadata": {},
   "outputs": [],
   "source": []
  },
  {
   "cell_type": "code",
   "execution_count": 109,
   "metadata": {},
   "outputs": [],
   "source": [
    "posiciones_exones = [feature for feature in secuencia.features if feature.type == 'exon']"
   ]
  },
  {
   "cell_type": "code",
   "execution_count": 110,
   "metadata": {},
   "outputs": [
    {
     "name": "stdout",
     "output_type": "stream",
     "text": [
      "1\t0\t174\n",
      "2\t174\t276\n",
      "3\t276\t298\n",
      "4\t298\t577\n",
      "5\t577\t761\n",
      "6\t761\t874\n",
      "7\t874\t984\n",
      "8\t984\t1121\n",
      "9\t1121\t1195\n",
      "10\t1195\t1328\n",
      "11\t1328\t1435\n",
      "12\t1435\t2724\n"
     ]
    }
   ],
   "source": [
    "for n, pos in enumerate(posiciones_exones):\n",
    "    print(n + 1, pos.location.start, pos.location.end, sep=\"\\t\")"
   ]
  },
  {
   "cell_type": "code",
   "execution_count": 113,
   "metadata": {},
   "outputs": [],
   "source": [
    "#\n",
    "exones = {}\n",
    "\n",
    "for n,pos in enumerate(posiciones_exones):\n",
    "    start = pos.location.start\n",
    "    stop = pos.location.end\n",
    "    exones[n + 1] = seq.seq[start:stop]\n",
    "\n",
    "\n",
    "\n"
   ]
  },
  {
   "cell_type": "code",
   "execution_count": 117,
   "metadata": {},
   "outputs": [
    {
     "data": {
      "text/plain": [
       "'GTTGGCTCTGACTGTACCACCATCCACTACAACTACATGTGTAACAGTTCCTGCATGGGCGGCATGAACCGGAGGCCCATCCTCACCATCATCACACTGGAAGACTCCAG'"
      ]
     },
     "execution_count": 117,
     "metadata": {},
     "output_type": "execute_result"
    }
   ],
   "source": [
    "str(exones[7])"
   ]
  },
  {
   "cell_type": "code",
   "execution_count": 67,
   "metadata": {},
   "outputs": [],
   "source": [
    "seq_exones = Seq.Seq('')\n",
    "\n",
    "for zona in posiciones_exones:\n",
    "    exon = seq.seq[zona.location.start:zona.location.end]\n",
    "    seq_exones = seq_exones + exon\n"
   ]
  },
  {
   "cell_type": "code",
   "execution_count": 69,
   "metadata": {},
   "outputs": [
    {
     "name": "stderr",
     "output_type": "stream",
     "text": [
      "/usr/lib/python3/dist-packages/Bio/Seq.py:2309: BiopythonWarning: Partial codon, len(sequence) not a multiple of three. Explicitly trim the sequence or add trailing N before translation. This may become an error in future.\n",
      "  BiopythonWarning)\n"
     ]
    },
    {
     "data": {
      "text/plain": [
       "Seq('MSQEESTRFYDQLNHHIFELVSSSDANERKGGILAIASLIGVEGGNSTRIGRFA...YIG', ExtendedIUPACProtein())"
      ]
     },
     "execution_count": 69,
     "metadata": {},
     "output_type": "execute_result"
    }
   ],
   "source": [
    "seq_exones.translate()"
   ]
  },
  {
   "cell_type": "code",
   "execution_count": 80,
   "metadata": {},
   "outputs": [
    {
     "data": {
      "text/plain": [
       "'Mus musculus (house mouse)'"
      ]
     },
     "execution_count": 80,
     "metadata": {},
     "output_type": "execute_result"
    }
   ],
   "source": [
    "secuencia2.annotations['source']"
   ]
  },
  {
   "cell_type": "code",
   "execution_count": 103,
   "metadata": {},
   "outputs": [
    {
     "name": "stdout",
     "output_type": "stream",
     "text": [
      "type: CDS\n",
      "location: [202:1384](+)\n",
      "qualifiers:\n",
      "    Key: codon_start, Value: ['1']\n",
      "    Key: db_xref, Value: ['CCDS:CCDS11118.1', 'GeneID:7157', 'HGNC:HGNC:11998', 'MIM:191170']\n",
      "    Key: gene, Value: ['TP53']\n",
      "    Key: gene_synonym, Value: ['BCC7; BMFS5; LFS1; P53; TRP53']\n",
      "    Key: note, Value: ['isoform a is encoded by transcript variant 1; tumor protein 53; mutant tumor protein 53; cellular tumor antigen p53; phosphoprotein p53; transformation-related protein 53; p53 tumor suppressor; antigen NY-CO-13; tumor supressor p53']\n",
      "    Key: product, Value: ['cellular tumor antigen p53 isoform a']\n",
      "    Key: protein_id, Value: ['NP_000537.3']\n",
      "    Key: translation, Value: ['MEEPQSDPSVEPPLSQETFSDLWKLLPENNVLSPLPSQAMDDLMLSPDDIEQWFTEDPGPDEAPRMPEAAPPVAPAPAAPTPAAPAPAPSWPLSSSVPSQKTYQGSYGFRLGFLHSGTAKSVTCTYSPALNKMFCQLAKTCPVQLWVDSTPPPGTRVRAMAIYKQSQHMTEVVRRCPHHERCSDSDGLAPPQHLIRVEGNLRVEYLDDRNTFRHSVVVPYEPPEVGSDCTTIHYNYMCNSSCMGGMNRRPILTIITLEDSSGNLLGRNSFEVRVCACPGRDRRTEEENLRKKGEPHHELPPGSTKRALPNNTSSSPQPKKKPLDGEYFTLQIRGRERFEMFRELNEALELKDAQAGKEPGGSRAHSSHLKSKKGQSTSRHKKLMFKTEGPDSD']\n",
      "\n"
     ]
    }
   ],
   "source": [
    "print(seq.features[5])"
   ]
  },
  {
   "cell_type": "code",
   "execution_count": null,
   "metadata": {},
   "outputs": [],
   "source": []
  }
 ],
 "metadata": {
  "kernelspec": {
   "display_name": "Python 3",
   "language": "python",
   "name": "python3"
  },
  "language_info": {
   "codemirror_mode": {
    "name": "ipython",
    "version": 3
   },
   "file_extension": ".py",
   "mimetype": "text/x-python",
   "name": "python",
   "nbconvert_exporter": "python",
   "pygments_lexer": "ipython3",
   "version": "3.6.7"
  }
 },
 "nbformat": 4,
 "nbformat_minor": 2
}
