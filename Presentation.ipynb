{
 "cells": [
  {
   "cell_type": "markdown",
   "metadata": {
    "slideshow": {
     "slide_type": "slide"
    }
   },
   "source": [
    "# Bienvenidos al curso de Python\n",
    "## ¿Por qué python?\n",
    "* Easy to learn (hard to master)\n",
    "* Es rápido escribir código\n",
    "* Muchos recursos disponibles\n",
    "  * Documentación oficial: https://docs.python.org/3/\n",
    "* Multiplataforma"
   ]
  },
  {
   "cell_type": "markdown",
   "metadata": {
    "slideshow": {
     "slide_type": "slide"
    }
   },
   "source": [
    "# Antes de empezar\n",
    "* Ir a una consola de sistema operativo\n",
    "* Ir a la carpeta con el contenido del curso\n",
    "<pre>\n",
    "$ jupyter nbconvert presentation.ipynb --to slides --post serve\n",
    "</pre>\n",
    "* Deberían poder ver esta presentación en el navegador"
   ]
  },
  {
   "cell_type": "markdown",
   "metadata": {
    "slideshow": {
     "slide_type": "slide"
    }
   },
   "source": [
    "# Distribuciones de Python y herramientas\n",
    "## Python \"oficial\" ( http://www.python.org)\n",
    "* La más actualizada\n",
    "\n",
    "## Anaconda (https://anaconda.org/)\n",
    "* Contiene paquetes compilados para diferentes sistemas\n",
    "* Suele ser más fácil de usar en Windows.\n",
    "\n",
    "## Versiones\n",
    "* Actualmente, hay dos series de versiones de Python que se siguen manteniendo.\n",
    " * Python 2 (2000) - 2.7.14\n",
    " * Python 3 (2008) - 3.6.4 \n",
    "* ¿Por qué?, incompatibilidad entre versiones.\n",
    " * La comunidad de python se mueve muy lentamente a python 3."
   ]
  },
  {
   "cell_type": "markdown",
   "metadata": {
    "slideshow": {
     "slide_type": "slide"
    }
   },
   "source": [
    "## Jupyter notebook\n",
    "* Permite registrar el código y los resultados parciales que se obtienen, junto con documentación.\n",
    "* Muy útil para hacer análisis de datos.\n",
    "\n",
    "## Entornos de desarrollo (IDE)\n",
    "* Ofrecen muchas herramientas: análisis de códido, depuración, integración con repositorios, etc.\n",
    "* Necesario para desarrollar aplicaciones en python:\n",
    " * pycharm\n",
    " * Eclipse + pydev\n",
    " * atom\n",
    " * VScode"
   ]
  },
  {
   "cell_type": "markdown",
   "metadata": {
    "slideshow": {
     "slide_type": "slide"
    }
   },
   "source": [
    "# Usando python\n",
    "Python se puede utilizar de forma interactiva ( dentro de la consola de python o jupyter)\n",
    "\n",
    "<pre>\n",
    ">>> a = 'hola'\n",
    ">>> b = 'chau'\n",
    ">>> print a\n",
    "hola\n",
    ">>> print b\n",
    "chau\n",
    "</pre>\n",
    "... o ejecutando scripts en la consola del sistema operativo. \n",
    "<pre>\n",
    "$ python mi_script.py \n",
    "</pre>\n"
   ]
  },
  {
   "cell_type": "markdown",
   "metadata": {
    "slideshow": {
     "slide_type": "slide"
    }
   },
   "source": [
    "## Jupyter\n",
    "Jupyter es una consola interactiva para diversos lenguajes, principalmente Julia (IJulia), Python (IPython) y R.\n",
    "Permite integrar código con sus resultados, anotaciones, imágenes, etc. Finalmente se obtiene una **notebook** que puede compartirse para que otros la ejecuten.\n",
    "\n",
    "Los elementos básicos de jupyter son **celdas**, que pueden ser de código o de comentarios. Cada celda se puede ejecutar individualmente y el resultado se registra debajo de cada celda. \n",
    "\n",
    "Las céldas de comentarios se pueden escribir en un formato se llamado **markdown**\n",
    "\n",
    "http://jupyter-notebook.readthedocs.io/en/stable/examples/Notebook/Working%20With%20Markdown%20Cells.html\n",
    "\n",
    "Para abrir jupyter:\n",
    "<pre>\n",
    "$ jupyter notebook\n",
    "</pre>"
   ]
  },
  {
   "cell_type": "markdown",
   "metadata": {
    "slideshow": {
     "slide_type": "slide"
    }
   },
   "source": [
    "# El 'Hola mundo' de Python\n",
    "## El primer 'Hola mundo'"
   ]
  },
  {
   "cell_type": "code",
   "execution_count": 1,
   "metadata": {
    "scrolled": true,
    "slideshow": {
     "slide_type": "fragment"
    }
   },
   "outputs": [
    {
     "name": "stdout",
     "output_type": "stream",
     "text": [
      "Hola mundo!\n"
     ]
    }
   ],
   "source": [
    "# Esta línea es un comentario.\n",
    "print(\"Hola mundo!\")"
   ]
  },
  {
   "cell_type": "markdown",
   "metadata": {
    "slideshow": {
     "slide_type": "fragment"
    }
   },
   "source": [
    "\"hola mundo!\" es un cadena de caracteres o **string**.\n",
    "\n",
    "**print** es una función. \n",
    "Las funciones en general reciben argumentos entre paréntesis, realizan alguna acción y devuelven un valor."
   ]
  },
  {
   "cell_type": "markdown",
   "metadata": {
    "slideshow": {
     "slide_type": "slide"
    }
   },
   "source": [
    "## El segundo 'Hola mundo'"
   ]
  },
  {
   "cell_type": "code",
   "execution_count": 2,
   "metadata": {
    "scrolled": true,
    "slideshow": {
     "slide_type": "fragment"
    }
   },
   "outputs": [
    {
     "name": "stdout",
     "output_type": "stream",
     "text": [
      "Hola mundo!\n"
     ]
    }
   ],
   "source": [
    "saludo = \"Hola mundo!\"\n",
    "print(saludo)"
   ]
  },
  {
   "cell_type": "markdown",
   "metadata": {
    "slideshow": {
     "slide_type": "fragment"
    }
   },
   "source": [
    "**saludo** es un variable a la que se le está asignando el **string** \"Hola mundo!\""
   ]
  },
  {
   "cell_type": "markdown",
   "metadata": {
    "slideshow": {
     "slide_type": "slide"
    }
   },
   "source": [
    "# Variables, valores y tipos"
   ]
  },
  {
   "cell_type": "markdown",
   "metadata": {
    "slideshow": {
     "slide_type": "-"
    }
   },
   "source": [
    "Una **variable** es un espacio para almacenar datos modificables en la memoria de la computadora; una vez declarada Python recordara que esa variable contiene los datos de las caracteristicas que le hayamos asignado.\n",
    "Estas pueden ser declaradas simplemente haciendo:"
   ]
  },
  {
   "cell_type": "code",
   "execution_count": 6,
   "metadata": {
    "slideshow": {
     "slide_type": "-"
    }
   },
   "outputs": [],
   "source": [
    "variable1 = 1\n",
    "mi_variable = 'Hola'\n",
    "variable2 = variable1 + 1"
   ]
  },
  {
   "cell_type": "markdown",
   "metadata": {
    "slideshow": {
     "slide_type": "slide"
    }
   },
   "source": [
    "## Todas las variables tienen un valor asignado y todos los valores tienen un tipo asociado. \n",
    "Por medio de la función type() podemos conocer el tipo de dato que almacena nuestra variable:"
   ]
  },
  {
   "cell_type": "code",
   "execution_count": 7,
   "metadata": {
    "slideshow": {
     "slide_type": "-"
    }
   },
   "outputs": [
    {
     "name": "stdout",
     "output_type": "stream",
     "text": [
      "<class 'int'>\n",
      "<class 'int'>\n"
     ]
    }
   ],
   "source": [
    "\n",
    "print(type(variable1))\n",
    "print(type(variable2))\n"
   ]
  },
  {
   "cell_type": "markdown",
   "metadata": {
    "slideshow": {
     "slide_type": "fragment"
    }
   },
   "source": [
    "**Reto**: Declará una 'variable_3' que almacene el doble del valor de la variable 2 e imprimí el tipo de dato que almacena."
   ]
  },
  {
   "cell_type": "markdown",
   "metadata": {
    "slideshow": {
     "slide_type": "fragment"
    }
   },
   "source": [
    "**Reto**: Declará una 'variable_4' que almacene el cociente entre la variable 3 y la variable 2. ¿Qué tipo de datos almacena la variable 4?"
   ]
  },
  {
   "cell_type": "markdown",
   "metadata": {
    "slideshow": {
     "slide_type": "slide"
    }
   },
   "source": [
    "## Algunos delos tipos básicos de datos en Python son:\n",
    "* int - para representar números enteros\n",
    "* long - para representar números enteros muy largos\n",
    "* float - para representar números decimales\n",
    "* bool - para representar valores de verdad (True/False)\n",
    "* complex - para representar números complejos (1+2j)\n",
    "* NoneType - Tipo especial del valor None"
   ]
  },
  {
   "cell_type": "markdown",
   "metadata": {
    "slideshow": {
     "slide_type": "subslide"
    }
   },
   "source": [
    "## Pero las variables no tienen un tipo. \n",
    "La variable variable1 no está 'atada' a un tipo específico, como sucede en otros lenguajes de programación. De hecho, podríamos reasignar valores a una variable simplemente declarandolo de este modo:\n",
    "```python\n",
    "variable_4 = \"Roberto\"\n",
    "```\n",
    "¿Qué ocurre si aplicamos la función **type()** a la variable 4 ahora?"
   ]
  },
  {
   "cell_type": "code",
   "execution_count": null,
   "metadata": {
    "slideshow": {
     "slide_type": "fragment"
    }
   },
   "outputs": [],
   "source": []
  },
  {
   "cell_type": "markdown",
   "metadata": {
    "slideshow": {
     "slide_type": "fragment"
    }
   },
   "source": [
    "La variable **variable1** no está 'atada' a un tipo específico, como sucede en otros lenguajes de programación."
   ]
  },
  {
   "cell_type": "markdown",
   "metadata": {
    "slideshow": {
     "slide_type": "slide"
    }
   },
   "source": [
    "## Operadores y funciones matemáticas \n",
    "| Operación | Resuldado                        |\n",
    "| --------- | ---------                        |\n",
    "| x + y     | Suma                             |\n",
    "| x - y     | Resta                            |\n",
    "| x / y     | División. Cuidado con los enteros|\n",
    "| x * y     | Multiplicación                   |\n",
    "| x % y     | Resto                            |\n",
    "| abs(x)    | Absoluto                         |\n",
    "| int(x)    | Convierte a entero. No redondea. |\n",
    "| long(x)   | Convierte a entero largo. No redondea. |\n",
    "| x ** y    | Eleva x a la y                   |\n",
    "\n",
    "**Reto**:¿Qué resultado arroja la siguiente operación?¿Podrías definir cuál fue la sucesión de pasos que se ejecutaron en esa linea?\n",
    "```python\n",
    "print(5+30*20)\n",
    "```"
   ]
  },
  {
   "cell_type": "markdown",
   "metadata": {
    "slideshow": {
     "slide_type": "slide"
    }
   },
   "source": [
    "## Operadores y funciones lógicas \n",
    "| Operación | Resuldado                        |\n",
    "| --------- | ---------                        |\n",
    "| x and y   | Y lógico entre x e y             |\n",
    "| x or y    | O lógico entre x e y             |\n",
    "| not x     | Negación de x                    |\n",
    "\n",
    "**and** y **or** son cortocircuito."
   ]
  },
  {
   "cell_type": "markdown",
   "metadata": {
    "slideshow": {
     "slide_type": "slide"
    }
   },
   "source": [
    "## Operadores de comparación \n",
    "| Operación | Resuldado                        |\n",
    "| --------- | ---------                        |\n",
    "| x < y     | True si x es menor a y           |\n",
    "| x <= y    | True si x es menor o igual a y   |  \n",
    "| x > y     | True si x es mayor a y           |\n",
    "| x >= y    | True si x es mayor o igual a y   |\n",
    "| x == y    | True si x es igual a y           |\n",
    "| x is y    | True si x es idéntico a y        |\n"
   ]
  },
  {
   "cell_type": "code",
   "execution_count": 8,
   "metadata": {},
   "outputs": [
    {
     "name": "stdout",
     "output_type": "stream",
     "text": [
      "True\n",
      "False\n"
     ]
    }
   ],
   "source": [
    "a = [1,2,3]\n",
    "b = [1,2,3]\n",
    "print( a == b )\n",
    "print( a is b )"
   ]
  },
  {
   "cell_type": "markdown",
   "metadata": {
    "slideshow": {
     "slide_type": "slide"
    }
   },
   "source": [
    "# Manejo de strings\n",
    "+ **String** es un tipo de dato que se puede entender como una sucesión de caracteres o una cadena de caracteres. \n",
    "+ Podemos un string simplemente escribiendo los caracteres/el caracter entre comillas. \n",
    "```python\n",
    "mi_string = \"este es mi primer string\"\n",
    "```\n",
    "+ Python trata las comillas simples al igual que las comillas dobles.\n",
    "+ En un string el primer calor tiene índice cero.\n",
    "+ Hay varias funciones y operadores que permiten trabajar con strings.\n",
    "\n",
    "**Reto**: ¿Qué resultado nos daría la siguiente operación?: \n",
    "```python\n",
    "type(1) == type('1')\n",
    "```\n",
    "¿Y qué resultado nos daría la siguiente operación?: \n",
    "```python\n",
    "'python' == 'Python'\n",
    "```"
   ]
  },
  {
   "cell_type": "code",
   "execution_count": 9,
   "metadata": {},
   "outputs": [
    {
     "name": "stdout",
     "output_type": "stream",
     "text": [
      "Este es un String\n"
     ]
    }
   ],
   "source": [
    "# El operador '+' permite concatenar dos strings\n",
    "nuevoString = \"Este\" + \" \" + \"es\" + \" \" + \"un\" + \" \" + \"String\"\n",
    "print(nuevoString)"
   ]
  },
  {
   "cell_type": "markdown",
   "metadata": {},
   "source": [
    "**Reto**:¿Qué otros operadores matemáticos funcionan con strings?¿Qué resultados obtenes?"
   ]
  },
  {
   "cell_type": "markdown",
   "metadata": {},
   "source": [
    "La función **str()** convierte valores a string."
   ]
  },
  {
   "cell_type": "code",
   "execution_count": 10,
   "metadata": {},
   "outputs": [
    {
     "data": {
      "text/plain": [
       "str"
      ]
     },
     "execution_count": 10,
     "metadata": {},
     "output_type": "execute_result"
    }
   ],
   "source": [
    "pi = 3.1416\n",
    "pi_str = str(pi)\n",
    "type(pi_str)"
   ]
  },
  {
   "cell_type": "markdown",
   "metadata": {
    "slideshow": {
     "slide_type": "slide"
    }
   },
   "source": [
    "Se puede acceder a los caracteres individuales de un string, del siguiente modo:"
   ]
  },
  {
   "cell_type": "code",
   "execution_count": 11,
   "metadata": {},
   "outputs": [
    {
     "name": "stdout",
     "output_type": "stream",
     "text": [
      "ste\n",
      " es un strin\n"
     ]
    }
   ],
   "source": [
    "s = \"este es un string\"\n",
    "a = s[ 1 : 4 ] # 1 es el índice de la primer posición incluida, 4 es el índice de la primer posición excluida.\n",
    "print(a)\n",
    "b = s[ 4 : -1 ] # Se pueden usar índices negativos, que comienzan desde el final del string\n",
    "print(b)"
   ]
  },
  {
   "cell_type": "markdown",
   "metadata": {
    "slideshow": {
     "slide_type": "slide"
    }
   },
   "source": [
    "Las funciones **upper()** y **lower()** permiten convertir los strings a mayúsculas y minúsculas"
   ]
  },
  {
   "cell_type": "code",
   "execution_count": 12,
   "metadata": {},
   "outputs": [
    {
     "name": "stdout",
     "output_type": "stream",
     "text": [
      "HOLA\n",
      "hola\n"
     ]
    }
   ],
   "source": [
    "nuevoString = \"hola\".upper()\n",
    "print(nuevoString)\n",
    "nuevoString = \"HOLA\".lower()\n",
    "print(nuevoString)"
   ]
  },
  {
   "cell_type": "markdown",
   "metadata": {},
   "source": [
    "La función **split()** separa un string en una lista de strings, usando una caracter como separador. Por defecto el separador es un espacio en blanco o un tab."
   ]
  },
  {
   "cell_type": "code",
   "execution_count": 13,
   "metadata": {},
   "outputs": [
    {
     "data": {
      "text/plain": [
       "['Este', 'es', 'un', 'string', 'que', 'se', 'va', 'a', 'dividir']"
      ]
     },
     "execution_count": 13,
     "metadata": {},
     "output_type": "execute_result"
    }
   ],
   "source": [
    "s = \"Este es un string que se va a dividir\"\n",
    "s.split()"
   ]
  },
  {
   "cell_type": "markdown",
   "metadata": {
    "slideshow": {
     "slide_type": "slide"
    }
   },
   "source": [
    "La función **join()** junta varios strings en uno solo, usando otro string como separador. "
   ]
  },
  {
   "cell_type": "code",
   "execution_count": 14,
   "metadata": {},
   "outputs": [
    {
     "data": {
      "text/plain": [
       "'a,b,c,d'"
      ]
     },
     "execution_count": 14,
     "metadata": {},
     "output_type": "execute_result"
    }
   ],
   "source": [
    "s = ['a','b','c','d']\n",
    "','.join(s)"
   ]
  },
  {
   "cell_type": "markdown",
   "metadata": {},
   "source": [
    "Las funciones **strip()**, **rstrip()** y **lstrip()** eliminan los carácteres en blanco al inicio y/o fin de un string."
   ]
  },
  {
   "cell_type": "code",
   "execution_count": 15,
   "metadata": {},
   "outputs": [
    {
     "data": {
      "text/plain": [
       "'hola'"
      ]
     },
     "execution_count": 15,
     "metadata": {},
     "output_type": "execute_result"
    }
   ],
   "source": [
    "a = \"   hola   \"\n",
    "a.strip()"
   ]
  },
  {
   "cell_type": "markdown",
   "metadata": {
    "slideshow": {
     "slide_type": "slide"
    }
   },
   "source": [
    "La función **replace()** permite cambiar un fragmento de un string por otro."
   ]
  },
  {
   "cell_type": "code",
   "execution_count": 16,
   "metadata": {},
   "outputs": [
    {
     "data": {
      "text/plain": [
       "'Mi nombre es Javier'"
      ]
     },
     "execution_count": 16,
     "metadata": {},
     "output_type": "execute_result"
    }
   ],
   "source": [
    "nombre = \"Mi nombre es Pedro\"\n",
    "nombre.replace(\"Pedro\",\"Javier\")"
   ]
  },
  {
   "cell_type": "markdown",
   "metadata": {
    "slideshow": {
     "slide_type": "-"
    }
   },
   "source": [
    "La función **find()** busca un string dentro de otro. Devuelve el índice de la primera vez que se encuentra."
   ]
  },
  {
   "cell_type": "code",
   "execution_count": 17,
   "metadata": {
    "slideshow": {
     "slide_type": "-"
    }
   },
   "outputs": [
    {
     "data": {
      "text/plain": [
       "11"
      ]
     },
     "execution_count": 17,
     "metadata": {},
     "output_type": "execute_result"
    }
   ],
   "source": [
    "s = \"Buscar una aguja en un pajar\"\n",
    "s.find(\"aguja\")"
   ]
  },
  {
   "cell_type": "markdown",
   "metadata": {},
   "source": [
    "La función **startswith()** checkea si un string comienza con un dado caracter o substring y nos devuelve un booleano:"
   ]
  },
  {
   "cell_type": "code",
   "execution_count": 18,
   "metadata": {},
   "outputs": [
    {
     "data": {
      "text/plain": [
       "False"
      ]
     },
     "execution_count": 18,
     "metadata": {},
     "output_type": "execute_result"
    }
   ],
   "source": [
    "s = \"Buscar una aguja en un pajar\"\n",
    "s.startswith(\"aguja\")"
   ]
  },
  {
   "cell_type": "markdown",
   "metadata": {
    "slideshow": {
     "slide_type": "slide"
    }
   },
   "source": [
    "# Estructuras de datos\n",
    "\n",
    "Las variables que vimos hasta ahora son sencillas y contienen un único **dato**.\n",
    "Python permite usar estructuras de datos más complejas que permiten almacenar y organizar colecciones de datos.\n",
    "Algunas de estas estructuras de datos son:\n",
    "* tuplas\n",
    "* listas\n",
    "* diccionarios\n",
    "* sets"
   ]
  },
  {
   "cell_type": "markdown",
   "metadata": {
    "slideshow": {
     "slide_type": "slide"
    }
   },
   "source": [
    "## Tuplas\n",
    "- Agrupamiento ordenado de valores, usualmente pocos. \n",
    "- Los valores no tienen que ser del mismo tipo. \n",
    "- Las tuplas son inmutables."
   ]
  },
  {
   "cell_type": "code",
   "execution_count": 19,
   "metadata": {
    "slideshow": {
     "slide_type": "-"
    }
   },
   "outputs": [
    {
     "name": "stdout",
     "output_type": "stream",
     "text": [
      "1\n"
     ]
    }
   ],
   "source": [
    "t2 = (1,2)   # (1,2) es un tupla\n",
    "t3 = (1,2,3) # (1,2,3) es otra tupla\n",
    "print(t2[0])"
   ]
  },
  {
   "cell_type": "code",
   "execution_count": 20,
   "metadata": {
    "slideshow": {
     "slide_type": "-"
    }
   },
   "outputs": [
    {
     "ename": "TypeError",
     "evalue": "'tuple' object does not support item assignment",
     "output_type": "error",
     "traceback": [
      "\u001b[0;31m---------------------------------------------------------------------------\u001b[0m",
      "\u001b[0;31mTypeError\u001b[0m                                 Traceback (most recent call last)",
      "\u001b[0;32m<ipython-input-20-855778806315>\u001b[0m in \u001b[0;36m<module>\u001b[0;34m()\u001b[0m\n\u001b[1;32m      1\u001b[0m \u001b[0mt2\u001b[0m \u001b[0;34m=\u001b[0m \u001b[0;34m(\u001b[0m\u001b[0;36m1\u001b[0m\u001b[0;34m,\u001b[0m\u001b[0;36m2\u001b[0m\u001b[0;34m)\u001b[0m\u001b[0;34m\u001b[0m\u001b[0m\n\u001b[0;32m----> 2\u001b[0;31m \u001b[0mt2\u001b[0m\u001b[0;34m[\u001b[0m\u001b[0;36m0\u001b[0m\u001b[0;34m]\u001b[0m \u001b[0;34m=\u001b[0m \u001b[0;36m2\u001b[0m\u001b[0;34m\u001b[0m\u001b[0m\n\u001b[0m\u001b[1;32m      3\u001b[0m \u001b[0;31m# No se puede asignar uno de los valores de una tupla.\u001b[0m\u001b[0;34m\u001b[0m\u001b[0;34m\u001b[0m\u001b[0m\n",
      "\u001b[0;31mTypeError\u001b[0m: 'tuple' object does not support item assignment"
     ]
    }
   ],
   "source": [
    "t2 = (1,2)\n",
    "t2[0] = 2\n",
    "# No se puede asignar uno de los valores de una tupla."
   ]
  },
  {
   "cell_type": "markdown",
   "metadata": {
    "slideshow": {
     "slide_type": "slide"
    }
   },
   "source": [
    "## Listas\n",
    "* Agrupamiento ordenado de valores, usualmente muchos\n",
    "* Los valores no tienen que ser del mismo tipo.\n",
    "* Las listas son mutables.\n",
    "* El número de orden un de un valor en la lista es su **índice**, el primer valor tiene índice **cero**.\n"
   ]
  },
  {
   "cell_type": "code",
   "execution_count": 21,
   "metadata": {
    "slideshow": {
     "slide_type": "fragment"
    }
   },
   "outputs": [
    {
     "name": "stdout",
     "output_type": "stream",
     "text": [
      "[1, 2, 3]\n",
      "<class 'list'>\n",
      "range(0, 10)\n",
      "<class 'range'>\n",
      "5\n"
     ]
    }
   ],
   "source": [
    "listaSimple = [1,2,3]\n",
    "print(listaSimple)\n",
    "print(type(listaSimple))\n",
    "delCeroAlNueve = range(10)\n",
    "print(delCeroAlNueve)\n",
    "print(type(delCeroAlNueve))\n",
    "print(delCeroAlNueve[5])"
   ]
  },
  {
   "cell_type": "code",
   "execution_count": 22,
   "metadata": {
    "slideshow": {
     "slide_type": "fragment"
    }
   },
   "outputs": [
    {
     "name": "stdout",
     "output_type": "stream",
     "text": [
      "[5, 2, 3]\n"
     ]
    }
   ],
   "source": [
    "listaSimple[0] = 5\n",
    "# Los valores de las listas pueden reasignarse\n",
    "print(listaSimple)"
   ]
  },
  {
   "cell_type": "markdown",
   "metadata": {
    "slideshow": {
     "slide_type": "slide"
    }
   },
   "source": [
    "### Agregar y quitar elementos de una lista\n"
   ]
  },
  {
   "cell_type": "code",
   "execution_count": 23,
   "metadata": {
    "slideshow": {
     "slide_type": "fragment"
    }
   },
   "outputs": [
    {
     "name": "stdout",
     "output_type": "stream",
     "text": [
      "[5, 2, 3, 18]\n",
      "[5, 2, 3, 18, 0]\n"
     ]
    }
   ],
   "source": [
    "listaSimple.append(18)\n",
    "print(listaSimple)\n",
    "listaSimple.insert(4,0)\n",
    "print(listaSimple)"
   ]
  },
  {
   "cell_type": "markdown",
   "metadata": {
    "slideshow": {
     "slide_type": "fragment"
    }
   },
   "source": [
    "* La función **append()** agrega un elemento a una lista.\n",
    "\n",
    "¿Por qué está el punto entre el nombre de la variable y **append()**?"
   ]
  },
  {
   "cell_type": "code",
   "execution_count": 24,
   "metadata": {
    "slideshow": {
     "slide_type": "slide"
    }
   },
   "outputs": [
    {
     "name": "stdout",
     "output_type": "stream",
     "text": [
      "[5, 2, 3, 18, 0]\n",
      "[5, 2, 3, 0]\n"
     ]
    }
   ],
   "source": [
    "print(listaSimple)\n",
    "listaSimple.remove(18)\n",
    "print(listaSimple)"
   ]
  },
  {
   "cell_type": "markdown",
   "metadata": {
    "slideshow": {
     "slide_type": "fragment"
    }
   },
   "source": [
    "* La función **remove()** elimina un elemento a una lista."
   ]
  },
  {
   "cell_type": "code",
   "execution_count": 25,
   "metadata": {
    "slideshow": {
     "slide_type": "fragment"
    }
   },
   "outputs": [
    {
     "name": "stdout",
     "output_type": "stream",
     "text": [
      "[1, 3, 2]\n"
     ]
    }
   ],
   "source": [
    "otraLista = [1,2,3,2]\n",
    "otraLista.remove(2)\n",
    "print(otraLista)"
   ]
  },
  {
   "cell_type": "markdown",
   "metadata": {
    "slideshow": {
     "slide_type": "fragment"
    }
   },
   "source": [
    "* Si el valor que se quiere eliminar está más de una vez, solo se elimina el primero"
   ]
  },
  {
   "cell_type": "code",
   "execution_count": 26,
   "metadata": {
    "slideshow": {
     "slide_type": "slide"
    }
   },
   "outputs": [
    {
     "name": "stdout",
     "output_type": "stream",
     "text": [
      "1\n",
      "[3, 2]\n"
     ]
    }
   ],
   "source": [
    "valorEliminado = otraLista.pop(0)\n",
    "print(valorEliminado)\n",
    "print(otraLista)"
   ]
  },
  {
   "cell_type": "markdown",
   "metadata": {},
   "source": [
    "* La función **pop()** elimina un valor por el índice."
   ]
  },
  {
   "cell_type": "markdown",
   "metadata": {
    "slideshow": {
     "slide_type": "slide"
    }
   },
   "source": [
    "### Selecciones de sublistas"
   ]
  },
  {
   "cell_type": "code",
   "execution_count": 27,
   "metadata": {
    "slideshow": {
     "slide_type": "-"
    }
   },
   "outputs": [
    {
     "name": "stdout",
     "output_type": "stream",
     "text": [
      "['a', 'b']\n"
     ]
    }
   ],
   "source": [
    "listaSimple = ['a','b','c','d','e']\n",
    "subLista = listaSimple[0:2]\n",
    "# Para obtener una sublista se debe indicar el índice del primer valor incluido y el índice del primer valor excluido\n",
    "print(subLista)"
   ]
  },
  {
   "cell_type": "code",
   "execution_count": 28,
   "metadata": {},
   "outputs": [
    {
     "data": {
      "text/plain": [
       "['a', 'b']"
      ]
     },
     "execution_count": 28,
     "metadata": {},
     "output_type": "execute_result"
    }
   ],
   "source": [
    "listaSimple[:2]\n",
    "# Si el primer índice es 0, puede obviarse"
   ]
  },
  {
   "cell_type": "code",
   "execution_count": 29,
   "metadata": {},
   "outputs": [
    {
     "data": {
      "text/plain": [
       "['d', 'e']"
      ]
     },
     "execution_count": 29,
     "metadata": {},
     "output_type": "execute_result"
    }
   ],
   "source": [
    "listaSimple[3:]\n",
    "# Si el último índice es la longitud de la lista, también puede obviarse"
   ]
  },
  {
   "cell_type": "markdown",
   "metadata": {
    "slideshow": {
     "slide_type": "slide"
    }
   },
   "source": [
    "### Concatenación de listas\n"
   ]
  },
  {
   "cell_type": "code",
   "execution_count": 30,
   "metadata": {},
   "outputs": [
    {
     "name": "stdout",
     "output_type": "stream",
     "text": [
      "[0, 1, 2, 3, 4, 5, 6]\n"
     ]
    }
   ],
   "source": [
    "listaSimple = [0,1,2,3] + [4,5,6]\n",
    "print(listaSimple)"
   ]
  },
  {
   "cell_type": "markdown",
   "metadata": {},
   "source": [
    "El operador '+' permite concatenar dos listas.\n",
    "\n",
    "**¿Qué otros operadores matemáticos funcionan con listas?¿Qué resultados obtenes?**"
   ]
  },
  {
   "cell_type": "markdown",
   "metadata": {
    "slideshow": {
     "slide_type": "slide"
    }
   },
   "source": [
    "### Otras funciones de listas importantes \n",
    "* extend() = agrega elementos de una lista a otra.\n",
    "* index() = devuelve el índice en la lista de un valor dado.\n",
    "* count() = devuelve la cantidad de veces que un elemento está en la lista.\n",
    "* sort() = ordena los valores de la lista\n",
    "* reverse() = invierte los valores de una lista\n",
    "* len() = devuelve la cantidad de elementos en la lista."
   ]
  },
  {
   "cell_type": "markdown",
   "metadata": {
    "slideshow": {
     "slide_type": "slide"
    }
   },
   "source": [
    "## Diccionarios\n",
    "* Los diccionarios son agrupaciones de datos del tipos Clave -> Valor. No tienen orden. Así como las listas se declaran con corchetes y las tuple con paréntesis, los diccionarios se declaran con llaves, siguiendo la sintaxis midict = {clave_1: \"valor\",clave_2: \"valor\"}\n",
    "```python\n",
    "mamiferos = {\"orangutan\" : 'placentario',\"canguro\" : 'marsupial'}\n",
    "```\n",
    "* Se puede acceder a los valores para cada clave haciendo, por ejemplo:\n",
    "```python\n",
    "mamiferos['orangutan']\n",
    "```\n",
    "* ¿Qué cosas quiero hacer un diccionario?\n",
    " * Guardar (o actualizar) un dato con clave\n",
    " * Recuperar un dato por su clave\n",
    " * Saber si una valor dado es una clave\n",
    " * Recuperar todas las claves\n",
    " * Eliminar valores.\n",
    " \n",
    "### Guardar y recuperar valores"
   ]
  },
  {
   "cell_type": "code",
   "execution_count": 31,
   "metadata": {},
   "outputs": [
    {
     "name": "stdout",
     "output_type": "stream",
     "text": [
      "Jose Jorge Perez\n"
     ]
    }
   ],
   "source": [
    "personas = dict()  # la función dict crea un nuevo diccionario vacio.\n",
    "personas[20000001] = 'Jose Perez'\n",
    "personas[20000002] = 'Julian Alvarez'\n",
    "personas[20000001] = 'Jose Jorge Perez'\n",
    "# Se guardan los nombres de personas usando como clave el DNI.\n",
    "print(personas[20000001])\n"
   ]
  },
  {
   "cell_type": "markdown",
   "metadata": {
    "slideshow": {
     "slide_type": "slide"
    }
   },
   "source": [
    "### Recuperar todas las claves y valores\n",
    "* Las funciones **keys()** y **values()** permiten recuperar listas con las claves y los valores. \n",
    "* No tienen ningún orden."
   ]
  },
  {
   "cell_type": "code",
   "execution_count": 32,
   "metadata": {},
   "outputs": [
    {
     "name": "stdout",
     "output_type": "stream",
     "text": [
      "dict_keys([20000001, 20000002])\n",
      "dict_values(['Jose Jorge Perez', 'Julian Alvarez'])\n"
     ]
    }
   ],
   "source": [
    "print( personas.keys() )\n",
    "print( personas.values() )"
   ]
  },
  {
   "cell_type": "markdown",
   "metadata": {
    "slideshow": {
     "slide_type": "-"
    }
   },
   "source": [
    "* Las claves pueden ser valores de diferentes tipos: str, int, bool, tuplas. Pero no listas. \n",
    "* Los valores también pueden valores de diferentes tipos, incluyendo listas."
   ]
  },
  {
   "cell_type": "code",
   "execution_count": 33,
   "metadata": {},
   "outputs": [],
   "source": [
    "personas[\"20000003\"] = \"Jose de San Martin\"\n",
    "personas[( 1,2) ] = False"
   ]
  },
  {
   "cell_type": "markdown",
   "metadata": {
    "slideshow": {
     "slide_type": "slide"
    }
   },
   "source": [
    "### Comprobar si una clave pertenece a un diccionario\n",
    "* El operador **in** permite esto."
   ]
  },
  {
   "cell_type": "code",
   "execution_count": 34,
   "metadata": {},
   "outputs": [
    {
     "data": {
      "text/plain": [
       "True"
      ]
     },
     "execution_count": 34,
     "metadata": {},
     "output_type": "execute_result"
    }
   ],
   "source": [
    "(1,2) in personas"
   ]
  },
  {
   "cell_type": "code",
   "execution_count": 35,
   "metadata": {},
   "outputs": [
    {
     "data": {
      "text/plain": [
       "False"
      ]
     },
     "execution_count": 35,
     "metadata": {},
     "output_type": "execute_result"
    }
   ],
   "source": [
    "20000005 in personas"
   ]
  },
  {
   "cell_type": "markdown",
   "metadata": {
    "slideshow": {
     "slide_type": "slide"
    }
   },
   "source": [
    "### Diferentes formas de construir un diccionario\n",
    "#### Crear un diccionario vacio y agregar elementos individualmente.\n"
   ]
  },
  {
   "cell_type": "code",
   "execution_count": 36,
   "metadata": {},
   "outputs": [],
   "source": [
    "diccionarioUno = {}\n",
    "diccionarioUno[1] = 'Uno'\n",
    "diccionarioUno[2] = 'Dos'"
   ]
  },
  {
   "cell_type": "markdown",
   "metadata": {},
   "source": [
    "#### Usar el constructor '{}'\n",
    "* Se usa ':' para separar la clave del valor."
   ]
  },
  {
   "cell_type": "code",
   "execution_count": 37,
   "metadata": {},
   "outputs": [],
   "source": [
    "diccionarioDos = { 1 : 'Uno', 2 : 'Dos' }"
   ]
  },
  {
   "cell_type": "markdown",
   "metadata": {},
   "source": [
    "#### Usar el constructor dict()\n",
    "* El argumento es una lista de tuplas.\n",
    "* El primer elemento de cada tupla es la clave, el segundo es el valor."
   ]
  },
  {
   "cell_type": "code",
   "execution_count": 38,
   "metadata": {},
   "outputs": [],
   "source": [
    "diccionarioTres = dict( [ ( 1,'Uno'), ( 2, 'Dos' ) ] )"
   ]
  },
  {
   "cell_type": "markdown",
   "metadata": {
    "slideshow": {
     "slide_type": "slide"
    }
   },
   "source": [
    "### Otras funciones útiles de diccionarios\n",
    "* clear() : Borra todos los elementeos de diccionario\n",
    "* copy() : Devuelve una copia del diccionario\n",
    "* items() : Delvuelve una lista de tuplas (clave, valor)\n",
    "* update() : Actualiza un diccionario con valores de otro.\n",
    "* len() : Devuelve la cantidad de elementos en el diccionario."
   ]
  },
  {
   "cell_type": "markdown",
   "metadata": {
    "slideshow": {
     "slide_type": "slide"
    }
   },
   "source": [
    "## Sets\n",
    "* Los sets con agrupaciones no ordenadas de valores que no permiten repeticiones.\n",
    "* Que quiero hacer con un set:\n",
    " * Guardar valores\n",
    " * Eliminar valores\n",
    " * Saber si un valor pertenece al set\n",
    " * Recuperar los valores del set\n",
    "\n",
    "### Agregar y eliminar elementos"
   ]
  },
  {
   "cell_type": "code",
   "execution_count": 39,
   "metadata": {},
   "outputs": [
    {
     "name": "stdout",
     "output_type": "stream",
     "text": [
      "{2, 3, 5, 7}\n"
     ]
    }
   ],
   "source": [
    "setUno = set()\n",
    "setUno.add(1)\n",
    "setUno.add(2)\n",
    "setUno.add(3)\n",
    "setUno.add(5)\n",
    "setUno.add(7)\n",
    "setUno.remove(1)\n",
    "print(setUno)"
   ]
  },
  {
   "cell_type": "markdown",
   "metadata": {
    "slideshow": {
     "slide_type": "slide"
    }
   },
   "source": [
    "### Saber si un elemento pertenece al set"
   ]
  },
  {
   "cell_type": "code",
   "execution_count": 40,
   "metadata": {},
   "outputs": [
    {
     "data": {
      "text/plain": [
       "False"
      ]
     },
     "execution_count": 40,
     "metadata": {},
     "output_type": "execute_result"
    }
   ],
   "source": [
    "1 in setUno"
   ]
  },
  {
   "cell_type": "code",
   "execution_count": 41,
   "metadata": {},
   "outputs": [
    {
     "data": {
      "text/plain": [
       "True"
      ]
     },
     "execution_count": 41,
     "metadata": {},
     "output_type": "execute_result"
    }
   ],
   "source": [
    "2 in setUno"
   ]
  },
  {
   "cell_type": "markdown",
   "metadata": {},
   "source": [
    "### Recuperar los valores del set\n",
    "* Se puede convertir el set en una lista que contenga los valores.\n",
    "* La lista no tienen ningún orden particular."
   ]
  },
  {
   "cell_type": "code",
   "execution_count": 42,
   "metadata": {},
   "outputs": [
    {
     "name": "stdout",
     "output_type": "stream",
     "text": [
      "[2, 3, 5, 7]\n"
     ]
    }
   ],
   "source": [
    "listaDesdeSet = list( setUno )\n",
    "print( listaDesdeSet )"
   ]
  },
  {
   "cell_type": "markdown",
   "metadata": {
    "slideshow": {
     "slide_type": "slide"
    }
   },
   "source": [
    "# Estructuras de control\n",
    "Python, al igual que todos los lenguages de programación, incluye sentencias permiten controlar el flujo del programa. Esto permite tomar desiciones, repetir una tarea y recorrer estructuras de datos.\n",
    "\n",
    "## Estructuración por indentación\n",
    "* La indentación es el espacio que existe entre cada línea de código y el margen.\n",
    "* A diferencia de muchos otros lenguages de programación, la indentación en python no es sólo por estética sino que define la estructura del código.\n",
    "* Es importante tener presente las identaciones(o espacios al comienzo de linea) luego de los dos puntos. Esta define bloques de ejecución.\n",
    "* Esta identación se escribe automaticamente en entornos como Jupyter. De hacerlo manualmente, se recomientda utilizar un tab a modo de identacion, aunque puede elegirse un o dos espacios. Siempre a lo largo del código debe respetarse la identacion elegida.\n",
    "* De no utilizar la correcta identación Python nos alertará de nuestro error con un cartel **'IdentationError'**:"
   ]
  },
  {
   "cell_type": "markdown",
   "metadata": {
    "slideshow": {
     "slide_type": "slide"
    }
   },
   "source": [
    "## Ejecución condicional: if"
   ]
  },
  {
   "cell_type": "markdown",
   "metadata": {},
   "source": [
    "La estructura general es:\n",
    "```python\n",
    "if condicion:\n",
    "    Codigo si la condicion es verdadera\n",
    "else :\n",
    "    Codigo si la condicion es falsa\n",
    "```"
   ]
  },
  {
   "cell_type": "code",
   "execution_count": 43,
   "metadata": {
    "slideshow": {
     "slide_type": "-"
    }
   },
   "outputs": [
    {
     "name": "stdout",
     "output_type": "stream",
     "text": [
      "a no es igual a cero\n"
     ]
    }
   ],
   "source": [
    "a = 1\n",
    "if a == 0 :\n",
    "    mensaje = \"a es igual a cero\"\n",
    "    print(mensaje)\n",
    "else :\n",
    "    print(\"a no es igual a cero\")"
   ]
  },
  {
   "cell_type": "markdown",
   "metadata": {
    "slideshow": {
     "slide_type": "slide"
    }
   },
   "source": [
    "La sentencia **else** es opcional"
   ]
  },
  {
   "cell_type": "code",
   "execution_count": 44,
   "metadata": {},
   "outputs": [
    {
     "name": "stdout",
     "output_type": "stream",
     "text": [
      "a es igual a cero\n"
     ]
    }
   ],
   "source": [
    "a = 0\n",
    "if a == 0 :\n",
    "    mensaje = \"a es igual a cero\"\n",
    "    print(mensaje)"
   ]
  },
  {
   "cell_type": "markdown",
   "metadata": {},
   "source": []
  },
  {
   "cell_type": "code",
   "execution_count": 45,
   "metadata": {},
   "outputs": [
    {
     "name": "stdout",
     "output_type": "stream",
     "text": [
      "a es igual a cero\n"
     ]
    }
   ],
   "source": [
    "a = 0\n",
    "if a == 0 :\n",
    "    mensaje = \"a es igual a cero\"\n",
    "print(mensaje)"
   ]
  },
  {
   "cell_type": "code",
   "execution_count": 46,
   "metadata": {},
   "outputs": [
    {
     "name": "stdout",
     "output_type": "stream",
     "text": [
      "a es igual a cero\n"
     ]
    }
   ],
   "source": [
    "a = 0\n",
    "if a == 0 :\n",
    "    mensaje = \"a es igual a cero\"\n",
    "print(mensaje)"
   ]
  },
  {
   "cell_type": "markdown",
   "metadata": {
    "slideshow": {
     "slide_type": "slide"
    }
   },
   "source": [
    "### If anidados"
   ]
  },
  {
   "cell_type": "code",
   "execution_count": 47,
   "metadata": {},
   "outputs": [
    {
     "name": "stdout",
     "output_type": "stream",
     "text": [
      "a no es cero, ni uno, dos\n"
     ]
    }
   ],
   "source": [
    "a = 3\n",
    "if a == 0 :\n",
    "    print(\"a es igual a cero\")\n",
    "else :\n",
    "    if a == 1:\n",
    "        print(\"a es igual a uno\")\n",
    "    else :\n",
    "        if a == 2:\n",
    "            print(\"a es igual a dos\")\n",
    "        else :\n",
    "            print(\"a no es cero, ni uno, dos\")"
   ]
  },
  {
   "cell_type": "markdown",
   "metadata": {
    "slideshow": {
     "slide_type": "slide"
    }
   },
   "source": [
    "Esto mismo puede escribirse de una forma más legible usando **elif**"
   ]
  },
  {
   "cell_type": "code",
   "execution_count": 48,
   "metadata": {},
   "outputs": [
    {
     "name": "stdout",
     "output_type": "stream",
     "text": [
      "a no es cero, ni uno, dos\n"
     ]
    }
   ],
   "source": [
    "a = 3\n",
    "if a == 0 :\n",
    "    print(\"a es igual a cero\")\n",
    "elif a == 1:\n",
    "    print(\"a es igual a uno\")\n",
    "elif a == 2:\n",
    "    print(\"a es igual a dos\")   \n",
    "else :\n",
    "    print(\"a no es cero, ni uno, dos\")"
   ]
  },
  {
   "cell_type": "markdown",
   "metadata": {
    "slideshow": {
     "slide_type": "slide"
    }
   },
   "source": [
    "## Repetición hasta que una condición se cumpla: while\n"
   ]
  },
  {
   "cell_type": "markdown",
   "metadata": {},
   "source": [
    "La estructura general es:\n",
    "```python\n",
    "while condicion:\n",
    "    Codigo mientras la condicion es verdadera\n",
    "else:\n",
    "    Codigo cuando la condicion pasa a ser falsa\n",
    "```"
   ]
  },
  {
   "cell_type": "code",
   "execution_count": 49,
   "metadata": {},
   "outputs": [
    {
     "name": "stdout",
     "output_type": "stream",
     "text": [
      "0\n",
      "1\n",
      "2\n",
      "3\n",
      "4\n",
      "no hay más números mayores o iguales que cero y menores que 5\n"
     ]
    }
   ],
   "source": [
    "contador = 0\n",
    "while contador < 5 :\n",
    "    print(contador)\n",
    "    contador = contador +1\n",
    "else :\n",
    "    print(\"no hay más números mayores o iguales que cero y menores que 5\")"
   ]
  },
  {
   "cell_type": "markdown",
   "metadata": {
    "slideshow": {
     "slide_type": "slide"
    }
   },
   "source": [
    "## Iteración por los elementos de una estructura de datos: for"
   ]
  },
  {
   "cell_type": "markdown",
   "metadata": {},
   "source": [
    "La sentencia **for** se usa para recorrer listas, diccionarios, tuplas, strings, etc."
   ]
  },
  {
   "cell_type": "markdown",
   "metadata": {},
   "source": [
    "La estructura general es:\n",
    "```python\n",
    "for elemento in coleccion:\n",
    "    Codigo para cada elemento\n",
    "```"
   ]
  },
  {
   "cell_type": "code",
   "execution_count": 50,
   "metadata": {},
   "outputs": [
    {
     "name": "stdout",
     "output_type": "stream",
     "text": [
      "h\n",
      "o\n",
      "l\n",
      "a\n"
     ]
    }
   ],
   "source": [
    "for letra in \"hola\" :\n",
    "    print(letra)"
   ]
  },
  {
   "cell_type": "markdown",
   "metadata": {
    "slideshow": {
     "slide_type": "slide"
    }
   },
   "source": [
    "### Recorrer listas"
   ]
  },
  {
   "cell_type": "code",
   "execution_count": 51,
   "metadata": {},
   "outputs": [
    {
     "name": "stdout",
     "output_type": "stream",
     "text": [
      "20\n"
     ]
    }
   ],
   "source": [
    "fibo = [0,1,1,2,3,5,8]\n",
    "suma = 0\n",
    "for numero in fibo :\n",
    "    suma = suma + numero\n",
    "print(suma)"
   ]
  },
  {
   "cell_type": "markdown",
   "metadata": {},
   "source": [
    "La función **enumerate** permite iterar un string o estructura de datos guardando el índice de cada elemento."
   ]
  },
  {
   "cell_type": "code",
   "execution_count": 52,
   "metadata": {},
   "outputs": [
    {
     "name": "stdout",
     "output_type": "stream",
     "text": [
      "0 / h\n",
      "1 / o\n",
      "2 / l\n",
      "3 / a\n"
     ]
    }
   ],
   "source": [
    "for index, value in enumerate(\"hola\"):\n",
    "    print(str(index) + \" / \" + str(value))\n",
    "    "
   ]
  },
  {
   "cell_type": "markdown",
   "metadata": {
    "slideshow": {
     "slide_type": "slide"
    }
   },
   "source": [
    "La función **range** permite crear listas para la iteración con **for**"
   ]
  },
  {
   "cell_type": "code",
   "execution_count": 53,
   "metadata": {},
   "outputs": [
    {
     "name": "stdout",
     "output_type": "stream",
     "text": [
      "1 es un número impar\n",
      "3 es un número impar\n",
      "5 es un número impar\n",
      "7 es un número impar\n",
      "9 es un número impar\n"
     ]
    }
   ],
   "source": [
    "for impar in range(1,10,2) :\n",
    "    print(str(impar) + \" es un número impar\")"
   ]
  },
  {
   "cell_type": "markdown",
   "metadata": {
    "slideshow": {
     "slide_type": "slide"
    }
   },
   "source": [
    "### Recorrer diccionarios"
   ]
  },
  {
   "cell_type": "code",
   "execution_count": 54,
   "metadata": {},
   "outputs": [
    {
     "name": "stdout",
     "output_type": "stream",
     "text": [
      "El código RGB de rojo es (255, 0, 0)\n",
      "El código RGB de verde es (0, 255, 0)\n",
      "El código RGB de azul es (0, 0, 255)\n"
     ]
    }
   ],
   "source": [
    "dicc = { 'rojo' : (255,0,0), 'verde': (0,255,0), 'azul' : (0,0,255) }\n",
    "for color in dicc :\n",
    "    print(\"El código RGB de \" +color+ \" es \" + str(dicc[color]))"
   ]
  },
  {
   "cell_type": "code",
   "execution_count": 55,
   "metadata": {
    "slideshow": {
     "slide_type": "fragment"
    }
   },
   "outputs": [
    {
     "name": "stdout",
     "output_type": "stream",
     "text": [
      "El código RGB de rojo es (255, 0, 0)\n",
      "El código RGB de verde es (0, 255, 0)\n",
      "El código RGB de azul es (0, 0, 255)\n"
     ]
    }
   ],
   "source": [
    "for color in dicc.keys() :\n",
    "    print(\"El código RGB de \" +color+ \" es \" + str(dicc[color]))"
   ]
  },
  {
   "cell_type": "code",
   "execution_count": 56,
   "metadata": {
    "slideshow": {
     "slide_type": "slide"
    }
   },
   "outputs": [
    {
     "name": "stdout",
     "output_type": "stream",
     "text": [
      "(255, 0, 0)\n",
      "(0, 255, 0)\n",
      "(0, 0, 255)\n"
     ]
    }
   ],
   "source": [
    "for rgb in dicc.values() :\n",
    "    print(str(rgb))"
   ]
  },
  {
   "cell_type": "code",
   "execution_count": 57,
   "metadata": {
    "slideshow": {
     "slide_type": "fragment"
    }
   },
   "outputs": [
    {
     "name": "stdout",
     "output_type": "stream",
     "text": [
      "El código RGB de rojo es (255, 0, 0)\n",
      "El código RGB de verde es (0, 255, 0)\n",
      "El código RGB de azul es (0, 0, 255)\n"
     ]
    }
   ],
   "source": [
    "for color, rgb in dicc.items() :\n",
    "    print(\"El código RGB de \" +color+ \" es \" + str(rgb))"
   ]
  },
  {
   "cell_type": "markdown",
   "metadata": {
    "slideshow": {
     "slide_type": "slide"
    }
   },
   "source": [
    "## Construcción de listas por comprensión\n",
    "La comprensión de listas permite crear listas usando una sintaxis similar a la que se usa en teoría de conjuntos.\n",
    "\n",
    "S = { 2 * x | x in { 0 .. 9 } }"
   ]
  },
  {
   "cell_type": "code",
   "execution_count": 58,
   "metadata": {},
   "outputs": [
    {
     "name": "stdout",
     "output_type": "stream",
     "text": [
      "[0, 2, 4, 6, 8, 10, 12, 14, 16, 18]\n"
     ]
    }
   ],
   "source": [
    "s = [ 2 * x for x in range(10) ]\n",
    "print( s )"
   ]
  },
  {
   "cell_type": "markdown",
   "metadata": {
    "slideshow": {
     "slide_type": "slide"
    }
   },
   "source": [
    "Se puede usar condicionales en la comprensión de listas."
   ]
  },
  {
   "cell_type": "code",
   "execution_count": 59,
   "metadata": {},
   "outputs": [
    {
     "name": "stdout",
     "output_type": "stream",
     "text": [
      "[0, 6, 12, 18]\n"
     ]
    }
   ],
   "source": [
    "s = [ 2 * x for x in range(10) if x % 3 == 0 ]\n",
    "print(s)"
   ]
  },
  {
   "cell_type": "markdown",
   "metadata": {
    "slideshow": {
     "slide_type": "fragment"
    }
   },
   "source": [
    "Es posible recorrer más de una variable."
   ]
  },
  {
   "cell_type": "code",
   "execution_count": 60,
   "metadata": {},
   "outputs": [
    {
     "name": "stdout",
     "output_type": "stream",
     "text": [
      "[('a', '1'), ('a', '2'), ('b', '1'), ('b', '2'), ('c', '1'), ('c', '2')]\n"
     ]
    }
   ],
   "source": [
    "s = [ (x,y) for x in ['a','b','c'] for y in ['1','2'] ]\n",
    "print(s )"
   ]
  },
  {
   "cell_type": "markdown",
   "metadata": {
    "slideshow": {
     "slide_type": "slide"
    }
   },
   "source": [
    "## Construcción de diccionarios por comprensión"
   ]
  },
  {
   "cell_type": "code",
   "execution_count": 61,
   "metadata": {},
   "outputs": [
    {
     "name": "stdout",
     "output_type": "stream",
     "text": [
      "{'Rojo': 4, 'Azul': 4, 'Verde': 5}\n"
     ]
    }
   ],
   "source": [
    "s = { x : len(x) for x in ['Rojo','Azul','Verde'] }\n",
    "print(s)"
   ]
  },
  {
   "cell_type": "markdown",
   "metadata": {},
   "source": [
    "\n",
    "Al igual que con las listas, se pueden usar más de una variable y usar condicionales."
   ]
  },
  {
   "cell_type": "code",
   "execution_count": 62,
   "metadata": {},
   "outputs": [
    {
     "name": "stdout",
     "output_type": "stream",
     "text": [
      "{'Azul Oscuro': 11, 'Azul Claro': 10, 'Verde Oscuro': 12, 'Verde Claro': 11}\n"
     ]
    }
   ],
   "source": [
    "s = { z:len(z) for z in [ x+\" \"+y for x in ['Rojo','Azul','Verde'] if not x.startswith('R') for y in ['Oscuro','Claro'] ] }\n",
    "print(s)"
   ]
  },
  {
   "cell_type": "markdown",
   "metadata": {
    "slideshow": {
     "slide_type": "slide"
    }
   },
   "source": [
    "# Importar funciones y módulos \n",
    "Ya vimos en varios ejemplos como usar funciones de la instalación estándar de python.\n",
    "Sin embargo gran parte de la funcionalidad de python proviene de funciones no incluidas dentro de esta, sino que están incluidas en otros **módulos**."
   ]
  },
  {
   "cell_type": "code",
   "execution_count": 63,
   "metadata": {},
   "outputs": [],
   "source": [
    "import Bio # Carga el módulo de biopython"
   ]
  },
  {
   "cell_type": "markdown",
   "metadata": {
    "slideshow": {
     "slide_type": "fragment"
    }
   },
   "source": [
    "Se puede cargar solo lo necesario de un módulo."
   ]
  },
  {
   "cell_type": "code",
   "execution_count": 64,
   "metadata": {},
   "outputs": [],
   "source": [
    "from numpy import array # Carga 'array' desde el modulo numpy."
   ]
  },
  {
   "cell_type": "markdown",
   "metadata": {
    "slideshow": {
     "slide_type": "fragment"
    }
   },
   "source": [
    "Se puede usar un alias en la importación."
   ]
  },
  {
   "cell_type": "code",
   "execution_count": 65,
   "metadata": {},
   "outputs": [
    {
     "data": {
      "text/plain": [
       "array([1, 2, 4])"
      ]
     },
     "execution_count": 65,
     "metadata": {},
     "output_type": "execute_result"
    }
   ],
   "source": [
    "from numpy import array as ar\n",
    "ar([1,2,4]) # en lugar de array([1,2,4])"
   ]
  },
  {
   "cell_type": "markdown",
   "metadata": {
    "slideshow": {
     "slide_type": "slide"
    }
   },
   "source": [
    "# Definir funciones propias"
   ]
  },
  {
   "cell_type": "markdown",
   "metadata": {},
   "source": [
    "No solo podemos usar la funciones propias de Python, sino que podemos crear las nuestras propias."
   ]
  },
  {
   "cell_type": "code",
   "execution_count": 66,
   "metadata": {},
   "outputs": [
    {
     "data": {
      "text/plain": [
       "{' ': 1,\n",
       " 'A': 1,\n",
       " 'B': 1,\n",
       " 'D': 1,\n",
       " 'E': 1,\n",
       " 'I': 1,\n",
       " 'N': 1,\n",
       " 'O': 1,\n",
       " 'S': 2,\n",
       " 'U': 1}"
      ]
     },
     "execution_count": 66,
     "metadata": {},
     "output_type": "execute_result"
    }
   ],
   "source": [
    "def contarCaracteres( cadena ) :\n",
    "    cadena = cadena.upper()\n",
    "    return { x: cadena.count(x) for x in set(cadena) }\n",
    "\n",
    "contarCaracteres('Buenos dias')"
   ]
  },
  {
   "cell_type": "markdown",
   "metadata": {
    "slideshow": {
     "slide_type": "slide"
    }
   },
   "source": [
    "# Objetos\n",
    "* Los objetos son estructuras que agrupan valores y funciones (o métodos) para esos datos.\n",
    "* Es necesario definir una clase, que es el molde para construir los objetos de ese tipo.\n",
    "* El operador '**.**' (punto)se usa para especificar un método o un valor de un objeto:\n",
    "  * objeto.metodo( argumentos )\n",
    "  * objeto.valor"
   ]
  },
  {
   "cell_type": "markdown",
   "metadata": {
    "slideshow": {
     "slide_type": "slide"
    }
   },
   "source": [
    "* Por ejemplo podemos pensar objetos de una clase particular para representar personas.\n",
    " * Nos interesan algunos datos particulares de las personas: nombre, apellido y DNI.\n",
    " * Nos interesa que las personas **sepan** saludar y decir cual es su DNI."
   ]
  },
  {
   "cell_type": "code",
   "execution_count": 67,
   "metadata": {
    "slideshow": {
     "slide_type": "fragment"
    }
   },
   "outputs": [
    {
     "name": "stdout",
     "output_type": "stream",
     "text": [
      "Laura\n",
      "Mi nombre es Laura Lopez\n"
     ]
    }
   ],
   "source": [
    "class Persona:\n",
    "    def __init__(self, nombre , apellido, dni) :\n",
    "        self.nombre = nombre\n",
    "        self.apellido = apellido\n",
    "        self.dni = dni\n",
    "    def saludar(self) :\n",
    "        return \"Mi nombre es \" + self.nombre + \" \" + self.apellido\n",
    "    def informarDNI(self):\n",
    "        return \"Mi DNI es \" + self.dni\n",
    "    \n",
    "persona_1 = Persona(\"Laura\",\"Lopez\",\"12345678\")\n",
    "\n",
    "print(persona_1.nombre)\n",
    "print(persona_1.saludar())"
   ]
  },
  {
   "cell_type": "markdown",
   "metadata": {
    "slideshow": {
     "slide_type": "slide"
    }
   },
   "source": [
    "# Lectura y escritura de archivos"
   ]
  },
  {
   "cell_type": "markdown",
   "metadata": {},
   "source": [
    "Tanto para leer o escribir un archivo existente, o crear uno nuevo es necesario \"abrirlo\".\n",
    "Esto se hace con la función **open()**. Lo que podemos hacer con ese archivo abierto depende de los argumentos que le pasemos a la función. Finalmente, hay que \"cerrar\" el archivo. Con la función **close()**"
   ]
  },
  {
   "cell_type": "code",
   "execution_count": 68,
   "metadata": {},
   "outputs": [],
   "source": [
    "fh = open( 'mi_archivo.txt', 'w')\n",
    "# El primer argumento es el nombre del archivo, el segundo es el modo de acceso.\n",
    "# En este caso es de escritura 'w' : write\n",
    "fh.write(\"Este es el contenido del archivo\\n\")\n",
    "# \\n representa el caracter de fin de línea.\n",
    "fh.close()"
   ]
  },
  {
   "cell_type": "markdown",
   "metadata": {},
   "source": [
    "Los modos de acceso para archivos de texto son:\n",
    "* w - Write / Escritura\n",
    "* r - Read / Lectura\n",
    "* a - Append / Agrega nuevos datos a un archivo existente\n",
    "* r+ - Read+Write / Lectura y escritura simultánea."
   ]
  },
  {
   "cell_type": "code",
   "execution_count": 69,
   "metadata": {
    "slideshow": {
     "slide_type": "slide"
    }
   },
   "outputs": [
    {
     "name": "stdout",
     "output_type": "stream",
     "text": [
      "@SRR6749457.1.1 - TTCTGGCGCA\n",
      "@SRR6749457.1.2 - TTTTCCTATT\n",
      "@SRR6749457.2.1 - TTAATACCTT\n",
      "@SRR6749457.2.2 - CTTTCCTCCC\n",
      "@SRR6749457.3.1 - TTAATGGTGA\n",
      "@SRR6749457.3.2 - CACAACTAGT\n",
      "@SRR6749457.4.1 - TAATACCAGG\n",
      "@SRR6749457.4.2 - CCTTTAACCT\n",
      "@SRR6749457.5.1 - TTTCAGCACA\n",
      "@SRR6749457.5.2 - TTTCTCTCCC\n"
     ]
    }
   ],
   "source": [
    "filename = 'sam_file.extract.txt'\n",
    "fh = open( filename, 'r')\n",
    "for line in fh :\n",
    "    fields = line.strip().split()\n",
    "    print(fields[0] + \" - \" + fields[1][:10])\n",
    "fh.close()"
   ]
  },
  {
   "cell_type": "markdown",
   "metadata": {
    "slideshow": {
     "slide_type": "slide"
    }
   },
   "source": [
    "Lo mismo se puede hacer usando la sentencia **with**, esta misma se encarga de cerrar el archivo."
   ]
  },
  {
   "cell_type": "code",
   "execution_count": 70,
   "metadata": {
    "scrolled": true,
    "slideshow": {
     "slide_type": "-"
    }
   },
   "outputs": [
    {
     "name": "stdout",
     "output_type": "stream",
     "text": [
      "@SRR6749457.1.1 - TTCTGGCGCA\n",
      "@SRR6749457.1.2 - TTTTCCTATT\n",
      "@SRR6749457.2.1 - TTAATACCTT\n",
      "@SRR6749457.2.2 - CTTTCCTCCC\n",
      "@SRR6749457.3.1 - TTAATGGTGA\n",
      "@SRR6749457.3.2 - CACAACTAGT\n",
      "@SRR6749457.4.1 - TAATACCAGG\n",
      "@SRR6749457.4.2 - CCTTTAACCT\n",
      "@SRR6749457.5.1 - TTTCAGCACA\n",
      "@SRR6749457.5.2 - TTTCTCTCCC\n"
     ]
    }
   ],
   "source": [
    "filename = 'sam_file.extract.txt'\n",
    "with open( filename, 'r') as fh:\n",
    "    for line in fh :\n",
    "        fields = line.strip().split()\n",
    "        print(fields[0] + \" - \" + fields[1][:10])"
   ]
  },
  {
   "cell_type": "markdown",
   "metadata": {
    "slideshow": {
     "slide_type": "slide"
    }
   },
   "source": [
    "# Expresiones regulares\n",
    "Si se tienen las siguientes cadenas.\n",
    "* 'a'\n",
    "* 'aa'\n",
    "* 'aaa'\n",
    "* 'aaaa'\n",
    "* etc...\n",
    "Todas tienen algo en común, son sucesiones de 'a' y pueden ser representadas con una **expresión regular**.\n",
    "Las expresiones regulares se describen con cadenas de caracteres donde algunos símbolos tienen un significado especial. En particular, para este caso la expresión regular es \"a+\". Significa 'la letra a una o más veces'."
   ]
  },
  {
   "cell_type": "markdown",
   "metadata": {
    "slideshow": {
     "slide_type": "slide"
    }
   },
   "source": [
    "| Símbolo | Significado                                             |\n",
    "|---------|---------------------------------------------------------|\n",
    "| .       | Reconoce cualquier caracter                             |\n",
    "| *       | Reconoce el último caracter cero o más veces            |\n",
    "| +       | Reconoce el último caracter una o más veces             |\n",
    "| ?       | Reconoce el último caracter cero o una vez              |\n",
    "| ^       | Reconoce el inicio de un string                         |\n",
    "| $       | Reconoce el fin de un string                            |\n",
    "| []      | Reconoce un subconjunto de caracteres (dentro de [])    |\n",
    "| ()      | Define grupos. Útil para hacer reemplazos               |\n",
    "| \\       | Símbolo de escape para caracteres especiales            |\n",
    "\n",
    "\n",
    "\n"
   ]
  },
  {
   "cell_type": "markdown",
   "metadata": {
    "slideshow": {
     "slide_type": "slide"
    }
   },
   "source": [
    "## Algunos ejemplos\n",
    "* Cadenas de ácidos nucleicos : **^[ACTGNactgn-]+\\$**\n",
    "* pfam_acc : **^PF[0-9][0-9][0-9][0-9][0-9]\\$** o **^PF[0-9]{5}\\$** o **^PF\\d{5}\\$**"
   ]
  },
  {
   "cell_type": "markdown",
   "metadata": {
    "slideshow": {
     "slide_type": "slide"
    }
   },
   "source": [
    "## Búsqueda y substitución de expresiones regulares\n",
    "El módulo **re** permite hacer búsquedas y reemplazos de expresiones regulares."
   ]
  },
  {
   "cell_type": "code",
   "execution_count": 71,
   "metadata": {},
   "outputs": [
    {
     "name": "stdout",
     "output_type": "stream",
     "text": [
      "PF00001 es un pfam accesion válido\n",
      "PF89347 es un pfam accesion válido\n",
      "PF213314 no un pfam accesion válido\n"
     ]
    }
   ],
   "source": [
    "import re\n",
    "ids = ['PF00001','PF89347','PF213314']\n",
    "pattern = re.compile(\"^PF[0-9][0-9][0-9][0-9][0-9]$\")\n",
    "for id in ids:\n",
    "    m = pattern.match(id)\n",
    "    if m : print(m.group() + \" es un pfam accesion válido\")\n",
    "    else : print(id + \" no un pfam accesion válido\")"
   ]
  },
  {
   "cell_type": "code",
   "execution_count": 72,
   "metadata": {
    "slideshow": {
     "slide_type": "fragment"
    }
   },
   "outputs": [
    {
     "data": {
      "text/plain": [
       "'El DNI de Laura Lopez es 12345678'"
      ]
     },
     "execution_count": 72,
     "metadata": {},
     "output_type": "execute_result"
    }
   ],
   "source": [
    "a = 'DNI:12345678;Laura Lopez'\n",
    "pattern = re.compile(\"^(DNI):([0-9]+);(.+)$\")\n",
    "re.sub( pattern, 'El \\\\1 de \\\\3 es \\\\2', a )\n",
    "#re.sub( r\"^(DNI):([0-9]+);(.+)$\", 'El \\\\1 de \\\\3 es \\\\2', a )\n"
   ]
  },
  {
   "cell_type": "markdown",
   "metadata": {
    "slideshow": {
     "slide_type": "slide"
    }
   },
   "source": [
    "## Otras funciones importantes para usar con expresiones regulares\n",
    "* re.search : Busca una expresión regular en cualquier parte de un string. Devuelve solo el primer resultado.\n",
    "* re.split : Divide un string por una expresión regular.\n",
    "* re.findall : Encuentra todas las ocurrencias de la expresión regular en un string."
   ]
  },
  {
   "cell_type": "code",
   "execution_count": 73,
   "metadata": {
    "slideshow": {
     "slide_type": "skip"
    }
   },
   "outputs": [
    {
     "name": "stdout",
     "output_type": "stream",
     "text": [
      "None\n",
      "ccb\n",
      "ccb\n",
      "cccccb\n"
     ]
    }
   ],
   "source": [
    "s = \"aaabccbdddbaaabcccccb\"\n",
    "exp = re.compile(\"c+b\")\n",
    "m1 = exp.match( s )\n",
    "print(m1)\n",
    "m2 = exp.search( s )\n",
    "print (m2.group())\n",
    "m3 = exp.findall( s )\n",
    "for mx in m3 :\n",
    "    print (mx)"
   ]
  },
  {
   "cell_type": "markdown",
   "metadata": {},
   "source": [
    "## Donde obtener la documentación de las expresiones regulares\n",
    "\n",
    "https://docs.python.org/3.4/library/re.html"
   ]
  },
  {
   "cell_type": "markdown",
   "metadata": {
    "slideshow": {
     "slide_type": "slide"
    }
   },
   "source": [
    "# Ejecutar comandos externos en python\n",
    "* Python permite ejecutar procesos externos y recuperar los datos de su salida.\n",
    "* Todos los procesos que se ejecutan en una PC, tienen tres (al menos) __buffers__ de memoria que pueden usarse para comunicarse con otros procesos:\n",
    " * Entrada estándar : stdin . Permite leer datos provistos por otros programas o el usuario.\n",
    " * Salida estándar : stdout . Escribe los resultados.\n",
    " * Error estándar : stderr  . Informa de errores en la ejecución.\n",
    "<img style=\"width:45%\" src='images/std_buffers.png'>"
   ]
  },
  {
   "cell_type": "code",
   "execution_count": 74,
   "metadata": {
    "slideshow": {
     "slide_type": "slide"
    }
   },
   "outputs": [],
   "source": [
    "import subprocess\n",
    "from subprocess import PIPE"
   ]
  },
  {
   "cell_type": "code",
   "execution_count": 75,
   "metadata": {},
   "outputs": [
    {
     "name": "stdout",
     "output_type": "stream",
     "text": [
      "Error code:0\n",
      "exercises.ipynb\n",
      "Presentation.ipynb\n",
      "secuencias_filtered.txt\n",
      "images\n",
      "Presentation.slides.html\n",
      "secuencias.txt\n",
      "makeIndex.py\n",
      "README.md\n",
      "mi_archivo.txt\n",
      "sam_file.extract.txt\n"
     ]
    }
   ],
   "source": [
    "comando = 'dir'\n",
    "p = subprocess.run([comando], stdout = PIPE)\n",
    "print( \"Error code:\" + str( p.returncode ) )\n",
    "for archivo in p.stdout.split(): \n",
    "    print( str( archivo.decode('UTF-8')) )"
   ]
  },
  {
   "cell_type": "markdown",
   "metadata": {
    "slideshow": {
     "slide_type": "-"
    }
   },
   "source": [
    "Donde obtener la documentación de **subprocess**<br>\n",
    "https://docs.python.org/3/library/subprocess.html"
   ]
  },
  {
   "cell_type": "markdown",
   "metadata": {
    "slideshow": {
     "slide_type": "slide"
    }
   },
   "source": [
    "# Manejo de archivos\n",
    "Python ofrece funciones para realizar tareas comunes con archivos y carpetas como copiar, mover, etc.\n"
   ]
  },
  {
   "cell_type": "markdown",
   "metadata": {},
   "source": [
    "Para tener esta funcionalidad es necesario cargar el módulo **os**, **os.path** y shutil"
   ]
  },
  {
   "cell_type": "code",
   "execution_count": 76,
   "metadata": {},
   "outputs": [],
   "source": [
    "import os\n",
    "import os.path as path\n",
    "import shutil"
   ]
  },
  {
   "cell_type": "markdown",
   "metadata": {
    "slideshow": {
     "slide_type": "slide"
    }
   },
   "source": [
    "## Obtener y cambiar la carpeta de trabajo"
   ]
  },
  {
   "cell_type": "code",
   "execution_count": 77,
   "metadata": {},
   "outputs": [
    {
     "name": "stdout",
     "output_type": "stream",
     "text": [
      "Current working folder: /home/curso/python-leloir-course\n",
      "New working folder: /home/curso/python-leloir-course/images\n"
     ]
    }
   ],
   "source": [
    "oldDir = os.getcwd()\n",
    "print( \"Current working folder: \" + oldDir )\n",
    "newDir = os.path.join( oldDir,'images')\n",
    "print( \"New working folder: \" + newDir )\n",
    "os.chdir( newDir )\n",
    "\n",
    "# Vuelve a la directorio inicial\n",
    "os.chdir( oldDir )"
   ]
  },
  {
   "cell_type": "markdown",
   "metadata": {
    "slideshow": {
     "slide_type": "slide"
    }
   },
   "source": [
    "## Crear una carpeta"
   ]
  },
  {
   "cell_type": "code",
   "execution_count": 78,
   "metadata": {},
   "outputs": [],
   "source": [
    "folder = 'mi_carpeta'\n",
    "if not os.path.exists( folder ) :\n",
    "    os.mkdir(folder)"
   ]
  },
  {
   "cell_type": "markdown",
   "metadata": {
    "slideshow": {
     "slide_type": "fragment"
    }
   },
   "source": [
    "## Listar archivos"
   ]
  },
  {
   "cell_type": "code",
   "execution_count": 79,
   "metadata": {},
   "outputs": [
    {
     "name": "stdout",
     "output_type": "stream",
     "text": [
      "['.ipynb_checkpoints', 'makeIndex.py', 'mi_archivo.txt', 'README.md', 'mi_carpeta', 'secuencias.txt', '.git', '.gitignore', 'exercises.ipynb', 'sam_file.extract.txt', 'secuencias_filtered.txt', 'images', 'Presentation.ipynb', 'Presentation.slides.html']\n"
     ]
    }
   ],
   "source": [
    "print( os.listdir() )"
   ]
  },
  {
   "cell_type": "markdown",
   "metadata": {
    "slideshow": {
     "slide_type": "fragment"
    }
   },
   "source": [
    "## Elimimar una carpeta"
   ]
  },
  {
   "cell_type": "code",
   "execution_count": 80,
   "metadata": {},
   "outputs": [],
   "source": [
    "os.rmdir(folder) # Cuidado, realmente van a borrar una carpeta !!"
   ]
  },
  {
   "cell_type": "markdown",
   "metadata": {
    "slideshow": {
     "slide_type": "slide"
    }
   },
   "source": [
    "## Copiar archivos "
   ]
  },
  {
   "cell_type": "code",
   "execution_count": 81,
   "metadata": {},
   "outputs": [
    {
     "data": {
      "text/plain": [
       "'README.md.copia'"
      ]
     },
     "execution_count": 81,
     "metadata": {},
     "output_type": "execute_result"
    }
   ],
   "source": [
    "shutil.copy( 'README.md', 'README.md.copia' )"
   ]
  },
  {
   "cell_type": "markdown",
   "metadata": {
    "slideshow": {
     "slide_type": "-"
    }
   },
   "source": [
    "## Mover archivos\n"
   ]
  },
  {
   "cell_type": "code",
   "execution_count": 82,
   "metadata": {},
   "outputs": [
    {
     "data": {
      "text/plain": [
       "'README.md.copia2'"
      ]
     },
     "execution_count": 82,
     "metadata": {},
     "output_type": "execute_result"
    }
   ],
   "source": [
    "shutil.move('README.md.copia' ,'README.md.copia2')"
   ]
  },
  {
   "cell_type": "markdown",
   "metadata": {},
   "source": [
    "## Borrar archivos"
   ]
  },
  {
   "cell_type": "code",
   "execution_count": 83,
   "metadata": {},
   "outputs": [],
   "source": [
    "os.remove( 'README.md.copia2' )"
   ]
  },
  {
   "cell_type": "markdown",
   "metadata": {},
   "source": [
    "## Más info:\n",
    "\n",
    "* https://docs.python.org/3/library/shutil.html\n",
    "* https://docs.python.org/3/library/os.html\n",
    "* https://docs.python.org/3/library/os.path.html"
   ]
  }
 ],
 "metadata": {
  "celltoolbar": "Slideshow",
  "kernelspec": {
   "display_name": "Python 3",
   "language": "python",
   "name": "python3"
  },
  "language_info": {
   "codemirror_mode": {
    "name": "ipython",
    "version": 3
   },
   "file_extension": ".py",
   "mimetype": "text/x-python",
   "name": "python",
   "nbconvert_exporter": "python",
   "pygments_lexer": "ipython3",
   "version": "3.6.4"
  }
 },
 "nbformat": 4,
 "nbformat_minor": 2
}
