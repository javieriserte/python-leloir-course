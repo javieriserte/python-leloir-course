{
 "cells": [
  {
   "cell_type": "markdown",
   "metadata": {},
   "source": [
    "# BioPython: nuestra media naranja"
   ]
  },
  {
   "cell_type": "markdown",
   "metadata": {},
   "source": [
    "**[BioPython](http://biopython.org)** es un paquete de herramientas diseñadas para facilitar el trabajo computacional en Biología Molecular. BioPython proporciona métodos confiables y fáciles de ejecutar para procesar distintos tipos de archivo (FASTA, BLAST, GenBank, PDB...), acceder a servicios online (como el NCBI) o instalables (programas de alineamiento, de filogenia, de modelado molecular, etc.), y construir *pipelines* bioinformáticos que combinen múltiples herramientas bioinformáticas."
   ]
  },
  {
   "cell_type": "markdown",
   "metadata": {},
   "source": [
    "## Instalación"
   ]
  },
  {
   "cell_type": "markdown",
   "metadata": {},
   "source": [
    "Las instrucciones para descargar e instalar BioPython están disponibles en su [página oficial](http://biopython.org/wiki/Download)."
   ]
  },
  {
   "cell_type": "markdown",
   "metadata": {},
   "source": [
    "Si utilizan la distribución oficial de python pueden instalar BioPython utilizando la herramienta de manejo de paquetes **`pip`**. Ésta viene incorporada a Python 2 y 3 a partir de las versiones 2.7.9 y 3.4."
   ]
  },
  {
   "cell_type": "markdown",
   "metadata": {},
   "source": [
    "Se recomienda actualizar `pip` antes de utilizarlo para instalar otros paquetes. Para eso, en Linux o macOS, deben ejecutar en la línea de comando:"
   ]
  },
  {
   "cell_type": "markdown",
   "metadata": {},
   "source": [
    "`pip install -U pip`"
   ]
  },
  {
   "cell_type": "markdown",
   "metadata": {},
   "source": [
    "Si utilizan Windows, el comando es:"
   ]
  },
  {
   "cell_type": "markdown",
   "metadata": {},
   "source": [
    "`python -m pip install -U pip`"
   ]
  },
  {
   "cell_type": "markdown",
   "metadata": {},
   "source": [
    "Luego sí procedan a instalar biopython, siguiendo la sintaxis tradicional de instalación de paquetes a través de pip:"
   ]
  },
  {
   "cell_type": "markdown",
   "metadata": {},
   "source": [
    "`pip install biopython`"
   ]
  },
  {
   "cell_type": "markdown",
   "metadata": {},
   "source": [
    "En el caso de utilizar Anaconda, la forma recomendada de instalar BioPython es con el siguiente comando:"
   ]
  },
  {
   "cell_type": "markdown",
   "metadata": {},
   "source": [
    "`conda install -c conda-forge biopython`"
   ]
  },
  {
   "cell_type": "markdown",
   "metadata": {},
   "source": [
    "## Lectura de secuencias con BioPython"
   ]
  },
  {
   "cell_type": "markdown",
   "metadata": {},
   "source": [
    "Aprenderemos algunas de las funciones más básicas que nos provee BioPython. Para aprender más les sugerimos visitar [BioPython Tutorial and Cookbook](http://biopython.org/DIST/docs/tutorial/Tutorial.html)."
   ]
  },
  {
   "cell_type": "markdown",
   "metadata": {},
   "source": [
    "### Sistema de estudio"
   ]
  },
  {
   "cell_type": "markdown",
   "metadata": {},
   "source": [
    "Trabajaremos con la secuencia del genoma del arquea *Methanocaldococcus jannaschii*. Su código de identificación en la base de datos GenBank es [NC_000909](https://www.ncbi.nlm.nih.gov/nuccore/NC_000909) y desde allí pueden descargar el genoma en formato GenBank y FASTA (aunque no es necesario: en la carpeta de trabajo encontrarán los archivos **NC_000909.1.gb** y **NC_000909.1.fasta**)."
   ]
  },
  {
   "cell_type": "markdown",
   "metadata": {},
   "source": [
    "### Clases y Objetos en Python"
   ]
  },
  {
   "cell_type": "markdown",
   "metadata": {},
   "source": [
    "En Python, al igual que en otros lenguajes de programación \"orientados a objetos\", existen los conceptos de **clase** y **objeto**. No hay ningún inconveniente en programar en Python sin utilizar clases ni objetos. Sin embargo, cuando la complejidad de nuestros programas aumente, el uso de clases nos dará mayor organización y control, al agrupar datos y funciones que van asociados y suelen presentarse repetidas veces en nuestro código.\n",
    "\n",
    "Si la vida real fuera \"orientada a objetos\", existiría una clase *Humano* con **atributos** como *altura*, *peso*, *género*, *color de ojos*, etc. Esa clase también tendría **métodos** como *respirar*, *caminar*, *pensar*, etc. Cada una de las personas que habitan en el mundo sería un objeto de la clase Humano, con valores particulares para los atributos de su clase y capaz de ejecutar los métodos que la clase le permite."
   ]
  },
  {
   "cell_type": "markdown",
   "metadata": {},
   "source": [
    "### El objeto *SeqRecord* de BioPython"
   ]
  },
  {
   "cell_type": "markdown",
   "metadata": {},
   "source": [
    "BioPython utiliza un objeto de la clase `SeqRecord` para almacenar las secuencias biológicas. Estos objetos contiene una secuencia e información acerca de la misma. Sus atributos principales con `id`, con un código que identifica a la secuencia, y `seq`, que guarda la secuencia en sí. Además posee atributos como `name`, `description`, `annotations`, etc."
   ]
  },
  {
   "cell_type": "markdown",
   "metadata": {
    "collapsed": true
   },
   "source": [
    "Los objetos `SeqRecord` pueden crearse con el módulo `SeqIO`. Cuando tenemos una sola secuencia en nuestro archivo, podemos utilizar el módulo `SeqIO.read` para leer el contenido de un archivo y guardarlo en un objeto de tipo `SeqRecord`, que aquí llamamos `record`:"
   ]
  },
  {
   "cell_type": "code",
   "execution_count": null,
   "metadata": {},
   "outputs": [],
   "source": [
    "# Importamos el módulo SeqIO de BioPython\n",
    "from Bio import SeqIO\n",
    "\n",
    "# Leemos la secuencia en una variable objeto de tipo SeqRecord\n",
    "record = SeqIO.read(\"data/NC_000909.1.gb\",\"genbank\")"
   ]
  },
  {
   "cell_type": "markdown",
   "metadata": {},
   "source": [
    "Podemos conocer más acerca de la información contenida en este *record*:"
   ]
  },
  {
   "cell_type": "code",
   "execution_count": null,
   "metadata": {},
   "outputs": [],
   "source": [
    "# Imprimimos información básica sobre el contenido de este record\n",
    "print(record)"
   ]
  },
  {
   "cell_type": "markdown",
   "metadata": {},
   "source": [
    "El comando `dir` de Python nos permite conocer los métodos y atributos disponibles para el objeto `record` (los que empiezan con '__' son métodos especiales y no están disponibles):"
   ]
  },
  {
   "cell_type": "code",
   "execution_count": null,
   "metadata": {},
   "outputs": [],
   "source": [
    "# Imprimimos los métodos y atributos disponibles para nuestro objeto 'record', propios de su clase\n",
    "dir(record)"
   ]
  },
  {
   "cell_type": "markdown",
   "metadata": {},
   "source": [
    "Por ejemplo, si nos interesa una descripción breve de a qué pertenece esta secuencia, podemos imprimir el atributo `description`:"
   ]
  },
  {
   "cell_type": "code",
   "execution_count": null,
   "metadata": {},
   "outputs": [],
   "source": [
    "# Imprimimos la descripción de la secuencia. ¡COMPLETAR!\n",
    "record."
   ]
  },
  {
   "cell_type": "markdown",
   "metadata": {},
   "source": [
    "Si queremos conocer su secuencia de nucleótidos o aminoácidos, podemos utilizar el atributo `seq`:"
   ]
  },
  {
   "cell_type": "code",
   "execution_count": null,
   "metadata": {},
   "outputs": [],
   "source": [
    "# Imprimimos la secuencia guardada en record. ¡COMPLETAR!\n",
    "record."
   ]
  },
  {
   "cell_type": "markdown",
   "metadata": {},
   "source": [
    "¿Por qué obtenemos algo más que la secuencia? Esto es así porque, según podemos verificar a continuación, el atributo `seq` pertenece a la clase `Seq` incluida en BioPython:"
   ]
  },
  {
   "cell_type": "code",
   "execution_count": null,
   "metadata": {},
   "outputs": [],
   "source": [
    "# Imprimimos el tipo de objeto al que pertenece el atributo 'seq'. ¡COMPLETAR!\n",
    "type()"
   ]
  },
  {
   "cell_type": "markdown",
   "metadata": {},
   "source": [
    "Los objetos de clase `Seq` poseen, además de la secuencia, un atributo `Alphabet` que describe el tipo de caracteres que puede tener la secuencia. El uso de alfabetos es importante para controlar la conversión y compatibilidad de secuencias entre distintos tipos de moléculas biológicas, y resulta particularmente útil para identificar secuencias como *GATTACA* que podrían referir a cadenas nucleotídicas o aminoacídicas.\n",
    "\n",
    "La librería `Alphabet` incluye variables para definir [alfabetos genéricos](http://biopython.org/DIST/docs/api/Bio.Alphabet-module.html). La mayoría de los alfabetos estandarizados están almacenados en el submódulo [`IUPAC`](http://biopython.org/DIST/docs/api/Bio.Alphabet.IUPAC-module.html) de la librería `Alphabet`. Si quisiéramos saber qué caracteres puede tener una secuencia cuyo alfabeto es de la clase *IUPACAmbiguousDNA()*, podemos importar este submódulo e imprimir su atributo `letters`:"
   ]
  },
  {
   "cell_type": "code",
   "execution_count": null,
   "metadata": {},
   "outputs": [],
   "source": [
    "# Importamos la clase que nos interesa\n",
    "from Bio.Alphabet import IUPAC\n",
    "# Imprimimos los caracteres admitidos\n",
    "IUPAC.ambiguous_dna.letters"
   ]
  },
  {
   "cell_type": "markdown",
   "metadata": {},
   "source": [
    "Si sólo quisiéramos imprimir la secuencia del objeto como un *string* de Python, podemos recurrir a la función `print()`. ¡ATENCIÓN! Si la secuencia es muy larga, al imprimirla en pantalla corremos el riesgo de colgar el sistema. Veamos cuál es la longitud de esta secuencia:"
   ]
  },
  {
   "cell_type": "code",
   "execution_count": null,
   "metadata": {},
   "outputs": [],
   "source": [
    "# Imprimimos la longitud de la secuencia. ¡COMPLETAR!\n",
    "(record.seq)"
   ]
  },
  {
   "cell_type": "markdown",
   "metadata": {},
   "source": [
    "Imprimamos entonces sólo un segmento de esta secuencia (por ejemplo, las posiciones 1000 a 2000). Para ellos podemos hacer *slicing* de la secuencia completa:"
   ]
  },
  {
   "cell_type": "code",
   "execution_count": null,
   "metadata": {},
   "outputs": [],
   "source": [
    "# Imprimimos sólo la secuencia del record. ¡COMPLETAR!\n",
    "print()"
   ]
  },
  {
   "cell_type": "markdown",
   "metadata": {},
   "source": [
    "Al trabajar con secuencias de ADN guardadas como objetos de la clase `SeqRecord` tenemos disponibles, entre otros, los métodos `complement`, `reverse_complement`, `transcribe` y `translate`, cuyas funciones son evidentes. Estos métodos generan un nuevo objeto de la clase `SeqRecord` que guarda la secuencia transformada. Probemos estos métodos sobre las primeras cien posiciones de nuestra secuencia:"
   ]
  },
  {
   "cell_type": "code",
   "execution_count": null,
   "metadata": {},
   "outputs": [],
   "source": [
    "# Extraemos las primeras 100 posiciones. ¡COMPLETAR!\n",
    "segmento = \n",
    "# imprimimos este segmento\n",
    "print(segmento)\n",
    "# Generamos e imprimimos la secuencia complementaria\n",
    "print(segmento.complement())\n",
    "# Generamos e imprimimos la secuencia inversa complementaria. ¡COMPLETAR!\n",
    "print(segmento.)\n",
    "# Generamos e imprimimos la secuencia transcripta a ARN. ¡COMPLETAR!\n",
    "print(segmento.)\n",
    "# Generamos e imprimimos la secuencia traducida a proteína. ¡COMPLETAR!\n",
    "print(segmento.)\n",
    "# Generamos e impirmimos la traducción de la secuencia complementaria. ¡COMPLETAR!\n",
    "print(segmento..)\n"
   ]
  },
  {
   "cell_type": "markdown",
   "metadata": {
    "collapsed": true
   },
   "source": [
    "Podemos utilizar BioPython para convertir nuestra secuencia tomada del archivo en formato GenBank al formato FASTA:"
   ]
  },
  {
   "cell_type": "code",
   "execution_count": null,
   "metadata": {},
   "outputs": [],
   "source": [
    "print(record.format(\"fasta\"))"
   ]
  },
  {
   "cell_type": "markdown",
   "metadata": {},
   "source": [
    "Por supuesto, también podríamos haber guardado nuestra secuencia así convertida a un archivo con el nombre que quisiéramos, por ejemplo, `NC_000909.1_convert.fasta`. Para eso, usamos el método `SeqIO.write` (que, además de guardar la secuencia en un archivo, nos devuelve el número de secuencias incluidas):"
   ]
  },
  {
   "cell_type": "code",
   "execution_count": null,
   "metadata": {},
   "outputs": [],
   "source": [
    "# Importamos la librería de lectura y escritura de secuencias SeqIO\n",
    "from Bio import SeqIO\n",
    "# Guardamos nuestro record en un archivo en formato fasta\n",
    "SeqIO.write(record, \"NC_000909.1_convert.fasta\", \"fasta\")"
   ]
  },
  {
   "cell_type": "markdown",
   "metadata": {},
   "source": [
    "Hasta aquí hemos trabajado con archivos que contenían una única secuencia, a los que leíamos con el método `SeqIO.read()`. BioPython también nos proporciona el módulo `SeqIO.parse()` para leer archivos y alineamientos que contienen dos o más secuencias. Vamos a utilizarlo para leer el contenido del alineamiento guardado en el archivo **NUP62.fasta** como un objeto `SeqRecord`:"
   ]
  },
  {
   "cell_type": "code",
   "execution_count": null,
   "metadata": {},
   "outputs": [],
   "source": [
    "# Importamos la librería de lectura y escritura de secuencias SeqIO\n",
    "from Bio import SeqIO\n",
    "# Leemos todas las secuencias en una variable objeto de tipo SeqRecord\n",
    "records = SeqIO.parse(\"data/NUP62.fasta\", \"fasta\")"
   ]
  },
  {
   "cell_type": "markdown",
   "metadata": {},
   "source": [
    "Podemos utilizar un bucle `for` para recorrer las distintos elementos de nuestro nuevo objeto *records* y recuperar información de cada una de las secuencias. Por ejemplo, para extraer el código identificador de cada secuencia:"
   ]
  },
  {
   "cell_type": "code",
   "execution_count": null,
   "metadata": {},
   "outputs": [],
   "source": [
    "# Recorremos uno a uno todos los records\n",
    "for record in records:\n",
    "# Imprimimos el identificador de cada record\n",
    "    print(record.id)"
   ]
  },
  {
   "cell_type": "markdown",
   "metadata": {},
   "source": [
    "BioPython nos permite trabajar con muchos formatos de archivo diferentes, incluyendo los archivos con formato *PDB* que almacenan estructuras moleculares. El módulo `Bio.PDB` proporciona métodos para explorar el contenido del encabezado típico de los archivos PDB, pero sobre todo, nos provee de muchas herramientas para trabajar con los datos de los átomos en estas estructuras."
   ]
  },
  {
   "cell_type": "markdown",
   "metadata": {},
   "source": [
    "Empezamos por importar el módulo `Bio.PDB` y crear un objeto de la clase `PDBParser`: "
   ]
  },
  {
   "cell_type": "code",
   "execution_count": null,
   "metadata": {},
   "outputs": [],
   "source": [
    "# Importamos el módulo para trabajar con archivos PDB\n",
    "from Bio import PDB\n",
    "\n",
    "# Creamos el objeto 'parser' de la clase PDBParser\n",
    "parser = PDB.PDBParser()"
   ]
  },
  {
   "cell_type": "markdown",
   "metadata": {},
   "source": [
    "Usamos el método `get_structure()` para leer la estructura de un archivo PDB y almacenarla en un objeto al que llamamos `estructura`. El primer argumento de `get_structure` es el nombre que queremos darle a la estructura, mientras que el segundo argumento es el nombre de archivo a leer (en este ejemplo, "
   ]
  },
  {
   "cell_type": "code",
   "execution_count": null,
   "metadata": {},
   "outputs": [],
   "source": [
    "# Leemos la estructura de un archivo PDB dentro de este objeto\n",
    "estructura = parser.get_structure(\"AroA\",\"data/4GFP.pdb\")"
   ]
  },
  {
   "cell_type": "markdown",
   "metadata": {},
   "source": [
    "Podemos explorar el encabezado del archivo PDB llamando al método `header`:"
   ]
  },
  {
   "cell_type": "code",
   "execution_count": null,
   "metadata": {},
   "outputs": [],
   "source": [
    "# Imprimimos el encabezado\n",
    "estructura.header"
   ]
  },
  {
   "cell_type": "markdown",
   "metadata": {},
   "source": [
    "También podemos consultar alguno de los elementos del header, por ejemplo, la resolución (en Angstrom) a la que fue resuelta su estructura cristalográfica:"
   ]
  },
  {
   "cell_type": "code",
   "execution_count": null,
   "metadata": {},
   "outputs": [],
   "source": [
    "# Imprimimos sólo la resolución, disponible en el header. ¡COMPLETAR!\n",
    "estructura."
   ]
  },
  {
   "cell_type": "markdown",
   "metadata": {},
   "source": [
    "Veamos la información acerca de los átomos que está incluida en esta estructura. Primero, investiguemos cuántos modelos fueron incluidos en esta PDB, y cuántas cadenas posee cada uno:"
   ]
  },
  {
   "cell_type": "code",
   "execution_count": null,
   "metadata": {},
   "outputs": [],
   "source": [
    "# Recorremos el objeto 'estructura' e imprimimos los modelos y cadenas incluidos en ésta\n",
    "for modelo in estructura:\n",
    "    for cadena in modelo:\n",
    "        print(modelo, cadena)"
   ]
  },
  {
   "cell_type": "markdown",
   "metadata": {},
   "source": [
    "De forma similar, podemos imprimir el nombre y número de cada uno de los residuos en esta estructura. Buscaremos generar una lista con cuatro campos: el identificador de modelo (`id`), el identificar de cadena (`id`), el nombre de residuo (`resname`) y el identificador del residuo (`id`)."
   ]
  },
  {
   "cell_type": "code",
   "execution_count": null,
   "metadata": {},
   "outputs": [],
   "source": [
    "# Recorremos el objeto 'estructura' e imprimimos sus residuos. ¡COMPLETAR!\n",
    "for modelo in estructura:\n",
    "    for cadena in modelo:\n",
    "        for residuo in cadena:\n",
    "            print(residuo.id)"
   ]
  },
  {
   "cell_type": "markdown",
   "metadata": {},
   "source": [
    "El identificador de residuo (`residue.id`) es una tupla de tres elementos. El primero sólo contiene información cuando el átomo es un heteroátomo (presente en agua, ligando, etc). El segundo identifica la posición del residuo en la secuencia. El tercero es un código de inserción útil para mantener la numeración de la estructura *wild-type* cuando ésta tiene residuos agregados.\n",
    "\n",
    "Vamos a generar una lista de los residuos que no son heteroátomos. Para eso extraemos primero la cadena 'A' del modelo '0':"
   ]
  },
  {
   "cell_type": "code",
   "execution_count": null,
   "metadata": {},
   "outputs": [],
   "source": [
    "# Extraemos la cadena A del modelo 0 en una nueva variable\n",
    "cadena_a = estructura[0]['A']"
   ]
  },
  {
   "cell_type": "markdown",
   "metadata": {},
   "source": [
    "Luego recorremos esta lista, residuo a residuo, y descartando aquellos que son heteroátomos:"
   ]
  },
  {
   "cell_type": "code",
   "execution_count": null,
   "metadata": {},
   "outputs": [],
   "source": [
    "# Generamos una lista de residuos que no son heteroátomos\n",
    "residuos = [ residuo for residuo in cadena_a if residuo.id[0]==' ' ] # No son hetero-residuos (agua, ligandos, etc)"
   ]
  },
  {
   "cell_type": "markdown",
   "metadata": {},
   "source": [
    "Esta lista nos permite obtener distinta información acerca de los residuos de esta cadena. Por ejemplo, podemos imprimir la cantidad de residuos que posee:"
   ]
  },
  {
   "cell_type": "code",
   "execution_count": null,
   "metadata": {},
   "outputs": [],
   "source": [
    "# Imprimimos la cantidad de residuos que no son heteroátomos en la cadena A del modelo 0.\n",
    "len(residuos)"
   ]
  },
  {
   "cell_type": "markdown",
   "metadata": {},
   "source": [
    "Luego, por ejemplo, podemos imprimir las coordenadas tridimensionales del carbono alfa del primer residuo:"
   ]
  },
  {
   "cell_type": "code",
   "execution_count": null,
   "metadata": {},
   "outputs": [],
   "source": [
    "# Imprimimos las coordenadas del primer residuo\n",
    "residuos[0]['CA'].coord"
   ]
  },
  {
   "cell_type": "markdown",
   "metadata": {},
   "source": [
    "Para finalizar este ejercicio (aunque BioPython nos permite hacer muchas cosas más), vamos a calcular la distancia entre los carbonos alfa del primer y el segundo residuos. BioPython nos permite directamente restar las coordenadas de ambos átomos y obtener su distancia como resultado:"
   ]
  },
  {
   "cell_type": "code",
   "execution_count": null,
   "metadata": {},
   "outputs": [],
   "source": [
    "# Calculamos e imprimimos la distancia entre los CA del primer y segundo residuos\n",
    "residuos[0]['CA'] - residuos[1]['CA']"
   ]
  }
 ],
 "metadata": {
  "kernelspec": {
   "display_name": "Python 3",
   "language": "python",
   "name": "python3"
  },
  "language_info": {
   "codemirror_mode": {
    "name": "ipython",
    "version": 3
   },
   "file_extension": ".py",
   "mimetype": "text/x-python",
   "name": "python",
   "nbconvert_exporter": "python",
   "pygments_lexer": "ipython3",
   "version": "3.6.4"
  }
 },
 "nbformat": 4,
 "nbformat_minor": 2
}
