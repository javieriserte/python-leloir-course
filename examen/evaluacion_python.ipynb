{
 "cells": [
  {
   "cell_type": "markdown",
   "metadata": {},
   "source": [
    "# Examen de curso de python\n",
    "\n",
    "Elegir uno de los dos ejercicios de se muestran debajo y entregar una notebook de jupyter con el código y ejemplos de uso.\n"
   ]
  },
  {
   "cell_type": "markdown",
   "metadata": {},
   "source": [
    "## Ejercicio A\n",
    "\n",
    "Escribir una funcion que partiendo de dos listas:\n",
    "+ imprima en pantalla cuál tiene mayor cantidad de elementos.\n",
    "+ o que imprima \"iguales\" si ambas tienen la misma cantidad de elementos.\n",
    "\n",
    "Escribir otra funcion que partiendo de dos listas:\n",
    "+ imprima cuál tiene mayor cantidad de números mayores a 5. \n",
    "+ que devuelva la suma de los números mayores a 5 de la lista que más números mayores a 5 tenga (es decir la lista del punto anterior).\n",
    "+ o que imprima \"iguales\" y que devuelva 0 si ambas tienen la misma cantidad de números mayores a 5.\n",
    "\n",
    "Ayuda: Utilizar algunas de estas listas."
   ]
  },
  {
   "cell_type": "code",
   "execution_count": 2,
   "metadata": {},
   "outputs": [],
   "source": [
    "lista_ejemplo_1 = [1, 3, 4, 2, 16, 5, 1, 9, 2, 2, 4, 7, 17, 1, 10, 3, 4, 2, 9, 5, 6, 11, 40]\n",
    "lista_ejemplo_2 = [4, 12, 16, 71, 2, 20, 4, 7, 17, 51, 10, 3, 1, 7, 9, 11]\n",
    "lista_ejemplo_3 = [2, 12, 1, 41, 2, 71, 9, 2, 20, 4, 7, 12, 3, 1, 5]\n",
    "lista_ejemplo_4 = [71, 9, 2,  2, 3, 12, 16, 5, 51, 10]"
   ]
  },
  {
   "cell_type": "code",
   "execution_count": 70,
   "metadata": {},
   "outputs": [],
   "source": [
    "def funcion1(lista1, lista2):\n",
    "    if len(___) > len(___):\n",
    "        print('___ tiene más elementos que ___')\n",
    "    elif len(___) > len(___):\n",
    "        print('___ tiene más elementos que ___')\n",
    "    else: \n",
    "        print('___')       "
   ]
  },
  {
   "cell_type": "code",
   "execution_count": 5,
   "metadata": {},
   "outputs": [],
   "source": [
    "def funcion2(lista1, lista2):\n",
    "    ___ = []\n",
    "    for i in lista1:\n",
    "        if i > ___:\n",
    "            ___.append(i)\n",
    "\n",
    "    ___ = []\n",
    "    for ___ in lista2:\n",
    "        if ___ > ___:\n",
    "            ___.append(___)\n",
    "              \n",
    "    if len(___) > len(___):\n",
    "        print('lista1 tiene más elementos mayores a 5 que lista2')\n",
    "        return sum(___)\n",
    "    elif len(___) > len(___):\n",
    "        print('lista2 tiene más elementos mayores a 5 que lista1')\n",
    "        return sum(___)\n",
    "    else:\n",
    "        return ___\n"
   ]
  },
  {
   "cell_type": "markdown",
   "metadata": {},
   "source": [
    "### Ejemplo de uso de *funcion2*:\n",
    "\n",
    "```python\n",
    "funcion2(lista_ejemplo_1, lista_ejemplo_2)\n",
    "# Imprime:\n",
    "# 'Lista1 tiene más elementos mayores a 5 que lista2' \n",
    "# Devuelve:\n",
    "# 231\n",
    "```\n"
   ]
  },
  {
   "cell_type": "markdown",
   "metadata": {},
   "source": [
    "## Ejercicio B\n",
    "El archivo entrada.fasta tiene 4 secuencias. \n",
    "+ Cargar el archivo de secuencias entrada fasta.\n",
    "+ Cambiar el *id* de las dos últimas secuencias (Seq_Y y Seq_Z) por Gene3 y Gene4, respectivamente.\n",
    "+ Guardar las secuencias con los nombres corregidos en un archivo con formato clustal.\n",
    "+ Traducir las secuencias a aminoácidos (desde el primer ATG, el cual se encuentra en la posición 10 en las cuatro secuencias) y guardarlas en una lista.\n",
    "+ Buscar para cada secuencia proteica, en qué posición aparece la primer Cisteina (C) (contando de izquierda a derecha).\n",
    "+ Generar un diccionario con los id de cada secuencia como claves y la secuencia de aminoácidos como valores (No importa si guardan como valor las secuencias en objeto Seq o como Strings)\n",
    "\n",
    "Ayudas: Biopython, SeqIO, .find(), .append(), "
   ]
  },
  {
   "cell_type": "code",
   "execution_count": null,
   "metadata": {},
   "outputs": [],
   "source": [
    "from Bio import SeqIO\n",
    "\n",
    "# Completar\n",
    "\n",
    "\n",
    "\n",
    "\n",
    "\n",
    "\n",
    "\n",
    "\n",
    "\n",
    "\n",
    "\n",
    "\n",
    "\n"
   ]
  }
 ],
 "metadata": {
  "kernelspec": {
   "display_name": "Python 3",
   "language": "python",
   "name": "python3"
  },
  "language_info": {
   "codemirror_mode": {
    "name": "ipython",
    "version": 3
   },
   "file_extension": ".py",
   "mimetype": "text/x-python",
   "name": "python",
   "nbconvert_exporter": "python",
   "pygments_lexer": "ipython3",
   "version": "3.6.4"
  }
 },
 "nbformat": 4,
 "nbformat_minor": 2
}
